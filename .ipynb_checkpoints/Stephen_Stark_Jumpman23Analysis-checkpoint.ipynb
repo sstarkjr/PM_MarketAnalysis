{
 "cells": [
  {
   "cell_type": "markdown",
   "metadata": {},
   "source": [
    "# Analysis completed by Stephen Stark\n",
    "# Jumpman23 - Exploratory Data Analysis\n",
    "\n",
    "Jumpman23 is an on-demand delivery platform connecting “Jumpmen” and customers  purchasing a variety of goods. Jumpman23 will send Jumpmen to merchants to purchase and  pickup any items requested by the customer. Whenever possible, Jumpman23 will order the  requested items ahead to save the Jumpmen time. Each time a Jumpman23 delivery is  completed, a record is saved to the Jumpman23 database that contains information about that  delivery. Jumpman23 is growing fast and has just launched in its newest market -- New York City.\n",
    "\n",
    "# Objective\n",
    "The objective of this notebook is to answer the questions:\n",
    "- How are things going in New York?\n",
    "- Are there data integrity issues? \n",
    "    - If so, where are they and how do they impact the analysis?\n",
    "\n",
    "\n",
    "I will use the dataset provided by Postmates. Demographic zip code data is from https://data.ny.gov/"
   ]
  },
  {
   "cell_type": "markdown",
   "metadata": {},
   "source": [
    "# Summary\n",
    "1. [Understand the data](#understand) \\\n",
    "2. [Handling Missing Data](#missing) \n",
    "3. [Feature Engineering](#engineering) \n",
    "4. [EDA](#EDA) \n",
    "5. [Customer Loyalty](#customerloyalty)\n",
    "6. [Zip Code](#zipcode)\n",
    "7.\n",
    "8.\n",
    "9. [Scratch](#scratch)"
   ]
  },
  {
   "cell_type": "markdown",
   "metadata": {},
   "source": [
    "### Understanding the Delivery Process\n",
    "\n",
    "A customer orders something from a business such as a restaurant or grocery store. Jumpman23 connects that customer with a Jumpman who will then travel to go pickup the item. The Jumpman picks up the item to bring back to the customer. The Jumpman travels by foot, bike, car, scooter, or other method to deliver the item to the customer. Once the item is delivered, a record is created with the following journey attribute information. \n",
    "\n",
    "### Understanding Delivery Attributes\n",
    "\n",
    "- **Job_ID:**  a unique identifier of a delivery\n",
    "- **Customer_id:** a unique identifier for the Jumpman23 customer\n",
    "- **Jumpman_id:**  a unique identifier for the Jumpman who completed the delivery\n",
    "- **vehicle_type:** The method of transport the Jumpman used to complete the delivery\n",
    "- **pickup_place:** The name of the Pickup location\n",
    "- **place_category:** A categorization of the Pickup location\n",
    "- **Item_name:** the name of the item requested\n",
    "- **Item_quantity:** how many of that item was requested\n",
    "- **Item_category_name:** categorization provided by the merchant, think “appetizers”, “soups” etc\n",
    "- **How_long_it_took_to_order:** how long it took to place the order [interval]\n",
    "- **pickup_lat:** the coordinates of the pickup location\n",
    "- **pickup_lon:** the coordinates of the pickup location\n",
    "- **dropoff_lat:** the coordinations of the dropoff location\n",
    "- **dropoff_lon:** the coordinations of the dropoff location\n",
    "- **when_the_delivery_started:** localized timestamp representing when the delivery began\n",
    "- **when_the_Jumpman_arrived_at_pickup:** localized timestamp representing when the Jumpman arrived at the pickup location\n",
    "- **when_the_Jumpman_left_pickup:** localized timestamp representing when the Jumpman left the pickup location\n",
    "- **when_the_Jumpman_arrived_at_dropoff :** localized timestamp representing when the Jumpman reached the customer"
   ]
  },
  {
   "cell_type": "markdown",
   "metadata": {},
   "source": [
    "## Import Neccesary Dependencies"
   ]
  },
  {
   "cell_type": "code",
   "execution_count": 1,
   "metadata": {},
   "outputs": [],
   "source": [
    "import pandas as pd\n",
    "import matplotlib.pyplot as plt\n",
    "import matplotlib as mpl\n",
    "from matplotlib import pyplot\n",
    "import numpy as np\n",
    "import seaborn as sns\n",
    "from collections import Counter\n",
    "import haversine as hs\n",
    "import os as os\n",
    "from datetime import datetime, timedelta\n",
    "import re\n",
    "import missingno as msno\n",
    "import geopy\n",
    "from uszipcode import SearchEngine\n",
    "import time\n",
    "\n",
    "%matplotlib inline"
   ]
  },
  {
   "cell_type": "code",
   "execution_count": 2,
   "metadata": {},
   "outputs": [],
   "source": [
    "#ignore warnings\n",
    "import warnings\n",
    "warnings.filterwarnings('ignore')"
   ]
  },
  {
   "cell_type": "code",
   "execution_count": 3,
   "metadata": {},
   "outputs": [
    {
     "data": {
      "text/plain": [
       "['.DS_Store',\n",
       " 'Stephen_Stark_Analysis.pptx',\n",
       " 'README.md',\n",
       " 'img',\n",
       " 'tableau_exports',\n",
       " '~$Stephen_Stark_Analysis.pptx',\n",
       " '.ipynb_checkpoints',\n",
       " 'Stephen_Stark_Jumpman23Analysis.ipynb',\n",
       " '.git']"
      ]
     },
     "execution_count": 3,
     "metadata": {},
     "output_type": "execute_result"
    }
   ],
   "source": [
    "os.listdir()"
   ]
  },
  {
   "cell_type": "code",
   "execution_count": 4,
   "metadata": {},
   "outputs": [],
   "source": [
    "df = pd.read_csv('../Jumpman23/analyze_me.csv')"
   ]
  },
  {
   "cell_type": "markdown",
   "metadata": {},
   "source": [
    "<a id='understand'></a>\n",
    "## Understand the data"
   ]
  },
  {
   "cell_type": "markdown",
   "metadata": {},
   "source": [
    "In order to answer the question of 'how are things going in NYC', we need to first spot check the data. We know there are potential data integrity issues. Lets look column by column to determine what sort of analysis we can do."
   ]
  },
  {
   "cell_type": "code",
   "execution_count": 5,
   "metadata": {},
   "outputs": [
    {
     "name": "stdout",
     "output_type": "stream",
     "text": [
      "(5983, 18)\n",
      "<class 'pandas.core.frame.DataFrame'>\n",
      "RangeIndex: 5983 entries, 0 to 5982\n",
      "Data columns (total 18 columns):\n",
      "delivery_id                            5983 non-null int64\n",
      "customer_id                            5983 non-null int64\n",
      "jumpman_id                             5983 non-null int64\n",
      "vehicle_type                           5983 non-null object\n",
      "pickup_place                           5983 non-null object\n",
      "place_category                         5100 non-null object\n",
      "item_name                              4753 non-null object\n",
      "item_quantity                          4753 non-null float64\n",
      "item_category_name                     4753 non-null object\n",
      "how_long_it_took_to_order              3038 non-null object\n",
      "pickup_lat                             5983 non-null float64\n",
      "pickup_lon                             5983 non-null float64\n",
      "dropoff_lat                            5983 non-null float64\n",
      "dropoff_lon                            5983 non-null float64\n",
      "when_the_delivery_started              5983 non-null object\n",
      "when_the_Jumpman_arrived_at_pickup     5433 non-null object\n",
      "when_the_Jumpman_left_pickup           5433 non-null object\n",
      "when_the_Jumpman_arrived_at_dropoff    5983 non-null object\n",
      "dtypes: float64(5), int64(3), object(10)\n",
      "memory usage: 841.5+ KB\n",
      "None\n"
     ]
    }
   ],
   "source": [
    "print(df.shape)\n",
    "print(df.info())"
   ]
  },
  {
   "cell_type": "code",
   "execution_count": 6,
   "metadata": {},
   "outputs": [
    {
     "data": {
      "text/plain": [
       "delivery_id                                               1476547\n",
       "customer_id                                                 83095\n",
       "jumpman_id                                                 132725\n",
       "vehicle_type                                              bicycle\n",
       "pickup_place                                           Bareburger\n",
       "place_category                                             Burger\n",
       "item_name                                              Bare Sodas\n",
       "item_quantity                                                   1\n",
       "item_category_name                                         Drinks\n",
       "how_long_it_took_to_order                         00:06:44.541717\n",
       "pickup_lat                                                40.7285\n",
       "pickup_lon                                               -73.9984\n",
       "dropoff_lat                                               40.7286\n",
       "dropoff_lon                                              -73.9951\n",
       "when_the_delivery_started              2014-10-28 21:39:52.654394\n",
       "when_the_Jumpman_arrived_at_pickup     2014-10-28 21:37:18.793405\n",
       "when_the_Jumpman_left_pickup            2014-10-28 21:59:09.98481\n",
       "when_the_Jumpman_arrived_at_dropoff    2014-10-28 22:04:40.634962\n",
       "Name: 2, dtype: object"
      ]
     },
     "execution_count": 6,
     "metadata": {},
     "output_type": "execute_result"
    }
   ],
   "source": [
    "df.iloc[2]"
   ]
  },
  {
   "cell_type": "code",
   "execution_count": 7,
   "metadata": {},
   "outputs": [
    {
     "data": {
      "text/plain": [
       "delivery_id                               0\n",
       "customer_id                               0\n",
       "jumpman_id                                0\n",
       "vehicle_type                              0\n",
       "pickup_place                              0\n",
       "place_category                          883\n",
       "item_name                              1230\n",
       "item_quantity                          1230\n",
       "item_category_name                     1230\n",
       "how_long_it_took_to_order              2945\n",
       "pickup_lat                                0\n",
       "pickup_lon                                0\n",
       "dropoff_lat                               0\n",
       "dropoff_lon                               0\n",
       "when_the_delivery_started                 0\n",
       "when_the_Jumpman_arrived_at_pickup      550\n",
       "when_the_Jumpman_left_pickup            550\n",
       "when_the_Jumpman_arrived_at_dropoff       0\n",
       "dtype: int64"
      ]
     },
     "execution_count": 7,
     "metadata": {},
     "output_type": "execute_result"
    }
   ],
   "source": [
    "#Count of N/A or Null values in each column\n",
    "df.isna().sum()"
   ]
  },
  {
   "cell_type": "code",
   "execution_count": 8,
   "metadata": {},
   "outputs": [
    {
     "data": {
      "image/png": "[encoded data removed]",
      "text/plain": [
       "<Figure size 1800x720 with 2 Axes>"
      ]
     },
     "metadata": {
      "needs_background": "light"
     },
     "output_type": "display_data"
    }
   ],
   "source": [
    "#visualization of missing data\n",
    "missing_data_cols = ['place_category',\n",
    "                     'item_name',\n",
    "                     'item_quantity',\n",
    "                     'item_category_name',\n",
    "                     'how_long_it_took_to_order',\n",
    "                     'when_the_Jumpman_arrived_at_pickup',\n",
    "                     'when_the_Jumpman_left_pickup']\n",
    "\n",
    "msno.matrix(df[missing_data_cols])\n",
    "plt.show()"
   ]
  },
  {
   "cell_type": "markdown",
   "metadata": {},
   "source": [
    "### 'delivery_id','customer_id','jumpman_id'"
   ]
  },
  {
   "cell_type": "code",
   "execution_count": 9,
   "metadata": {},
   "outputs": [
    {
     "name": "stdout",
     "output_type": "stream",
     "text": [
      "Count of records: 5983\n",
      "---\n",
      "Count of unique elements in each id column:\n",
      "delivery_id : 5214\n",
      "customer_id : 3192\n",
      "jumpman_id : 578\n"
     ]
    }
   ],
   "source": [
    "print('Count of records:', len(df))\n",
    "print('---')\n",
    "print('Count of unique elements in each id column:')\n",
    "\n",
    "id_cols = ['delivery_id','customer_id','jumpman_id']\n",
    "for i in id_cols:\n",
    "    print(i,':', df[i].nunique())"
   ]
  },
  {
   "cell_type": "markdown",
   "metadata": {},
   "source": [
    "It is important to note the total number of records 5983 is greater than the unique elements for each id. I would expect customer_id and jumpman_id to be used mutliple times. However, I want to look into why the same delivery_id has been used multiple times."
   ]
  },
  {
   "cell_type": "code",
   "execution_count": 10,
   "metadata": {},
   "outputs": [
    {
     "data": {
      "text/html": [
       "<div>\n",
       "<style scoped>\n",
       "    .dataframe tbody tr th:only-of-type {\n",
       "        vertical-align: middle;\n",
       "    }\n",
       "\n",
       "    .dataframe tbody tr th {\n",
       "        vertical-align: top;\n",
       "    }\n",
       "\n",
       "    .dataframe thead th {\n",
       "        text-align: right;\n",
       "    }\n",
       "</style>\n",
       "<table border=\"1\" class=\"dataframe\">\n",
       "  <thead>\n",
       "    <tr style=\"text-align: right;\">\n",
       "      <th></th>\n",
       "      <th>delivery_id</th>\n",
       "      <th>customer_id</th>\n",
       "      <th>jumpman_id</th>\n",
       "      <th>vehicle_type</th>\n",
       "      <th>pickup_place</th>\n",
       "      <th>place_category</th>\n",
       "      <th>item_name</th>\n",
       "      <th>item_quantity</th>\n",
       "      <th>item_category_name</th>\n",
       "      <th>how_long_it_took_to_order</th>\n",
       "      <th>pickup_lat</th>\n",
       "      <th>pickup_lon</th>\n",
       "      <th>dropoff_lat</th>\n",
       "      <th>dropoff_lon</th>\n",
       "      <th>when_the_delivery_started</th>\n",
       "      <th>when_the_Jumpman_arrived_at_pickup</th>\n",
       "      <th>when_the_Jumpman_left_pickup</th>\n",
       "      <th>when_the_Jumpman_arrived_at_dropoff</th>\n",
       "    </tr>\n",
       "  </thead>\n",
       "  <tbody>\n",
       "    <tr>\n",
       "      <th>82</th>\n",
       "      <td>1314550</td>\n",
       "      <td>348787</td>\n",
       "      <td>119813</td>\n",
       "      <td>bicycle</td>\n",
       "      <td>Otto Enoteca Pizzeria</td>\n",
       "      <td>Italian</td>\n",
       "      <td>Prosciutto Arugula</td>\n",
       "      <td>1.0</td>\n",
       "      <td>Pizzas</td>\n",
       "      <td>00:22:42.942105</td>\n",
       "      <td>40.732064</td>\n",
       "      <td>-73.996155</td>\n",
       "      <td>40.767582</td>\n",
       "      <td>-73.983704</td>\n",
       "      <td>2014-10-07 18:40:38.769589</td>\n",
       "      <td>2014-10-07 18:49:49.978276</td>\n",
       "      <td>2014-10-07 19:27:58.470009</td>\n",
       "      <td>2014-10-07 19:55:56.804909</td>\n",
       "    </tr>\n",
       "    <tr>\n",
       "      <th>207</th>\n",
       "      <td>1332526</td>\n",
       "      <td>48677</td>\n",
       "      <td>152676</td>\n",
       "      <td>bicycle</td>\n",
       "      <td>Shake Shack</td>\n",
       "      <td>Burger</td>\n",
       "      <td>Smoke Shack</td>\n",
       "      <td>1.0</td>\n",
       "      <td>Burgers</td>\n",
       "      <td>NaN</td>\n",
       "      <td>40.715279</td>\n",
       "      <td>-74.014860</td>\n",
       "      <td>40.724520</td>\n",
       "      <td>-73.993420</td>\n",
       "      <td>2014-10-10 18:41:05.90546</td>\n",
       "      <td>2014-10-10 19:04:31.649579</td>\n",
       "      <td>2014-10-10 19:46:22.211936</td>\n",
       "      <td>2014-10-10 20:15:31.476676</td>\n",
       "    </tr>\n",
       "    <tr>\n",
       "      <th>244</th>\n",
       "      <td>1319971</td>\n",
       "      <td>94027</td>\n",
       "      <td>119255</td>\n",
       "      <td>walker</td>\n",
       "      <td>Trader Joe's</td>\n",
       "      <td>Grocery Store</td>\n",
       "      <td>Organic Autumn Wheat</td>\n",
       "      <td>1.0</td>\n",
       "      <td>Breakfast &amp; Cereal</td>\n",
       "      <td>NaN</td>\n",
       "      <td>40.741740</td>\n",
       "      <td>-73.993650</td>\n",
       "      <td>40.736971</td>\n",
       "      <td>-73.985844</td>\n",
       "      <td>2014-10-08 19:33:52.549234</td>\n",
       "      <td>2014-10-08 19:45:18.293971</td>\n",
       "      <td>2014-10-08 20:38:07.37508</td>\n",
       "      <td>2014-10-08 20:49:29.420191</td>\n",
       "    </tr>\n",
       "  </tbody>\n",
       "</table>\n",
       "</div>"
      ],
      "text/plain": [
       "     delivery_id  customer_id  jumpman_id vehicle_type           pickup_place  \\\n",
       "82       1314550       348787      119813      bicycle  Otto Enoteca Pizzeria   \n",
       "207      1332526        48677      152676      bicycle            Shake Shack   \n",
       "244      1319971        94027      119255       walker           Trader Joe's   \n",
       "\n",
       "    place_category             item_name  item_quantity  item_category_name  \\\n",
       "82         Italian    Prosciutto Arugula            1.0              Pizzas   \n",
       "207         Burger           Smoke Shack            1.0             Burgers   \n",
       "244  Grocery Store  Organic Autumn Wheat            1.0  Breakfast & Cereal   \n",
       "\n",
       "    how_long_it_took_to_order  pickup_lat  pickup_lon  dropoff_lat  \\\n",
       "82            00:22:42.942105   40.732064  -73.996155    40.767582   \n",
       "207                       NaN   40.715279  -74.014860    40.724520   \n",
       "244                       NaN   40.741740  -73.993650    40.736971   \n",
       "\n",
       "     dropoff_lon   when_the_delivery_started  \\\n",
       "82    -73.983704  2014-10-07 18:40:38.769589   \n",
       "207   -73.993420   2014-10-10 18:41:05.90546   \n",
       "244   -73.985844  2014-10-08 19:33:52.549234   \n",
       "\n",
       "    when_the_Jumpman_arrived_at_pickup when_the_Jumpman_left_pickup  \\\n",
       "82          2014-10-07 18:49:49.978276   2014-10-07 19:27:58.470009   \n",
       "207         2014-10-10 19:04:31.649579   2014-10-10 19:46:22.211936   \n",
       "244         2014-10-08 19:45:18.293971    2014-10-08 20:38:07.37508   \n",
       "\n",
       "    when_the_Jumpman_arrived_at_dropoff  \n",
       "82           2014-10-07 19:55:56.804909  \n",
       "207          2014-10-10 20:15:31.476676  \n",
       "244          2014-10-08 20:49:29.420191  "
      ]
     },
     "execution_count": 10,
     "metadata": {},
     "output_type": "execute_result"
    }
   ],
   "source": [
    "df[df['delivery_id'].duplicated()].head(3)"
   ]
  },
  {
   "cell_type": "markdown",
   "metadata": {},
   "source": [
    "Based on the query below, it looks like multiple items from the same order are broken out on different records. I would expect all the other attributes to be the same for all cases. One way I could handle this is to merge the items into a list for each record. For the purposes of this analysis, I'll drop the duplicate records as I don't see a meaningful reason for including them in the analysis."
   ]
  },
  {
   "cell_type": "code",
   "execution_count": 11,
   "metadata": {},
   "outputs": [
    {
     "data": {
      "text/html": [
       "<div>\n",
       "<style scoped>\n",
       "    .dataframe tbody tr th:only-of-type {\n",
       "        vertical-align: middle;\n",
       "    }\n",
       "\n",
       "    .dataframe tbody tr th {\n",
       "        vertical-align: top;\n",
       "    }\n",
       "\n",
       "    .dataframe thead th {\n",
       "        text-align: right;\n",
       "    }\n",
       "</style>\n",
       "<table border=\"1\" class=\"dataframe\">\n",
       "  <thead>\n",
       "    <tr style=\"text-align: right;\">\n",
       "      <th></th>\n",
       "      <th>delivery_id</th>\n",
       "      <th>customer_id</th>\n",
       "      <th>jumpman_id</th>\n",
       "      <th>vehicle_type</th>\n",
       "      <th>pickup_place</th>\n",
       "      <th>place_category</th>\n",
       "      <th>item_name</th>\n",
       "      <th>item_quantity</th>\n",
       "      <th>item_category_name</th>\n",
       "      <th>how_long_it_took_to_order</th>\n",
       "      <th>pickup_lat</th>\n",
       "      <th>pickup_lon</th>\n",
       "      <th>dropoff_lat</th>\n",
       "      <th>dropoff_lon</th>\n",
       "      <th>when_the_delivery_started</th>\n",
       "      <th>when_the_Jumpman_arrived_at_pickup</th>\n",
       "      <th>when_the_Jumpman_left_pickup</th>\n",
       "      <th>when_the_Jumpman_arrived_at_dropoff</th>\n",
       "    </tr>\n",
       "  </thead>\n",
       "  <tbody>\n",
       "    <tr>\n",
       "      <th>1008</th>\n",
       "      <td>1272701</td>\n",
       "      <td>81085</td>\n",
       "      <td>112646</td>\n",
       "      <td>bicycle</td>\n",
       "      <td>Mighty Quinn's BBQ</td>\n",
       "      <td>BBQ</td>\n",
       "      <td>Brisket</td>\n",
       "      <td>1.0</td>\n",
       "      <td>Meats</td>\n",
       "      <td>NaN</td>\n",
       "      <td>40.727519</td>\n",
       "      <td>-73.988671</td>\n",
       "      <td>40.723962</td>\n",
       "      <td>-73.993393</td>\n",
       "      <td>2014-10-01 12:12:24.393054</td>\n",
       "      <td>2014-10-01 12:17:22.929789</td>\n",
       "      <td>2014-10-01 12:27:42.369732</td>\n",
       "      <td>2014-10-01 12:34:27.142996</td>\n",
       "    </tr>\n",
       "    <tr>\n",
       "      <th>5080</th>\n",
       "      <td>1272701</td>\n",
       "      <td>81085</td>\n",
       "      <td>112646</td>\n",
       "      <td>bicycle</td>\n",
       "      <td>Mighty Quinn's BBQ</td>\n",
       "      <td>BBQ</td>\n",
       "      <td>Housemade Iced Tea</td>\n",
       "      <td>1.0</td>\n",
       "      <td>Beverages</td>\n",
       "      <td>NaN</td>\n",
       "      <td>40.727519</td>\n",
       "      <td>-73.988671</td>\n",
       "      <td>40.723962</td>\n",
       "      <td>-73.993393</td>\n",
       "      <td>2014-10-01 12:12:24.393054</td>\n",
       "      <td>2014-10-01 12:17:22.929789</td>\n",
       "      <td>2014-10-01 12:27:42.369732</td>\n",
       "      <td>2014-10-01 12:34:27.142996</td>\n",
       "    </tr>\n",
       "  </tbody>\n",
       "</table>\n",
       "</div>"
      ],
      "text/plain": [
       "      delivery_id  customer_id  jumpman_id vehicle_type        pickup_place  \\\n",
       "1008      1272701        81085      112646      bicycle  Mighty Quinn's BBQ   \n",
       "5080      1272701        81085      112646      bicycle  Mighty Quinn's BBQ   \n",
       "\n",
       "     place_category           item_name  item_quantity item_category_name  \\\n",
       "1008            BBQ             Brisket            1.0              Meats   \n",
       "5080            BBQ  Housemade Iced Tea            1.0          Beverages   \n",
       "\n",
       "     how_long_it_took_to_order  pickup_lat  pickup_lon  dropoff_lat  \\\n",
       "1008                       NaN   40.727519  -73.988671    40.723962   \n",
       "5080                       NaN   40.727519  -73.988671    40.723962   \n",
       "\n",
       "      dropoff_lon   when_the_delivery_started  \\\n",
       "1008   -73.993393  2014-10-01 12:12:24.393054   \n",
       "5080   -73.993393  2014-10-01 12:12:24.393054   \n",
       "\n",
       "     when_the_Jumpman_arrived_at_pickup when_the_Jumpman_left_pickup  \\\n",
       "1008         2014-10-01 12:17:22.929789   2014-10-01 12:27:42.369732   \n",
       "5080         2014-10-01 12:17:22.929789   2014-10-01 12:27:42.369732   \n",
       "\n",
       "     when_the_Jumpman_arrived_at_dropoff  \n",
       "1008          2014-10-01 12:34:27.142996  \n",
       "5080          2014-10-01 12:34:27.142996  "
      ]
     },
     "execution_count": 11,
     "metadata": {},
     "output_type": "execute_result"
    }
   ],
   "source": [
    "#sample duplicate row\n",
    "df[df['delivery_id']==1272701]"
   ]
  },
  {
   "cell_type": "code",
   "execution_count": 12,
   "metadata": {},
   "outputs": [
    {
     "data": {
      "text/html": [
       "<div>\n",
       "<style scoped>\n",
       "    .dataframe tbody tr th:only-of-type {\n",
       "        vertical-align: middle;\n",
       "    }\n",
       "\n",
       "    .dataframe tbody tr th {\n",
       "        vertical-align: top;\n",
       "    }\n",
       "\n",
       "    .dataframe thead th {\n",
       "        text-align: right;\n",
       "    }\n",
       "</style>\n",
       "<table border=\"1\" class=\"dataframe\">\n",
       "  <thead>\n",
       "    <tr style=\"text-align: right;\">\n",
       "      <th></th>\n",
       "      <th>delivery_id</th>\n",
       "      <th>customer_id</th>\n",
       "      <th>jumpman_id</th>\n",
       "      <th>vehicle_type</th>\n",
       "      <th>pickup_place</th>\n",
       "      <th>place_category</th>\n",
       "      <th>item_name</th>\n",
       "      <th>item_quantity</th>\n",
       "      <th>item_category_name</th>\n",
       "      <th>how_long_it_took_to_order</th>\n",
       "      <th>pickup_lat</th>\n",
       "      <th>pickup_lon</th>\n",
       "      <th>dropoff_lat</th>\n",
       "      <th>dropoff_lon</th>\n",
       "      <th>when_the_delivery_started</th>\n",
       "      <th>when_the_Jumpman_arrived_at_pickup</th>\n",
       "      <th>when_the_Jumpman_left_pickup</th>\n",
       "      <th>when_the_Jumpman_arrived_at_dropoff</th>\n",
       "    </tr>\n",
       "  </thead>\n",
       "  <tbody>\n",
       "    <tr>\n",
       "      <th>5080</th>\n",
       "      <td>1272701</td>\n",
       "      <td>81085</td>\n",
       "      <td>112646</td>\n",
       "      <td>bicycle</td>\n",
       "      <td>Mighty Quinn's BBQ</td>\n",
       "      <td>BBQ</td>\n",
       "      <td>Housemade Iced Tea</td>\n",
       "      <td>1.0</td>\n",
       "      <td>Beverages</td>\n",
       "      <td>NaN</td>\n",
       "      <td>40.727519</td>\n",
       "      <td>-73.988671</td>\n",
       "      <td>40.723962</td>\n",
       "      <td>-73.993393</td>\n",
       "      <td>2014-10-01 12:12:24.393054</td>\n",
       "      <td>2014-10-01 12:17:22.929789</td>\n",
       "      <td>2014-10-01 12:27:42.369732</td>\n",
       "      <td>2014-10-01 12:34:27.142996</td>\n",
       "    </tr>\n",
       "    <tr>\n",
       "      <th>2299</th>\n",
       "      <td>1274248</td>\n",
       "      <td>208020</td>\n",
       "      <td>60149</td>\n",
       "      <td>car</td>\n",
       "      <td>Murray's Falafel</td>\n",
       "      <td>Middle Eastern</td>\n",
       "      <td>Moroccan Cigars (5 pc)</td>\n",
       "      <td>1.0</td>\n",
       "      <td>Appetizers</td>\n",
       "      <td>00:07:08.767432</td>\n",
       "      <td>40.732166</td>\n",
       "      <td>-73.981904</td>\n",
       "      <td>40.747019</td>\n",
       "      <td>-73.990922</td>\n",
       "      <td>2014-10-01 17:25:48.54633</td>\n",
       "      <td>2014-10-01 17:40:32.886964</td>\n",
       "      <td>2014-10-01 17:53:54.166799</td>\n",
       "      <td>2014-10-01 18:09:37.353403</td>\n",
       "    </tr>\n",
       "    <tr>\n",
       "      <th>2986</th>\n",
       "      <td>1274248</td>\n",
       "      <td>208020</td>\n",
       "      <td>60149</td>\n",
       "      <td>car</td>\n",
       "      <td>Murray's Falafel</td>\n",
       "      <td>Middle Eastern</td>\n",
       "      <td>Watermelon</td>\n",
       "      <td>1.0</td>\n",
       "      <td>Desserts</td>\n",
       "      <td>00:07:08.767432</td>\n",
       "      <td>40.732166</td>\n",
       "      <td>-73.981904</td>\n",
       "      <td>40.747019</td>\n",
       "      <td>-73.990922</td>\n",
       "      <td>2014-10-01 17:25:48.54633</td>\n",
       "      <td>2014-10-01 17:40:32.886964</td>\n",
       "      <td>2014-10-01 17:53:54.166799</td>\n",
       "      <td>2014-10-01 18:09:37.353403</td>\n",
       "    </tr>\n",
       "    <tr>\n",
       "      <th>5386</th>\n",
       "      <td>1274328</td>\n",
       "      <td>255435</td>\n",
       "      <td>23359</td>\n",
       "      <td>bicycle</td>\n",
       "      <td>Lure Fishbar</td>\n",
       "      <td>Seafood</td>\n",
       "      <td>King Salmon</td>\n",
       "      <td>3.0</td>\n",
       "      <td>Sushi &amp; Sashimi</td>\n",
       "      <td>00:11:23.081868</td>\n",
       "      <td>40.724635</td>\n",
       "      <td>-73.998402</td>\n",
       "      <td>40.743568</td>\n",
       "      <td>-73.972405</td>\n",
       "      <td>2014-10-01 17:47:16.707187</td>\n",
       "      <td>2014-10-01 17:44:49.255589</td>\n",
       "      <td>2014-10-01 18:21:08.892224</td>\n",
       "      <td>2014-10-01 18:41:16.203243</td>\n",
       "    </tr>\n",
       "    <tr>\n",
       "      <th>4578</th>\n",
       "      <td>1274372</td>\n",
       "      <td>82041</td>\n",
       "      <td>133293</td>\n",
       "      <td>bicycle</td>\n",
       "      <td>Parm</td>\n",
       "      <td>Italian</td>\n",
       "      <td>Chicken Parm</td>\n",
       "      <td>1.0</td>\n",
       "      <td>Sandwiches</td>\n",
       "      <td>00:02:31.470754</td>\n",
       "      <td>40.723020</td>\n",
       "      <td>-73.995854</td>\n",
       "      <td>40.720479</td>\n",
       "      <td>-74.001549</td>\n",
       "      <td>2014-10-01 17:57:34.871703</td>\n",
       "      <td>2014-10-01 17:57:34.041223</td>\n",
       "      <td>2014-10-01 18:09:53.957556</td>\n",
       "      <td>2014-10-01 18:20:05.578047</td>\n",
       "    </tr>\n",
       "    <tr>\n",
       "      <th>...</th>\n",
       "      <td>...</td>\n",
       "      <td>...</td>\n",
       "      <td>...</td>\n",
       "      <td>...</td>\n",
       "      <td>...</td>\n",
       "      <td>...</td>\n",
       "      <td>...</td>\n",
       "      <td>...</td>\n",
       "      <td>...</td>\n",
       "      <td>...</td>\n",
       "      <td>...</td>\n",
       "      <td>...</td>\n",
       "      <td>...</td>\n",
       "      <td>...</td>\n",
       "      <td>...</td>\n",
       "      <td>...</td>\n",
       "      <td>...</td>\n",
       "      <td>...</td>\n",
       "    </tr>\n",
       "    <tr>\n",
       "      <th>3614</th>\n",
       "      <td>1490188</td>\n",
       "      <td>166368</td>\n",
       "      <td>174143</td>\n",
       "      <td>motorcycle</td>\n",
       "      <td>Prosperity Dumpling</td>\n",
       "      <td>Chinese</td>\n",
       "      <td>Chives and Pork Dumplings in Soup</td>\n",
       "      <td>1.0</td>\n",
       "      <td>Dumplings</td>\n",
       "      <td>NaN</td>\n",
       "      <td>40.716001</td>\n",
       "      <td>-73.993210</td>\n",
       "      <td>40.775973</td>\n",
       "      <td>-73.947845</td>\n",
       "      <td>2014-10-30 21:00:30.703848</td>\n",
       "      <td>2014-10-30 21:08:00.931773</td>\n",
       "      <td>2014-10-30 21:44:21.145721</td>\n",
       "      <td>2014-10-30 22:07:09.83358</td>\n",
       "    </tr>\n",
       "    <tr>\n",
       "      <th>4119</th>\n",
       "      <td>1490188</td>\n",
       "      <td>166368</td>\n",
       "      <td>174143</td>\n",
       "      <td>motorcycle</td>\n",
       "      <td>Prosperity Dumpling</td>\n",
       "      <td>Chinese</td>\n",
       "      <td>Vegetable and Pork Dumplings in Soup</td>\n",
       "      <td>1.0</td>\n",
       "      <td>Dumplings</td>\n",
       "      <td>NaN</td>\n",
       "      <td>40.716001</td>\n",
       "      <td>-73.993210</td>\n",
       "      <td>40.775973</td>\n",
       "      <td>-73.947845</td>\n",
       "      <td>2014-10-30 21:00:30.703848</td>\n",
       "      <td>2014-10-30 21:08:00.931773</td>\n",
       "      <td>2014-10-30 21:44:21.145721</td>\n",
       "      <td>2014-10-30 22:07:09.83358</td>\n",
       "    </tr>\n",
       "    <tr>\n",
       "      <th>4983</th>\n",
       "      <td>1490744</td>\n",
       "      <td>52256</td>\n",
       "      <td>38597</td>\n",
       "      <td>bicycle</td>\n",
       "      <td>Han Dynasty</td>\n",
       "      <td>Chinese</td>\n",
       "      <td>Dan Dan Noodle</td>\n",
       "      <td>1.0</td>\n",
       "      <td>Noodles</td>\n",
       "      <td>00:09:51.159698</td>\n",
       "      <td>40.732213</td>\n",
       "      <td>-73.988072</td>\n",
       "      <td>40.732288</td>\n",
       "      <td>-73.987752</td>\n",
       "      <td>2014-10-30 21:44:05.205404</td>\n",
       "      <td>2014-10-30 21:51:58.394867</td>\n",
       "      <td>2014-10-30 22:06:52.148926</td>\n",
       "      <td>2014-10-30 22:08:06.563304</td>\n",
       "    </tr>\n",
       "    <tr>\n",
       "      <th>4074</th>\n",
       "      <td>1490744</td>\n",
       "      <td>52256</td>\n",
       "      <td>38597</td>\n",
       "      <td>bicycle</td>\n",
       "      <td>Han Dynasty</td>\n",
       "      <td>Chinese</td>\n",
       "      <td>Bok Choy with Black Mushrooms</td>\n",
       "      <td>1.0</td>\n",
       "      <td>Vegetables</td>\n",
       "      <td>00:09:51.159698</td>\n",
       "      <td>40.732213</td>\n",
       "      <td>-73.988072</td>\n",
       "      <td>40.732288</td>\n",
       "      <td>-73.987752</td>\n",
       "      <td>2014-10-30 21:44:05.205404</td>\n",
       "      <td>2014-10-30 21:51:58.394867</td>\n",
       "      <td>2014-10-30 22:06:52.148926</td>\n",
       "      <td>2014-10-30 22:08:06.563304</td>\n",
       "    </tr>\n",
       "    <tr>\n",
       "      <th>1988</th>\n",
       "      <td>1491424</td>\n",
       "      <td>391367</td>\n",
       "      <td>172130</td>\n",
       "      <td>walker</td>\n",
       "      <td>Veselka</td>\n",
       "      <td>Russian</td>\n",
       "      <td>Small Plate of Pierogis</td>\n",
       "      <td>1.0</td>\n",
       "      <td>Handmade Varenyky (Pierogi)</td>\n",
       "      <td>00:07:29.766955</td>\n",
       "      <td>40.729136</td>\n",
       "      <td>-73.986972</td>\n",
       "      <td>40.723531</td>\n",
       "      <td>-73.982324</td>\n",
       "      <td>2014-10-30 23:08:43.4819</td>\n",
       "      <td>2014-10-30 23:10:31.062088</td>\n",
       "      <td>2014-10-30 23:23:51.143279</td>\n",
       "      <td>2014-10-30 23:29:44.866438</td>\n",
       "    </tr>\n",
       "  </tbody>\n",
       "</table>\n",
       "<p>769 rows × 18 columns</p>\n",
       "</div>"
      ],
      "text/plain": [
       "      delivery_id  customer_id  jumpman_id vehicle_type         pickup_place  \\\n",
       "5080      1272701        81085      112646      bicycle   Mighty Quinn's BBQ   \n",
       "2299      1274248       208020       60149          car     Murray's Falafel   \n",
       "2986      1274248       208020       60149          car     Murray's Falafel   \n",
       "5386      1274328       255435       23359      bicycle         Lure Fishbar   \n",
       "4578      1274372        82041      133293      bicycle                 Parm   \n",
       "...           ...          ...         ...          ...                  ...   \n",
       "3614      1490188       166368      174143   motorcycle  Prosperity Dumpling   \n",
       "4119      1490188       166368      174143   motorcycle  Prosperity Dumpling   \n",
       "4983      1490744        52256       38597      bicycle          Han Dynasty   \n",
       "4074      1490744        52256       38597      bicycle          Han Dynasty   \n",
       "1988      1491424       391367      172130       walker              Veselka   \n",
       "\n",
       "      place_category                             item_name  item_quantity  \\\n",
       "5080             BBQ                    Housemade Iced Tea            1.0   \n",
       "2299  Middle Eastern                Moroccan Cigars (5 pc)            1.0   \n",
       "2986  Middle Eastern                            Watermelon            1.0   \n",
       "5386         Seafood                           King Salmon            3.0   \n",
       "4578         Italian                          Chicken Parm            1.0   \n",
       "...              ...                                   ...            ...   \n",
       "3614         Chinese     Chives and Pork Dumplings in Soup            1.0   \n",
       "4119         Chinese  Vegetable and Pork Dumplings in Soup            1.0   \n",
       "4983         Chinese                        Dan Dan Noodle            1.0   \n",
       "4074         Chinese         Bok Choy with Black Mushrooms            1.0   \n",
       "1988         Russian               Small Plate of Pierogis            1.0   \n",
       "\n",
       "               item_category_name how_long_it_took_to_order  pickup_lat  \\\n",
       "5080                    Beverages                       NaN   40.727519   \n",
       "2299                   Appetizers           00:07:08.767432   40.732166   \n",
       "2986                     Desserts           00:07:08.767432   40.732166   \n",
       "5386              Sushi & Sashimi           00:11:23.081868   40.724635   \n",
       "4578                   Sandwiches           00:02:31.470754   40.723020   \n",
       "...                           ...                       ...         ...   \n",
       "3614                    Dumplings                       NaN   40.716001   \n",
       "4119                    Dumplings                       NaN   40.716001   \n",
       "4983                      Noodles           00:09:51.159698   40.732213   \n",
       "4074                   Vegetables           00:09:51.159698   40.732213   \n",
       "1988  Handmade Varenyky (Pierogi)           00:07:29.766955   40.729136   \n",
       "\n",
       "      pickup_lon  dropoff_lat  dropoff_lon   when_the_delivery_started  \\\n",
       "5080  -73.988671    40.723962   -73.993393  2014-10-01 12:12:24.393054   \n",
       "2299  -73.981904    40.747019   -73.990922   2014-10-01 17:25:48.54633   \n",
       "2986  -73.981904    40.747019   -73.990922   2014-10-01 17:25:48.54633   \n",
       "5386  -73.998402    40.743568   -73.972405  2014-10-01 17:47:16.707187   \n",
       "4578  -73.995854    40.720479   -74.001549  2014-10-01 17:57:34.871703   \n",
       "...          ...          ...          ...                         ...   \n",
       "3614  -73.993210    40.775973   -73.947845  2014-10-30 21:00:30.703848   \n",
       "4119  -73.993210    40.775973   -73.947845  2014-10-30 21:00:30.703848   \n",
       "4983  -73.988072    40.732288   -73.987752  2014-10-30 21:44:05.205404   \n",
       "4074  -73.988072    40.732288   -73.987752  2014-10-30 21:44:05.205404   \n",
       "1988  -73.986972    40.723531   -73.982324    2014-10-30 23:08:43.4819   \n",
       "\n",
       "     when_the_Jumpman_arrived_at_pickup when_the_Jumpman_left_pickup  \\\n",
       "5080         2014-10-01 12:17:22.929789   2014-10-01 12:27:42.369732   \n",
       "2299         2014-10-01 17:40:32.886964   2014-10-01 17:53:54.166799   \n",
       "2986         2014-10-01 17:40:32.886964   2014-10-01 17:53:54.166799   \n",
       "5386         2014-10-01 17:44:49.255589   2014-10-01 18:21:08.892224   \n",
       "4578         2014-10-01 17:57:34.041223   2014-10-01 18:09:53.957556   \n",
       "...                                 ...                          ...   \n",
       "3614         2014-10-30 21:08:00.931773   2014-10-30 21:44:21.145721   \n",
       "4119         2014-10-30 21:08:00.931773   2014-10-30 21:44:21.145721   \n",
       "4983         2014-10-30 21:51:58.394867   2014-10-30 22:06:52.148926   \n",
       "4074         2014-10-30 21:51:58.394867   2014-10-30 22:06:52.148926   \n",
       "1988         2014-10-30 23:10:31.062088   2014-10-30 23:23:51.143279   \n",
       "\n",
       "     when_the_Jumpman_arrived_at_dropoff  \n",
       "5080          2014-10-01 12:34:27.142996  \n",
       "2299          2014-10-01 18:09:37.353403  \n",
       "2986          2014-10-01 18:09:37.353403  \n",
       "5386          2014-10-01 18:41:16.203243  \n",
       "4578          2014-10-01 18:20:05.578047  \n",
       "...                                  ...  \n",
       "3614           2014-10-30 22:07:09.83358  \n",
       "4119           2014-10-30 22:07:09.83358  \n",
       "4983          2014-10-30 22:08:06.563304  \n",
       "4074          2014-10-30 22:08:06.563304  \n",
       "1988          2014-10-30 23:29:44.866438  \n",
       "\n",
       "[769 rows x 18 columns]"
      ]
     },
     "execution_count": 12,
     "metadata": {},
     "output_type": "execute_result"
    }
   ],
   "source": [
    "#duplicate row dataset\n",
    "df[df['delivery_id'].duplicated()].sort_values(by='delivery_id')"
   ]
  },
  {
   "cell_type": "code",
   "execution_count": 13,
   "metadata": {},
   "outputs": [],
   "source": [
    "#drop duplicate rows based on delivery_id column\n",
    "df = df.drop_duplicates(subset=['delivery_id'])"
   ]
  },
  {
   "cell_type": "markdown",
   "metadata": {},
   "source": [
    "### 'vehicle_type','pickup_place','place_category','item_name','item_category_name'\n",
    "\n",
    "The integrity of the following columns can be assessed by simply looking at the counts of the unique values in each set, as well as the size of the set itself."
   ]
  },
  {
   "cell_type": "code",
   "execution_count": 14,
   "metadata": {},
   "outputs": [
    {
     "name": "stdout",
     "output_type": "stream",
     "text": [
      "            vehicle_type\n",
      "bicycle             3740\n",
      "car                 1050\n",
      "walker               234\n",
      "van                   69\n",
      "scooter               64\n",
      "truck                 38\n",
      "motorcycle            19\n",
      "                           pickup_place\n",
      "Shake Shack                         266\n",
      "Momofuku Milk Bar                   162\n",
      "The Meatball Shop                   153\n",
      "sweetgreen                          138\n",
      "Blue Ribbon Fried Chicken           115\n",
      "...                                 ...\n",
      "Brookfield Pavilion                   1\n",
      "T & R Pizza                           1\n",
      "Cafe City Chow                        1\n",
      "Perelandra Natural Foods              1\n",
      "Dos Caminos Soho                      1\n",
      "\n",
      "[898 rows x 1 columns]\n",
      "                       place_category\n",
      "Italian                           437\n",
      "Burger                            395\n",
      "American                          357\n",
      "Japanese                          335\n",
      "Dessert                           277\n",
      "Chinese                           265\n",
      "Sushi                             203\n",
      "Salad                             192\n",
      "Mexican                           165\n",
      "Grocery Store                     130\n",
      "Bakery                            126\n",
      "BBQ                               114\n",
      "Pizza                              94\n",
      "Juice Bar                          91\n",
      "Fast Food                          80\n",
      "Indian                             80\n",
      "Donut                              71\n",
      "Seafood                            69\n",
      "Drug Store                         68\n",
      "Mediterranean                      61\n",
      "Coffee                             60\n",
      "Vegetarian                         60\n",
      "Deli                               56\n",
      "Middle Eastern                     56\n",
      "Ice Cream                          54\n",
      "Gluten-Free                        53\n",
      "Breakfast                          45\n",
      "Shop                               41\n",
      "South American                     33\n",
      "Steak                              31\n",
      "Thai                               31\n",
      "French                             24\n",
      "Southern                           23\n",
      "Promo                              19\n",
      "Vegan                              19\n",
      "Electronics Store                  19\n",
      "Korean                             18\n",
      "Food Truck                         17\n",
      "Convenience Store                  17\n",
      "Spanish                            12\n",
      "Asian                              11\n",
      "Eastern European                   10\n",
      "Department Store                    9\n",
      "Russian                             8\n",
      "Caribbean                           6\n",
      "Vietnamese                          6\n",
      "Office Supplies Store               5\n",
      "Specialty Store                     5\n",
      "German                              4\n",
      "Kids & Baby                         3\n",
      "Beauty Supply                       2\n",
      "Pet Supplies Store                  1\n",
      "Art Store                           1\n",
      "Restaurant                          1\n",
      "African                             1\n",
      "Book Store                          1\n",
      "Clothing                            1\n",
      "                            item_name\n",
      "Fries                              68\n",
      "Cheese Fries                       29\n",
      "Chicken                            28\n",
      "Shackburger                        27\n",
      "Shack Burger                       26\n",
      "...                               ...\n",
      "Mushroom & Cheese Omelette          1\n",
      "Linzer Tart                         1\n",
      "Nf Plain Greek Yogurt               1\n",
      "Tsunami                             1\n",
      "Organic Salmon                      1\n",
      "\n",
      "[2013 rows x 1 columns]\n",
      "                       item_category_name\n",
      "Sides                                 158\n",
      "Burgers                               133\n",
      "Appetizers                            122\n",
      "Sandwiches                            104\n",
      "Fries                                  94\n",
      "...                                   ...\n",
      "Shakes & Floats                         1\n",
      "Lunch Snacks                            1\n",
      "Sides (dinner)                          1\n",
      "Lunch/Dinner (Pizza)                    1\n",
      "Lucky's Fries & Sides                   1\n",
      "\n",
      "[719 rows x 1 columns]\n"
     ]
    }
   ],
   "source": [
    "select_cols = ['vehicle_type',\n",
    "               'pickup_place',\n",
    "               'place_category',\n",
    "               'item_name',\n",
    "               'item_category_name']\n",
    "\n",
    "for col in select_cols:\n",
    "    print(pd.DataFrame(df[col].value_counts()))"
   ]
  },
  {
   "cell_type": "markdown",
   "metadata": {},
   "source": [
    "### 'item_quantity'\n",
    "The integrity of the following columns can be assessed by looking at several measures of the statistical distribution of each set."
   ]
  },
  {
   "cell_type": "code",
   "execution_count": 15,
   "metadata": {},
   "outputs": [
    {
     "data": {
      "text/plain": [
       "count    3984.000000\n",
       "mean        1.245231\n",
       "std         0.781632\n",
       "min         1.000000\n",
       "25%         1.000000\n",
       "50%         1.000000\n",
       "75%         1.000000\n",
       "max        16.000000\n",
       "Name: item_quantity, dtype: float64"
      ]
     },
     "execution_count": 15,
     "metadata": {},
     "output_type": "execute_result"
    }
   ],
   "source": [
    "df['item_quantity'].describe()"
   ]
  },
  {
   "cell_type": "markdown",
   "metadata": {},
   "source": [
    "### Pickup & Dropoff Locations\n",
    "Assessment of pickup and dropoff locations"
   ]
  },
  {
   "cell_type": "code",
   "execution_count": 16,
   "metadata": {},
   "outputs": [
    {
     "data": {
      "text/html": [
       "<div style=\"display: inline-block; width: 520px; vertical-align: top; text-align: center;\"><h4 style=\"font-size: 12px\">0</h4><h4 style=\"font-size: 9px; padding-left: 10px; padding-right: 10px; width: 90%; word-wrap: break-word; white-space: normal;\">img/Pickup.png</h4><img src=\"img/Pickup.png\" style=\"margin: 1px; width: 500px; border: 2px solid #ddd;\"/></div><div style=\"display: inline-block; width: 520px; vertical-align: top; text-align: center;\"><h4 style=\"font-size: 12px\">1</h4><h4 style=\"font-size: 9px; padding-left: 10px; padding-right: 10px; width: 90%; word-wrap: break-word; white-space: normal;\">img/Dropoff.png</h4><img src=\"img/Dropoff.png\" style=\"margin: 1px; width: 500px; border: 2px solid #ddd;\"/></div><div style=\"display: inline-block; width: 520px; vertical-align: top; text-align: center;\"><h4 style=\"font-size: 12px\">2</h4><h4 style=\"font-size: 9px; padding-left: 10px; padding-right: 10px; width: 90%; word-wrap: break-word; white-space: normal;\">img/Pickup_zoom.png</h4><img src=\"img/Pickup_zoom.png\" style=\"margin: 1px; width: 500px; border: 2px solid #ddd;\"/></div><div style=\"display: inline-block; width: 520px; vertical-align: top; text-align: center;\"><h4 style=\"font-size: 12px\">3</h4><h4 style=\"font-size: 9px; padding-left: 10px; padding-right: 10px; width: 90%; word-wrap: break-word; white-space: normal;\">img/Dropoff_zoom.png</h4><img src=\"img/Dropoff_zoom.png\" style=\"margin: 1px; width: 500px; border: 2px solid #ddd;\"/></div>"
      ],
      "text/plain": [
       "<IPython.core.display.HTML object>"
      ]
     },
     "metadata": {},
     "output_type": "display_data"
    }
   ],
   "source": [
    "import ipyplot\n",
    "\n",
    "images_list = ['img/Pickup.png','img/Dropoff.png',\n",
    "               'img/Pickup_zoom.png','img/Dropoff_zoom.png']\n",
    "\n",
    "ipyplot.plot_images(images_list, img_width=500)"
   ]
  },
  {
   "cell_type": "markdown",
   "metadata": {},
   "source": [
    "The pickup and dropoff locations all appear to be valid."
   ]
  },
  {
   "cell_type": "markdown",
   "metadata": {},
   "source": [
    "### 'when_the_delivery_started','when_the_Jumpman_arrived_at_pickup','when_the_Jumpman_left_pickup','when_the_Jumpman_arrived_at_dropoff'\n",
    "Check the min and max values for the relevant timestamp columns. It the data is for the month of October."
   ]
  },
  {
   "cell_type": "code",
   "execution_count": 17,
   "metadata": {},
   "outputs": [
    {
     "name": "stdout",
     "output_type": "stream",
     "text": [
      "when_the_delivery_started: 2014-10-01 00:07:58.632482 , 2014-10-30 23:08:43.481900\n",
      "when_the_Jumpman_arrived_at_pickup: 2014-10-01 00:39:31.086322 , 2014-10-30 23:10:31.062088\n",
      "when_the_Jumpman_left_pickup: 2014-10-01 00:59:57.522402 , 2014-10-30 23:23:51.143279\n",
      "when_the_Jumpman_arrived_at_dropoff: 2014-10-01 00:30:21.109149 , 2014-10-30 23:29:44.866438\n",
      "how_long_it_took_to_order: 0 days 00:01:22.997519 , 0 days 01:13:13.266118\n"
     ]
    }
   ],
   "source": [
    "date_cols = ['when_the_delivery_started',\n",
    "             'when_the_Jumpman_arrived_at_pickup',\n",
    "             'when_the_Jumpman_left_pickup',\n",
    "             'when_the_Jumpman_arrived_at_dropoff']\n",
    "\n",
    "time_cols = ['how_long_it_took_to_order']\n",
    "for i in date_cols:\n",
    "    df[i] = pd.to_datetime(df[i])\n",
    "    \n",
    "for i in time_cols:\n",
    "    df[i] = pd.to_timedelta(df[i])\n",
    "\n",
    "for col in date_cols:\n",
    "    print(col+\":\",\n",
    "          df[col].min(),\n",
    "          \",\",\n",
    "          df[col].max())\n",
    "    \n",
    "for col in time_cols:\n",
    "    print(col+\":\",\n",
    "          df[col].min(),\n",
    "          \",\",\n",
    "          df[col].max())\n"
   ]
  },
  {
   "cell_type": "code",
   "execution_count": 18,
   "metadata": {},
   "outputs": [
    {
     "data": {
      "text/plain": [
       "count    2579.000000\n",
       "mean        7.202404\n",
       "std         5.710237\n",
       "min         1.000000\n",
       "25%         4.000000\n",
       "50%         6.000000\n",
       "75%         9.000000\n",
       "max        73.000000\n",
       "Name: how_long_it_took_to_order, dtype: float64"
      ]
     },
     "execution_count": 18,
     "metadata": {},
     "output_type": "execute_result"
    }
   ],
   "source": [
    "df['how_long_it_took_to_order'] = df['how_long_it_took_to_order'].astype('timedelta64[m]')\n",
    "df['how_long_it_took_to_order'].describe()"
   ]
  },
  {
   "cell_type": "markdown",
   "metadata": {},
   "source": [
    "<a id='missing'></a>\n",
    "## Missing Data\n",
    "\n",
    "Now that we've gone through all of the columns, we'll need to come up with a strategy for how to handle the remaining missing information."
   ]
  },
  {
   "cell_type": "code",
   "execution_count": 19,
   "metadata": {},
   "outputs": [
    {
     "data": {
      "text/plain": [
       "delivery_id                               0\n",
       "customer_id                               0\n",
       "jumpman_id                                0\n",
       "vehicle_type                              0\n",
       "pickup_place                              0\n",
       "place_category                          841\n",
       "item_name                              1230\n",
       "item_quantity                          1230\n",
       "item_category_name                     1230\n",
       "how_long_it_took_to_order              2635\n",
       "pickup_lat                                0\n",
       "pickup_lon                                0\n",
       "dropoff_lat                               0\n",
       "dropoff_lon                               0\n",
       "when_the_delivery_started                 0\n",
       "when_the_Jumpman_arrived_at_pickup      495\n",
       "when_the_Jumpman_left_pickup            495\n",
       "when_the_Jumpman_arrived_at_dropoff       0\n",
       "dtype: int64"
      ]
     },
     "execution_count": 19,
     "metadata": {},
     "output_type": "execute_result"
    }
   ],
   "source": [
    "df.isnull().sum()"
   ]
  },
  {
   "cell_type": "markdown",
   "metadata": {},
   "source": [
    "I plan to make an assumption of a value to fill for the missing 'how_long_it_took_to_order' values. First, let's look at a distribution"
   ]
  },
  {
   "cell_type": "code",
   "execution_count": 20,
   "metadata": {},
   "outputs": [
    {
     "data": {
      "text/plain": [
       "<matplotlib.axes._subplots.AxesSubplot at 0x7f88fe393c90>"
      ]
     },
     "execution_count": 20,
     "metadata": {},
     "output_type": "execute_result"
    },
    {
     "data": {
      "image/png": "[encoded data removed]",
      "text/plain": [
       "<Figure size 432x288 with 1 Axes>"
      ]
     },
     "metadata": {
      "needs_background": "light"
     },
     "output_type": "display_data"
    }
   ],
   "source": [
    "df['how_long_it_took_to_order'].hist(bins=100)"
   ]
  },
  {
   "cell_type": "code",
   "execution_count": 21,
   "metadata": {},
   "outputs": [
    {
     "data": {
      "text/plain": [
       "array(['American', 'Pizza', 'Burger', 'Juice Bar', 'Japanese', 'Indian',\n",
       "       'Sushi', 'Bakery', nan, 'Mexican', 'BBQ', 'Dessert', 'Vegan',\n",
       "       'Fast Food', 'Korean', 'Drug Store', 'Italian', 'Grocery Store',\n",
       "       'Breakfast', 'Coffee', 'Salad', 'Middle Eastern', 'Mediterranean',\n",
       "       'Seafood', 'Russian', 'Southern', 'Vegetarian', 'Deli',\n",
       "       'South American', 'French', 'Chinese', 'Asian', 'Donut',\n",
       "       'Gluten-Free', 'Office Supplies Store', 'Convenience Store',\n",
       "       'Shop', 'Food Truck', 'Clothing', 'German', 'Promo',\n",
       "       'Electronics Store', 'Steak', 'Ice Cream', 'Thai', 'Spanish',\n",
       "       'Caribbean', 'Vietnamese', 'Book Store', 'Specialty Store',\n",
       "       'Eastern European', 'Kids & Baby', 'Department Store',\n",
       "       'Beauty Supply', 'African', 'Restaurant', 'Art Store',\n",
       "       'Pet Supplies Store'], dtype=object)"
      ]
     },
     "execution_count": 21,
     "metadata": {},
     "output_type": "execute_result"
    }
   ],
   "source": [
    "df['place_category'].unique()"
   ]
  },
  {
   "cell_type": "code",
   "execution_count": 22,
   "metadata": {},
   "outputs": [
    {
     "data": {
      "text/html": [
       "<div>\n",
       "<style scoped>\n",
       "    .dataframe tbody tr th:only-of-type {\n",
       "        vertical-align: middle;\n",
       "    }\n",
       "\n",
       "    .dataframe tbody tr th {\n",
       "        vertical-align: top;\n",
       "    }\n",
       "\n",
       "    .dataframe thead th {\n",
       "        text-align: right;\n",
       "    }\n",
       "</style>\n",
       "<table border=\"1\" class=\"dataframe\">\n",
       "  <thead>\n",
       "    <tr style=\"text-align: right;\">\n",
       "      <th></th>\n",
       "      <th>count</th>\n",
       "      <th>mean</th>\n",
       "      <th>std</th>\n",
       "      <th>min</th>\n",
       "      <th>25%</th>\n",
       "      <th>50%</th>\n",
       "      <th>75%</th>\n",
       "      <th>max</th>\n",
       "    </tr>\n",
       "    <tr>\n",
       "      <th>place_category</th>\n",
       "      <th></th>\n",
       "      <th></th>\n",
       "      <th></th>\n",
       "      <th></th>\n",
       "      <th></th>\n",
       "      <th></th>\n",
       "      <th></th>\n",
       "      <th></th>\n",
       "    </tr>\n",
       "  </thead>\n",
       "  <tbody>\n",
       "    <tr>\n",
       "      <th>Italian</th>\n",
       "      <td>382.0</td>\n",
       "      <td>6.772251</td>\n",
       "      <td>4.663812</td>\n",
       "      <td>1.0</td>\n",
       "      <td>4.00</td>\n",
       "      <td>6.0</td>\n",
       "      <td>8.00</td>\n",
       "      <td>29.0</td>\n",
       "    </tr>\n",
       "    <tr>\n",
       "      <th>Japanese</th>\n",
       "      <td>315.0</td>\n",
       "      <td>7.336508</td>\n",
       "      <td>5.826124</td>\n",
       "      <td>2.0</td>\n",
       "      <td>4.00</td>\n",
       "      <td>6.0</td>\n",
       "      <td>9.00</td>\n",
       "      <td>45.0</td>\n",
       "    </tr>\n",
       "    <tr>\n",
       "      <th>Chinese</th>\n",
       "      <td>235.0</td>\n",
       "      <td>6.314894</td>\n",
       "      <td>5.815062</td>\n",
       "      <td>1.0</td>\n",
       "      <td>4.00</td>\n",
       "      <td>5.0</td>\n",
       "      <td>7.00</td>\n",
       "      <td>72.0</td>\n",
       "    </tr>\n",
       "    <tr>\n",
       "      <th>American</th>\n",
       "      <td>194.0</td>\n",
       "      <td>8.025773</td>\n",
       "      <td>5.549995</td>\n",
       "      <td>1.0</td>\n",
       "      <td>5.00</td>\n",
       "      <td>6.0</td>\n",
       "      <td>10.00</td>\n",
       "      <td>31.0</td>\n",
       "    </tr>\n",
       "    <tr>\n",
       "      <th>Sushi</th>\n",
       "      <td>189.0</td>\n",
       "      <td>8.645503</td>\n",
       "      <td>4.854943</td>\n",
       "      <td>2.0</td>\n",
       "      <td>5.00</td>\n",
       "      <td>7.0</td>\n",
       "      <td>11.00</td>\n",
       "      <td>27.0</td>\n",
       "    </tr>\n",
       "    <tr>\n",
       "      <th>Salad</th>\n",
       "      <td>125.0</td>\n",
       "      <td>7.488000</td>\n",
       "      <td>7.413606</td>\n",
       "      <td>1.0</td>\n",
       "      <td>4.00</td>\n",
       "      <td>6.0</td>\n",
       "      <td>9.00</td>\n",
       "      <td>73.0</td>\n",
       "    </tr>\n",
       "    <tr>\n",
       "      <th>Burger</th>\n",
       "      <td>90.0</td>\n",
       "      <td>6.277778</td>\n",
       "      <td>3.932086</td>\n",
       "      <td>1.0</td>\n",
       "      <td>4.00</td>\n",
       "      <td>5.0</td>\n",
       "      <td>7.00</td>\n",
       "      <td>21.0</td>\n",
       "    </tr>\n",
       "    <tr>\n",
       "      <th>Indian</th>\n",
       "      <td>67.0</td>\n",
       "      <td>5.865672</td>\n",
       "      <td>4.667410</td>\n",
       "      <td>1.0</td>\n",
       "      <td>3.00</td>\n",
       "      <td>5.0</td>\n",
       "      <td>7.00</td>\n",
       "      <td>29.0</td>\n",
       "    </tr>\n",
       "    <tr>\n",
       "      <th>Pizza</th>\n",
       "      <td>64.0</td>\n",
       "      <td>7.781250</td>\n",
       "      <td>8.373179</td>\n",
       "      <td>1.0</td>\n",
       "      <td>4.00</td>\n",
       "      <td>5.5</td>\n",
       "      <td>9.00</td>\n",
       "      <td>63.0</td>\n",
       "    </tr>\n",
       "    <tr>\n",
       "      <th>Mexican</th>\n",
       "      <td>62.0</td>\n",
       "      <td>7.435484</td>\n",
       "      <td>5.838316</td>\n",
       "      <td>2.0</td>\n",
       "      <td>3.00</td>\n",
       "      <td>6.0</td>\n",
       "      <td>9.75</td>\n",
       "      <td>27.0</td>\n",
       "    </tr>\n",
       "    <tr>\n",
       "      <th>Seafood</th>\n",
       "      <td>56.0</td>\n",
       "      <td>6.946429</td>\n",
       "      <td>6.839510</td>\n",
       "      <td>2.0</td>\n",
       "      <td>4.00</td>\n",
       "      <td>5.0</td>\n",
       "      <td>7.00</td>\n",
       "      <td>47.0</td>\n",
       "    </tr>\n",
       "    <tr>\n",
       "      <th>Middle Eastern</th>\n",
       "      <td>52.0</td>\n",
       "      <td>7.576923</td>\n",
       "      <td>4.679308</td>\n",
       "      <td>2.0</td>\n",
       "      <td>4.00</td>\n",
       "      <td>6.0</td>\n",
       "      <td>9.25</td>\n",
       "      <td>26.0</td>\n",
       "    </tr>\n",
       "    <tr>\n",
       "      <th>Vegetarian</th>\n",
       "      <td>51.0</td>\n",
       "      <td>9.450980</td>\n",
       "      <td>8.936025</td>\n",
       "      <td>1.0</td>\n",
       "      <td>4.00</td>\n",
       "      <td>6.0</td>\n",
       "      <td>10.00</td>\n",
       "      <td>37.0</td>\n",
       "    </tr>\n",
       "    <tr>\n",
       "      <th>Deli</th>\n",
       "      <td>48.0</td>\n",
       "      <td>7.375000</td>\n",
       "      <td>8.078406</td>\n",
       "      <td>2.0</td>\n",
       "      <td>4.00</td>\n",
       "      <td>6.0</td>\n",
       "      <td>8.00</td>\n",
       "      <td>58.0</td>\n",
       "    </tr>\n",
       "    <tr>\n",
       "      <th>Mediterranean</th>\n",
       "      <td>48.0</td>\n",
       "      <td>5.750000</td>\n",
       "      <td>3.386456</td>\n",
       "      <td>1.0</td>\n",
       "      <td>3.00</td>\n",
       "      <td>5.0</td>\n",
       "      <td>7.00</td>\n",
       "      <td>16.0</td>\n",
       "    </tr>\n",
       "    <tr>\n",
       "      <th>BBQ</th>\n",
       "      <td>32.0</td>\n",
       "      <td>10.843750</td>\n",
       "      <td>7.278379</td>\n",
       "      <td>2.0</td>\n",
       "      <td>5.75</td>\n",
       "      <td>9.0</td>\n",
       "      <td>12.25</td>\n",
       "      <td>32.0</td>\n",
       "    </tr>\n",
       "    <tr>\n",
       "      <th>Steak</th>\n",
       "      <td>30.0</td>\n",
       "      <td>7.000000</td>\n",
       "      <td>3.600766</td>\n",
       "      <td>3.0</td>\n",
       "      <td>4.25</td>\n",
       "      <td>7.0</td>\n",
       "      <td>8.00</td>\n",
       "      <td>19.0</td>\n",
       "    </tr>\n",
       "    <tr>\n",
       "      <th>South American</th>\n",
       "      <td>28.0</td>\n",
       "      <td>7.071429</td>\n",
       "      <td>5.304984</td>\n",
       "      <td>2.0</td>\n",
       "      <td>3.75</td>\n",
       "      <td>5.0</td>\n",
       "      <td>8.50</td>\n",
       "      <td>24.0</td>\n",
       "    </tr>\n",
       "    <tr>\n",
       "      <th>Breakfast</th>\n",
       "      <td>28.0</td>\n",
       "      <td>6.607143</td>\n",
       "      <td>6.051258</td>\n",
       "      <td>2.0</td>\n",
       "      <td>4.00</td>\n",
       "      <td>5.0</td>\n",
       "      <td>7.00</td>\n",
       "      <td>33.0</td>\n",
       "    </tr>\n",
       "    <tr>\n",
       "      <th>Thai</th>\n",
       "      <td>28.0</td>\n",
       "      <td>6.642857</td>\n",
       "      <td>4.975602</td>\n",
       "      <td>3.0</td>\n",
       "      <td>4.00</td>\n",
       "      <td>5.0</td>\n",
       "      <td>6.50</td>\n",
       "      <td>23.0</td>\n",
       "    </tr>\n",
       "    <tr>\n",
       "      <th>Coffee</th>\n",
       "      <td>27.0</td>\n",
       "      <td>4.888889</td>\n",
       "      <td>2.207214</td>\n",
       "      <td>2.0</td>\n",
       "      <td>3.00</td>\n",
       "      <td>5.0</td>\n",
       "      <td>6.00</td>\n",
       "      <td>11.0</td>\n",
       "    </tr>\n",
       "    <tr>\n",
       "      <th>Vegan</th>\n",
       "      <td>15.0</td>\n",
       "      <td>6.466667</td>\n",
       "      <td>4.033196</td>\n",
       "      <td>2.0</td>\n",
       "      <td>3.50</td>\n",
       "      <td>6.0</td>\n",
       "      <td>8.50</td>\n",
       "      <td>15.0</td>\n",
       "    </tr>\n",
       "    <tr>\n",
       "      <th>Korean</th>\n",
       "      <td>13.0</td>\n",
       "      <td>7.000000</td>\n",
       "      <td>5.744563</td>\n",
       "      <td>3.0</td>\n",
       "      <td>4.00</td>\n",
       "      <td>6.0</td>\n",
       "      <td>7.00</td>\n",
       "      <td>25.0</td>\n",
       "    </tr>\n",
       "    <tr>\n",
       "      <th>Spanish</th>\n",
       "      <td>12.0</td>\n",
       "      <td>7.333333</td>\n",
       "      <td>4.599078</td>\n",
       "      <td>2.0</td>\n",
       "      <td>3.75</td>\n",
       "      <td>6.5</td>\n",
       "      <td>9.25</td>\n",
       "      <td>16.0</td>\n",
       "    </tr>\n",
       "    <tr>\n",
       "      <th>Food Truck</th>\n",
       "      <td>11.0</td>\n",
       "      <td>6.727273</td>\n",
       "      <td>4.027180</td>\n",
       "      <td>3.0</td>\n",
       "      <td>3.50</td>\n",
       "      <td>5.0</td>\n",
       "      <td>9.50</td>\n",
       "      <td>15.0</td>\n",
       "    </tr>\n",
       "    <tr>\n",
       "      <th>Russian</th>\n",
       "      <td>8.0</td>\n",
       "      <td>5.250000</td>\n",
       "      <td>1.752549</td>\n",
       "      <td>3.0</td>\n",
       "      <td>3.75</td>\n",
       "      <td>5.5</td>\n",
       "      <td>7.00</td>\n",
       "      <td>7.0</td>\n",
       "    </tr>\n",
       "    <tr>\n",
       "      <th>Bakery</th>\n",
       "      <td>8.0</td>\n",
       "      <td>9.000000</td>\n",
       "      <td>6.676184</td>\n",
       "      <td>4.0</td>\n",
       "      <td>4.75</td>\n",
       "      <td>5.5</td>\n",
       "      <td>11.50</td>\n",
       "      <td>20.0</td>\n",
       "    </tr>\n",
       "    <tr>\n",
       "      <th>Eastern European</th>\n",
       "      <td>7.0</td>\n",
       "      <td>10.714286</td>\n",
       "      <td>6.210590</td>\n",
       "      <td>3.0</td>\n",
       "      <td>6.00</td>\n",
       "      <td>11.0</td>\n",
       "      <td>14.50</td>\n",
       "      <td>20.0</td>\n",
       "    </tr>\n",
       "    <tr>\n",
       "      <th>Vietnamese</th>\n",
       "      <td>6.0</td>\n",
       "      <td>5.833333</td>\n",
       "      <td>3.060501</td>\n",
       "      <td>2.0</td>\n",
       "      <td>4.25</td>\n",
       "      <td>5.5</td>\n",
       "      <td>6.75</td>\n",
       "      <td>11.0</td>\n",
       "    </tr>\n",
       "    <tr>\n",
       "      <th>Caribbean</th>\n",
       "      <td>5.0</td>\n",
       "      <td>4.200000</td>\n",
       "      <td>3.563706</td>\n",
       "      <td>1.0</td>\n",
       "      <td>2.00</td>\n",
       "      <td>3.0</td>\n",
       "      <td>5.00</td>\n",
       "      <td>10.0</td>\n",
       "    </tr>\n",
       "    <tr>\n",
       "      <th>Southern</th>\n",
       "      <td>5.0</td>\n",
       "      <td>8.000000</td>\n",
       "      <td>7.582875</td>\n",
       "      <td>2.0</td>\n",
       "      <td>4.00</td>\n",
       "      <td>5.0</td>\n",
       "      <td>8.00</td>\n",
       "      <td>21.0</td>\n",
       "    </tr>\n",
       "    <tr>\n",
       "      <th>German</th>\n",
       "      <td>4.0</td>\n",
       "      <td>7.500000</td>\n",
       "      <td>4.932883</td>\n",
       "      <td>2.0</td>\n",
       "      <td>5.75</td>\n",
       "      <td>7.0</td>\n",
       "      <td>8.75</td>\n",
       "      <td>14.0</td>\n",
       "    </tr>\n",
       "    <tr>\n",
       "      <th>French</th>\n",
       "      <td>3.0</td>\n",
       "      <td>8.333333</td>\n",
       "      <td>1.527525</td>\n",
       "      <td>7.0</td>\n",
       "      <td>7.50</td>\n",
       "      <td>8.0</td>\n",
       "      <td>9.00</td>\n",
       "      <td>10.0</td>\n",
       "    </tr>\n",
       "    <tr>\n",
       "      <th>Asian</th>\n",
       "      <td>2.0</td>\n",
       "      <td>16.500000</td>\n",
       "      <td>19.091883</td>\n",
       "      <td>3.0</td>\n",
       "      <td>9.75</td>\n",
       "      <td>16.5</td>\n",
       "      <td>23.25</td>\n",
       "      <td>30.0</td>\n",
       "    </tr>\n",
       "    <tr>\n",
       "      <th>African</th>\n",
       "      <td>1.0</td>\n",
       "      <td>6.000000</td>\n",
       "      <td>NaN</td>\n",
       "      <td>6.0</td>\n",
       "      <td>6.00</td>\n",
       "      <td>6.0</td>\n",
       "      <td>6.00</td>\n",
       "      <td>6.0</td>\n",
       "    </tr>\n",
       "    <tr>\n",
       "      <th>Ice Cream</th>\n",
       "      <td>1.0</td>\n",
       "      <td>31.000000</td>\n",
       "      <td>NaN</td>\n",
       "      <td>31.0</td>\n",
       "      <td>31.00</td>\n",
       "      <td>31.0</td>\n",
       "      <td>31.00</td>\n",
       "      <td>31.0</td>\n",
       "    </tr>\n",
       "    <tr>\n",
       "      <th>Juice Bar</th>\n",
       "      <td>1.0</td>\n",
       "      <td>3.000000</td>\n",
       "      <td>NaN</td>\n",
       "      <td>3.0</td>\n",
       "      <td>3.00</td>\n",
       "      <td>3.0</td>\n",
       "      <td>3.00</td>\n",
       "      <td>3.0</td>\n",
       "    </tr>\n",
       "    <tr>\n",
       "      <th>Dessert</th>\n",
       "      <td>1.0</td>\n",
       "      <td>9.000000</td>\n",
       "      <td>NaN</td>\n",
       "      <td>9.0</td>\n",
       "      <td>9.00</td>\n",
       "      <td>9.0</td>\n",
       "      <td>9.00</td>\n",
       "      <td>9.0</td>\n",
       "    </tr>\n",
       "    <tr>\n",
       "      <th>Art Store</th>\n",
       "      <td>0.0</td>\n",
       "      <td>NaN</td>\n",
       "      <td>NaN</td>\n",
       "      <td>NaN</td>\n",
       "      <td>NaN</td>\n",
       "      <td>NaN</td>\n",
       "      <td>NaN</td>\n",
       "      <td>NaN</td>\n",
       "    </tr>\n",
       "    <tr>\n",
       "      <th>Beauty Supply</th>\n",
       "      <td>0.0</td>\n",
       "      <td>NaN</td>\n",
       "      <td>NaN</td>\n",
       "      <td>NaN</td>\n",
       "      <td>NaN</td>\n",
       "      <td>NaN</td>\n",
       "      <td>NaN</td>\n",
       "      <td>NaN</td>\n",
       "    </tr>\n",
       "    <tr>\n",
       "      <th>Book Store</th>\n",
       "      <td>0.0</td>\n",
       "      <td>NaN</td>\n",
       "      <td>NaN</td>\n",
       "      <td>NaN</td>\n",
       "      <td>NaN</td>\n",
       "      <td>NaN</td>\n",
       "      <td>NaN</td>\n",
       "      <td>NaN</td>\n",
       "    </tr>\n",
       "    <tr>\n",
       "      <th>Clothing</th>\n",
       "      <td>0.0</td>\n",
       "      <td>NaN</td>\n",
       "      <td>NaN</td>\n",
       "      <td>NaN</td>\n",
       "      <td>NaN</td>\n",
       "      <td>NaN</td>\n",
       "      <td>NaN</td>\n",
       "      <td>NaN</td>\n",
       "    </tr>\n",
       "    <tr>\n",
       "      <th>Convenience Store</th>\n",
       "      <td>0.0</td>\n",
       "      <td>NaN</td>\n",
       "      <td>NaN</td>\n",
       "      <td>NaN</td>\n",
       "      <td>NaN</td>\n",
       "      <td>NaN</td>\n",
       "      <td>NaN</td>\n",
       "      <td>NaN</td>\n",
       "    </tr>\n",
       "    <tr>\n",
       "      <th>Specialty Store</th>\n",
       "      <td>0.0</td>\n",
       "      <td>NaN</td>\n",
       "      <td>NaN</td>\n",
       "      <td>NaN</td>\n",
       "      <td>NaN</td>\n",
       "      <td>NaN</td>\n",
       "      <td>NaN</td>\n",
       "      <td>NaN</td>\n",
       "    </tr>\n",
       "    <tr>\n",
       "      <th>Department Store</th>\n",
       "      <td>0.0</td>\n",
       "      <td>NaN</td>\n",
       "      <td>NaN</td>\n",
       "      <td>NaN</td>\n",
       "      <td>NaN</td>\n",
       "      <td>NaN</td>\n",
       "      <td>NaN</td>\n",
       "      <td>NaN</td>\n",
       "    </tr>\n",
       "    <tr>\n",
       "      <th>Donut</th>\n",
       "      <td>0.0</td>\n",
       "      <td>NaN</td>\n",
       "      <td>NaN</td>\n",
       "      <td>NaN</td>\n",
       "      <td>NaN</td>\n",
       "      <td>NaN</td>\n",
       "      <td>NaN</td>\n",
       "      <td>NaN</td>\n",
       "    </tr>\n",
       "    <tr>\n",
       "      <th>Kids &amp; Baby</th>\n",
       "      <td>0.0</td>\n",
       "      <td>NaN</td>\n",
       "      <td>NaN</td>\n",
       "      <td>NaN</td>\n",
       "      <td>NaN</td>\n",
       "      <td>NaN</td>\n",
       "      <td>NaN</td>\n",
       "      <td>NaN</td>\n",
       "    </tr>\n",
       "    <tr>\n",
       "      <th>Drug Store</th>\n",
       "      <td>0.0</td>\n",
       "      <td>NaN</td>\n",
       "      <td>NaN</td>\n",
       "      <td>NaN</td>\n",
       "      <td>NaN</td>\n",
       "      <td>NaN</td>\n",
       "      <td>NaN</td>\n",
       "      <td>NaN</td>\n",
       "    </tr>\n",
       "    <tr>\n",
       "      <th>Electronics Store</th>\n",
       "      <td>0.0</td>\n",
       "      <td>NaN</td>\n",
       "      <td>NaN</td>\n",
       "      <td>NaN</td>\n",
       "      <td>NaN</td>\n",
       "      <td>NaN</td>\n",
       "      <td>NaN</td>\n",
       "      <td>NaN</td>\n",
       "    </tr>\n",
       "    <tr>\n",
       "      <th>Fast Food</th>\n",
       "      <td>0.0</td>\n",
       "      <td>NaN</td>\n",
       "      <td>NaN</td>\n",
       "      <td>NaN</td>\n",
       "      <td>NaN</td>\n",
       "      <td>NaN</td>\n",
       "      <td>NaN</td>\n",
       "      <td>NaN</td>\n",
       "    </tr>\n",
       "    <tr>\n",
       "      <th>Restaurant</th>\n",
       "      <td>0.0</td>\n",
       "      <td>NaN</td>\n",
       "      <td>NaN</td>\n",
       "      <td>NaN</td>\n",
       "      <td>NaN</td>\n",
       "      <td>NaN</td>\n",
       "      <td>NaN</td>\n",
       "      <td>NaN</td>\n",
       "    </tr>\n",
       "    <tr>\n",
       "      <th>Promo</th>\n",
       "      <td>0.0</td>\n",
       "      <td>NaN</td>\n",
       "      <td>NaN</td>\n",
       "      <td>NaN</td>\n",
       "      <td>NaN</td>\n",
       "      <td>NaN</td>\n",
       "      <td>NaN</td>\n",
       "      <td>NaN</td>\n",
       "    </tr>\n",
       "    <tr>\n",
       "      <th>Gluten-Free</th>\n",
       "      <td>0.0</td>\n",
       "      <td>NaN</td>\n",
       "      <td>NaN</td>\n",
       "      <td>NaN</td>\n",
       "      <td>NaN</td>\n",
       "      <td>NaN</td>\n",
       "      <td>NaN</td>\n",
       "      <td>NaN</td>\n",
       "    </tr>\n",
       "    <tr>\n",
       "      <th>Pet Supplies Store</th>\n",
       "      <td>0.0</td>\n",
       "      <td>NaN</td>\n",
       "      <td>NaN</td>\n",
       "      <td>NaN</td>\n",
       "      <td>NaN</td>\n",
       "      <td>NaN</td>\n",
       "      <td>NaN</td>\n",
       "      <td>NaN</td>\n",
       "    </tr>\n",
       "    <tr>\n",
       "      <th>Office Supplies Store</th>\n",
       "      <td>0.0</td>\n",
       "      <td>NaN</td>\n",
       "      <td>NaN</td>\n",
       "      <td>NaN</td>\n",
       "      <td>NaN</td>\n",
       "      <td>NaN</td>\n",
       "      <td>NaN</td>\n",
       "      <td>NaN</td>\n",
       "    </tr>\n",
       "    <tr>\n",
       "      <th>Grocery Store</th>\n",
       "      <td>0.0</td>\n",
       "      <td>NaN</td>\n",
       "      <td>NaN</td>\n",
       "      <td>NaN</td>\n",
       "      <td>NaN</td>\n",
       "      <td>NaN</td>\n",
       "      <td>NaN</td>\n",
       "      <td>NaN</td>\n",
       "    </tr>\n",
       "    <tr>\n",
       "      <th>Shop</th>\n",
       "      <td>0.0</td>\n",
       "      <td>NaN</td>\n",
       "      <td>NaN</td>\n",
       "      <td>NaN</td>\n",
       "      <td>NaN</td>\n",
       "      <td>NaN</td>\n",
       "      <td>NaN</td>\n",
       "      <td>NaN</td>\n",
       "    </tr>\n",
       "  </tbody>\n",
       "</table>\n",
       "</div>"
      ],
      "text/plain": [
       "                       count       mean        std   min    25%   50%    75%  \\\n",
       "place_category                                                                 \n",
       "Italian                382.0   6.772251   4.663812   1.0   4.00   6.0   8.00   \n",
       "Japanese               315.0   7.336508   5.826124   2.0   4.00   6.0   9.00   \n",
       "Chinese                235.0   6.314894   5.815062   1.0   4.00   5.0   7.00   \n",
       "American               194.0   8.025773   5.549995   1.0   5.00   6.0  10.00   \n",
       "Sushi                  189.0   8.645503   4.854943   2.0   5.00   7.0  11.00   \n",
       "Salad                  125.0   7.488000   7.413606   1.0   4.00   6.0   9.00   \n",
       "Burger                  90.0   6.277778   3.932086   1.0   4.00   5.0   7.00   \n",
       "Indian                  67.0   5.865672   4.667410   1.0   3.00   5.0   7.00   \n",
       "Pizza                   64.0   7.781250   8.373179   1.0   4.00   5.5   9.00   \n",
       "Mexican                 62.0   7.435484   5.838316   2.0   3.00   6.0   9.75   \n",
       "Seafood                 56.0   6.946429   6.839510   2.0   4.00   5.0   7.00   \n",
       "Middle Eastern          52.0   7.576923   4.679308   2.0   4.00   6.0   9.25   \n",
       "Vegetarian              51.0   9.450980   8.936025   1.0   4.00   6.0  10.00   \n",
       "Deli                    48.0   7.375000   8.078406   2.0   4.00   6.0   8.00   \n",
       "Mediterranean           48.0   5.750000   3.386456   1.0   3.00   5.0   7.00   \n",
       "BBQ                     32.0  10.843750   7.278379   2.0   5.75   9.0  12.25   \n",
       "Steak                   30.0   7.000000   3.600766   3.0   4.25   7.0   8.00   \n",
       "South American          28.0   7.071429   5.304984   2.0   3.75   5.0   8.50   \n",
       "Breakfast               28.0   6.607143   6.051258   2.0   4.00   5.0   7.00   \n",
       "Thai                    28.0   6.642857   4.975602   3.0   4.00   5.0   6.50   \n",
       "Coffee                  27.0   4.888889   2.207214   2.0   3.00   5.0   6.00   \n",
       "Vegan                   15.0   6.466667   4.033196   2.0   3.50   6.0   8.50   \n",
       "Korean                  13.0   7.000000   5.744563   3.0   4.00   6.0   7.00   \n",
       "Spanish                 12.0   7.333333   4.599078   2.0   3.75   6.5   9.25   \n",
       "Food Truck              11.0   6.727273   4.027180   3.0   3.50   5.0   9.50   \n",
       "Russian                  8.0   5.250000   1.752549   3.0   3.75   5.5   7.00   \n",
       "Bakery                   8.0   9.000000   6.676184   4.0   4.75   5.5  11.50   \n",
       "Eastern European         7.0  10.714286   6.210590   3.0   6.00  11.0  14.50   \n",
       "Vietnamese               6.0   5.833333   3.060501   2.0   4.25   5.5   6.75   \n",
       "Caribbean                5.0   4.200000   3.563706   1.0   2.00   3.0   5.00   \n",
       "Southern                 5.0   8.000000   7.582875   2.0   4.00   5.0   8.00   \n",
       "German                   4.0   7.500000   4.932883   2.0   5.75   7.0   8.75   \n",
       "French                   3.0   8.333333   1.527525   7.0   7.50   8.0   9.00   \n",
       "Asian                    2.0  16.500000  19.091883   3.0   9.75  16.5  23.25   \n",
       "African                  1.0   6.000000        NaN   6.0   6.00   6.0   6.00   \n",
       "Ice Cream                1.0  31.000000        NaN  31.0  31.00  31.0  31.00   \n",
       "Juice Bar                1.0   3.000000        NaN   3.0   3.00   3.0   3.00   \n",
       "Dessert                  1.0   9.000000        NaN   9.0   9.00   9.0   9.00   \n",
       "Art Store                0.0        NaN        NaN   NaN    NaN   NaN    NaN   \n",
       "Beauty Supply            0.0        NaN        NaN   NaN    NaN   NaN    NaN   \n",
       "Book Store               0.0        NaN        NaN   NaN    NaN   NaN    NaN   \n",
       "Clothing                 0.0        NaN        NaN   NaN    NaN   NaN    NaN   \n",
       "Convenience Store        0.0        NaN        NaN   NaN    NaN   NaN    NaN   \n",
       "Specialty Store          0.0        NaN        NaN   NaN    NaN   NaN    NaN   \n",
       "Department Store         0.0        NaN        NaN   NaN    NaN   NaN    NaN   \n",
       "Donut                    0.0        NaN        NaN   NaN    NaN   NaN    NaN   \n",
       "Kids & Baby              0.0        NaN        NaN   NaN    NaN   NaN    NaN   \n",
       "Drug Store               0.0        NaN        NaN   NaN    NaN   NaN    NaN   \n",
       "Electronics Store        0.0        NaN        NaN   NaN    NaN   NaN    NaN   \n",
       "Fast Food                0.0        NaN        NaN   NaN    NaN   NaN    NaN   \n",
       "Restaurant               0.0        NaN        NaN   NaN    NaN   NaN    NaN   \n",
       "Promo                    0.0        NaN        NaN   NaN    NaN   NaN    NaN   \n",
       "Gluten-Free              0.0        NaN        NaN   NaN    NaN   NaN    NaN   \n",
       "Pet Supplies Store       0.0        NaN        NaN   NaN    NaN   NaN    NaN   \n",
       "Office Supplies Store    0.0        NaN        NaN   NaN    NaN   NaN    NaN   \n",
       "Grocery Store            0.0        NaN        NaN   NaN    NaN   NaN    NaN   \n",
       "Shop                     0.0        NaN        NaN   NaN    NaN   NaN    NaN   \n",
       "\n",
       "                        max  \n",
       "place_category               \n",
       "Italian                29.0  \n",
       "Japanese               45.0  \n",
       "Chinese                72.0  \n",
       "American               31.0  \n",
       "Sushi                  27.0  \n",
       "Salad                  73.0  \n",
       "Burger                 21.0  \n",
       "Indian                 29.0  \n",
       "Pizza                  63.0  \n",
       "Mexican                27.0  \n",
       "Seafood                47.0  \n",
       "Middle Eastern         26.0  \n",
       "Vegetarian             37.0  \n",
       "Deli                   58.0  \n",
       "Mediterranean          16.0  \n",
       "BBQ                    32.0  \n",
       "Steak                  19.0  \n",
       "South American         24.0  \n",
       "Breakfast              33.0  \n",
       "Thai                   23.0  \n",
       "Coffee                 11.0  \n",
       "Vegan                  15.0  \n",
       "Korean                 25.0  \n",
       "Spanish                16.0  \n",
       "Food Truck             15.0  \n",
       "Russian                 7.0  \n",
       "Bakery                 20.0  \n",
       "Eastern European       20.0  \n",
       "Vietnamese             11.0  \n",
       "Caribbean              10.0  \n",
       "Southern               21.0  \n",
       "German                 14.0  \n",
       "French                 10.0  \n",
       "Asian                  30.0  \n",
       "African                 6.0  \n",
       "Ice Cream              31.0  \n",
       "Juice Bar               3.0  \n",
       "Dessert                 9.0  \n",
       "Art Store               NaN  \n",
       "Beauty Supply           NaN  \n",
       "Book Store              NaN  \n",
       "Clothing                NaN  \n",
       "Convenience Store       NaN  \n",
       "Specialty Store         NaN  \n",
       "Department Store        NaN  \n",
       "Donut                   NaN  \n",
       "Kids & Baby             NaN  \n",
       "Drug Store              NaN  \n",
       "Electronics Store       NaN  \n",
       "Fast Food               NaN  \n",
       "Restaurant              NaN  \n",
       "Promo                   NaN  \n",
       "Gluten-Free             NaN  \n",
       "Pet Supplies Store      NaN  \n",
       "Office Supplies Store   NaN  \n",
       "Grocery Store           NaN  \n",
       "Shop                    NaN  "
      ]
     },
     "execution_count": 22,
     "metadata": {},
     "output_type": "execute_result"
    }
   ],
   "source": [
    "#check how long it took to order by restaurant category\n",
    "df.groupby(by = 'place_category')['how_long_it_took_to_order'].describe().sort_values(by='count', ascending=False)"
   ]
  },
  {
   "cell_type": "code",
   "execution_count": 23,
   "metadata": {},
   "outputs": [
    {
     "data": {
      "text/plain": [
       "7.2024040325707634"
      ]
     },
     "execution_count": 23,
     "metadata": {},
     "output_type": "execute_result"
    }
   ],
   "source": [
    "avg_time_to_order = df['how_long_it_took_to_order'].mean()\n",
    "avg_time_to_order"
   ]
  },
  {
   "cell_type": "markdown",
   "metadata": {},
   "source": [
    "It appears there isn't meaningful deviation between the most popular restaurants. Few restaurants with smaller counts have greater deviation. I feel that it is safe to use an average value of ~7.2 minutes to fill the remaining N/As."
   ]
  },
  {
   "cell_type": "code",
   "execution_count": 24,
   "metadata": {},
   "outputs": [],
   "source": [
    "df['place_category'].fillna('Not Disclosed', inplace=True)\n",
    "df['item_name'].fillna('Not Disclosed', inplace=True)\n",
    "df['item_quantity'].fillna('Not Disclosed', inplace=True)\n",
    "df['item_category_name'].fillna('Not Disclosed', inplace=True)\n",
    "df['how_long_it_took_to_order'].fillna(avg_time_to_order, inplace=True)\n"
   ]
  },
  {
   "cell_type": "code",
   "execution_count": 25,
   "metadata": {},
   "outputs": [
    {
     "data": {
      "text/plain": [
       "delivery_id                            0.000000\n",
       "customer_id                            0.000000\n",
       "jumpman_id                             0.000000\n",
       "vehicle_type                           0.000000\n",
       "pickup_place                           0.000000\n",
       "place_category                         0.000000\n",
       "item_name                              0.000000\n",
       "item_quantity                          0.000000\n",
       "item_category_name                     0.000000\n",
       "how_long_it_took_to_order              0.000000\n",
       "pickup_lat                             0.000000\n",
       "pickup_lon                             0.000000\n",
       "dropoff_lat                            0.000000\n",
       "dropoff_lon                            0.000000\n",
       "when_the_delivery_started              0.000000\n",
       "when_the_Jumpman_arrived_at_pickup     0.094937\n",
       "when_the_Jumpman_left_pickup           0.094937\n",
       "when_the_Jumpman_arrived_at_dropoff    0.000000\n",
       "dtype: float64"
      ]
     },
     "execution_count": 25,
     "metadata": {},
     "output_type": "execute_result"
    }
   ],
   "source": [
    "df.isnull().sum()/len(df)\n"
   ]
  },
  {
   "cell_type": "code",
   "execution_count": 26,
   "metadata": {},
   "outputs": [],
   "source": [
    "#Less than 10% of the Jumpman Arrived at Pickup & left Pickup are empty, therefore, I'm comfortable dropping the entries with missing data\n",
    "df = df.dropna(subset=['when_the_Jumpman_arrived_at_pickup','when_the_Jumpman_left_pickup'])"
   ]
  },
  {
   "cell_type": "code",
   "execution_count": 27,
   "metadata": {},
   "outputs": [
    {
     "data": {
      "text/plain": [
       "delivery_id                            0\n",
       "customer_id                            0\n",
       "jumpman_id                             0\n",
       "vehicle_type                           0\n",
       "pickup_place                           0\n",
       "place_category                         0\n",
       "item_name                              0\n",
       "item_quantity                          0\n",
       "item_category_name                     0\n",
       "how_long_it_took_to_order              0\n",
       "pickup_lat                             0\n",
       "pickup_lon                             0\n",
       "dropoff_lat                            0\n",
       "dropoff_lon                            0\n",
       "when_the_delivery_started              0\n",
       "when_the_Jumpman_arrived_at_pickup     0\n",
       "when_the_Jumpman_left_pickup           0\n",
       "when_the_Jumpman_arrived_at_dropoff    0\n",
       "dtype: int64"
      ]
     },
     "execution_count": 27,
     "metadata": {},
     "output_type": "execute_result"
    }
   ],
   "source": [
    "df.isnull().sum()"
   ]
  },
  {
   "cell_type": "markdown",
   "metadata": {},
   "source": [
    "<a id='engineering'></a>\n",
    "## Feature Engineering"
   ]
  },
  {
   "cell_type": "markdown",
   "metadata": {},
   "source": [
    "<a id='haversine'></a>\n",
    "Calculate the distance between the pickup and dropoff locations using Haversine distance. The Haversine distance is the angular distance between two points on the surface of a sphere. It is important to note this is distance is \"as the crow flies\", not distance such as driving directions on a map."
   ]
  },
  {
   "cell_type": "code",
   "execution_count": 28,
   "metadata": {},
   "outputs": [],
   "source": [
    "def haversine_distance_miles(lat1, lon1, lat2, lon2):\n",
    "   r = 3959\n",
    "   phi1 = np.radians(lat1)\n",
    "   phi2 = np.radians(lat2)\n",
    "   delta_phi = np.radians(lat2 - lat1)\n",
    "   delta_lambda = np.radians(lon2 - lon1)\n",
    "   a = np.sin(delta_phi / 2)**2 + np.cos(phi1) * np.cos(phi2) *   np.sin(delta_lambda / 2)**2\n",
    "   res = r * (2 * np.arctan2(np.sqrt(a), np.sqrt(1 - a)))\n",
    "   return np.round(res, 2)\n",
    "\n",
    "df['haversine_distance_mi'] = haversine_distance_miles(df['pickup_lat'],\n",
    "                                              df['pickup_lon'],\n",
    "                                              df['dropoff_lat'],\n",
    "                                              df['dropoff_lon'])"
   ]
  },
  {
   "cell_type": "code",
   "execution_count": 29,
   "metadata": {},
   "outputs": [
    {
     "data": {
      "text/plain": [
       "delivery_id                                               1476547\n",
       "customer_id                                                 83095\n",
       "jumpman_id                                                 132725\n",
       "vehicle_type                                              bicycle\n",
       "pickup_place                                           Bareburger\n",
       "place_category                                             Burger\n",
       "item_name                                              Bare Sodas\n",
       "item_quantity                                                   1\n",
       "item_category_name                                         Drinks\n",
       "how_long_it_took_to_order                                       6\n",
       "pickup_lat                                                40.7285\n",
       "pickup_lon                                               -73.9984\n",
       "dropoff_lat                                               40.7286\n",
       "dropoff_lon                                              -73.9951\n",
       "when_the_delivery_started              2014-10-28 21:39:52.654394\n",
       "when_the_Jumpman_arrived_at_pickup     2014-10-28 21:37:18.793405\n",
       "when_the_Jumpman_left_pickup           2014-10-28 21:59:09.984810\n",
       "when_the_Jumpman_arrived_at_dropoff    2014-10-28 22:04:40.634962\n",
       "haversine_distance_mi                                        0.17\n",
       "Name: 2, dtype: object"
      ]
     },
     "execution_count": 29,
     "metadata": {},
     "output_type": "execute_result"
    }
   ],
   "source": [
    "df.iloc[1]"
   ]
  },
  {
   "cell_type": "code",
   "execution_count": 30,
   "metadata": {},
   "outputs": [],
   "source": [
    "#calculate travel time in seconds, minutes, and hours\n",
    "travel_time_seconds = (df['when_the_Jumpman_arrived_at_dropoff'] - df['when_the_Jumpman_left_pickup']).astype('timedelta64[s]')\n",
    "df['travel_time_seconds'] = travel_time_seconds\n",
    "df['travel_time_minutes'] = travel_time_seconds / 60\n",
    "df['travel_time_hours'] = travel_time_seconds / 60 / 60\n",
    "\n",
    "#calculate travel rate in mph\n",
    "travel_rate_mph = df['haversine_distance_mi'] / df['travel_time_hours']\n",
    "df['travel_rate_mph'] = travel_rate_mph\n"
   ]
  },
  {
   "cell_type": "code",
   "execution_count": 31,
   "metadata": {},
   "outputs": [
    {
     "data": {
      "text/plain": [
       "<matplotlib.axes._subplots.AxesSubplot at 0x7f890134ac10>"
      ]
     },
     "execution_count": 31,
     "metadata": {},
     "output_type": "execute_result"
    },
    {
     "data": {
      "image/png": "[encoded data removed]",
      "text/plain": [
       "<Figure size 432x288 with 1 Axes>"
      ]
     },
     "metadata": {
      "needs_background": "light"
     },
     "output_type": "display_data"
    }
   ],
   "source": [
    "sns.boxplot(x=\"travel_rate_mph\", y=\"vehicle_type\", data=df, width=.8)\n"
   ]
  },
  {
   "cell_type": "code",
   "execution_count": 32,
   "metadata": {},
   "outputs": [
    {
     "data": {
      "text/html": [
       "<div>\n",
       "<style scoped>\n",
       "    .dataframe tbody tr th:only-of-type {\n",
       "        vertical-align: middle;\n",
       "    }\n",
       "\n",
       "    .dataframe tbody tr th {\n",
       "        vertical-align: top;\n",
       "    }\n",
       "\n",
       "    .dataframe thead th {\n",
       "        text-align: right;\n",
       "    }\n",
       "</style>\n",
       "<table border=\"1\" class=\"dataframe\">\n",
       "  <thead>\n",
       "    <tr style=\"text-align: right;\">\n",
       "      <th></th>\n",
       "      <th>delivery_id</th>\n",
       "      <th>customer_id</th>\n",
       "      <th>jumpman_id</th>\n",
       "      <th>vehicle_type</th>\n",
       "      <th>pickup_place</th>\n",
       "      <th>place_category</th>\n",
       "      <th>item_name</th>\n",
       "      <th>item_quantity</th>\n",
       "      <th>item_category_name</th>\n",
       "      <th>how_long_it_took_to_order</th>\n",
       "      <th>...</th>\n",
       "      <th>dropoff_lon</th>\n",
       "      <th>when_the_delivery_started</th>\n",
       "      <th>when_the_Jumpman_arrived_at_pickup</th>\n",
       "      <th>when_the_Jumpman_left_pickup</th>\n",
       "      <th>when_the_Jumpman_arrived_at_dropoff</th>\n",
       "      <th>haversine_distance_mi</th>\n",
       "      <th>travel_time_seconds</th>\n",
       "      <th>travel_time_minutes</th>\n",
       "      <th>travel_time_hours</th>\n",
       "      <th>travel_rate_mph</th>\n",
       "    </tr>\n",
       "  </thead>\n",
       "  <tbody>\n",
       "    <tr>\n",
       "      <th>1633</th>\n",
       "      <td>1311664</td>\n",
       "      <td>115231</td>\n",
       "      <td>104533</td>\n",
       "      <td>bicycle</td>\n",
       "      <td>Izakaya Ten</td>\n",
       "      <td>Japanese</td>\n",
       "      <td>Buta Kimchee</td>\n",
       "      <td>1</td>\n",
       "      <td>Most Popular Dishes</td>\n",
       "      <td>8.000000</td>\n",
       "      <td>...</td>\n",
       "      <td>-73.975572</td>\n",
       "      <td>2014-10-06 23:31:20.745851</td>\n",
       "      <td>2014-10-06 23:34:39.045825</td>\n",
       "      <td>2014-10-07 00:07:44.960222</td>\n",
       "      <td>2014-10-07 00:10:32.909649</td>\n",
       "      <td>2.58</td>\n",
       "      <td>167.0</td>\n",
       "      <td>2.783333</td>\n",
       "      <td>0.046389</td>\n",
       "      <td>55.616766</td>\n",
       "    </tr>\n",
       "    <tr>\n",
       "      <th>4072</th>\n",
       "      <td>1381438</td>\n",
       "      <td>68942</td>\n",
       "      <td>30743</td>\n",
       "      <td>bicycle</td>\n",
       "      <td>Petco</td>\n",
       "      <td>Pet Supplies Store</td>\n",
       "      <td>Not Disclosed</td>\n",
       "      <td>Not Disclosed</td>\n",
       "      <td>Not Disclosed</td>\n",
       "      <td>7.202404</td>\n",
       "      <td>...</td>\n",
       "      <td>-74.008097</td>\n",
       "      <td>2014-10-17 16:58:07.674090</td>\n",
       "      <td>2014-10-17 17:03:51.506568</td>\n",
       "      <td>2014-10-17 17:37:08.556556</td>\n",
       "      <td>2014-10-17 17:38:03.145692</td>\n",
       "      <td>1.71</td>\n",
       "      <td>54.0</td>\n",
       "      <td>0.900000</td>\n",
       "      <td>0.015000</td>\n",
       "      <td>114.000000</td>\n",
       "    </tr>\n",
       "  </tbody>\n",
       "</table>\n",
       "<p>2 rows × 23 columns</p>\n",
       "</div>"
      ],
      "text/plain": [
       "      delivery_id  customer_id  jumpman_id vehicle_type pickup_place  \\\n",
       "1633      1311664       115231      104533      bicycle  Izakaya Ten   \n",
       "4072      1381438        68942       30743      bicycle        Petco   \n",
       "\n",
       "          place_category      item_name  item_quantity   item_category_name  \\\n",
       "1633            Japanese   Buta Kimchee              1  Most Popular Dishes   \n",
       "4072  Pet Supplies Store  Not Disclosed  Not Disclosed        Not Disclosed   \n",
       "\n",
       "      how_long_it_took_to_order  ...  dropoff_lon  when_the_delivery_started  \\\n",
       "1633                   8.000000  ...   -73.975572 2014-10-06 23:31:20.745851   \n",
       "4072                   7.202404  ...   -74.008097 2014-10-17 16:58:07.674090   \n",
       "\n",
       "      when_the_Jumpman_arrived_at_pickup  when_the_Jumpman_left_pickup  \\\n",
       "1633          2014-10-06 23:34:39.045825    2014-10-07 00:07:44.960222   \n",
       "4072          2014-10-17 17:03:51.506568    2014-10-17 17:37:08.556556   \n",
       "\n",
       "     when_the_Jumpman_arrived_at_dropoff haversine_distance_mi  \\\n",
       "1633          2014-10-07 00:10:32.909649                  2.58   \n",
       "4072          2014-10-17 17:38:03.145692                  1.71   \n",
       "\n",
       "     travel_time_seconds travel_time_minutes  travel_time_hours  \\\n",
       "1633               167.0            2.783333           0.046389   \n",
       "4072                54.0            0.900000           0.015000   \n",
       "\n",
       "      travel_rate_mph  \n",
       "1633        55.616766  \n",
       "4072       114.000000  \n",
       "\n",
       "[2 rows x 23 columns]"
      ]
     },
     "execution_count": 32,
     "metadata": {},
     "output_type": "execute_result"
    }
   ],
   "source": [
    "df[df['travel_rate_mph'] >50]"
   ]
  },
  {
   "cell_type": "markdown",
   "metadata": {},
   "source": [
    "<a id='EDA'></a>\n",
    "# Exploratory Data Analysis (EDA)"
   ]
  },
  {
   "cell_type": "code",
   "execution_count": 33,
   "metadata": {},
   "outputs": [],
   "source": [
    "#drop the record where the bicyclist traveled >100mph as that appears ot be an error\n",
    "#Not concerned with high rates (walker, for instance, of 15+ mph) as they can take the subway or public transit bus, etc. \n",
    "\n",
    "i = df[df['travel_rate_mph'] >55].index\n",
    "df.drop(i, inplace=True)\n"
   ]
  },
  {
   "cell_type": "code",
   "execution_count": 34,
   "metadata": {},
   "outputs": [
    {
     "data": {
      "text/plain": [
       "Text(0.5, 1.0, 'Vehicle Travel Rate Comparison Boxplot')"
      ]
     },
     "execution_count": 34,
     "metadata": {},
     "output_type": "execute_result"
    },
    {
     "data": {
      "image/png": "[encoded data removed]",
      "text/plain": [
       "<Figure size 720x288 with 1 Axes>"
      ]
     },
     "metadata": {
      "needs_background": "light"
     },
     "output_type": "display_data"
    }
   ],
   "source": [
    "import matplotlib.pyplot as plt\n",
    "plt.subplots(figsize=(10,4))\n",
    "sns.boxplot(x=\"travel_rate_mph\", y=\"vehicle_type\", data=df, width=.8)\n",
    "plt.xticks(np.arange(0, 45, 5))\n",
    "plt.title('Vehicle Travel Rate Comparison Boxplot')\n"
   ]
  },
  {
   "cell_type": "code",
   "execution_count": 35,
   "metadata": {},
   "outputs": [],
   "source": [
    "#difference between leaving pickup and arriving at pickup and how long it took to order\n",
    "diff1 = df['when_the_Jumpman_left_pickup'] - df['when_the_Jumpman_arrived_at_pickup'] - df['how_long_it_took_to_order'].astype('timedelta64[m]')\n",
    "\n",
    "#simply the amount of time the jumpman waited at the restaurant\n",
    "diff2 = df['when_the_Jumpman_left_pickup'] - df['when_the_Jumpman_arrived_at_pickup']\n",
    "\n",
    "df['Jumpmen_wait_time'] = diff2.astype('timedelta64[m]')"
   ]
  },
  {
   "cell_type": "code",
   "execution_count": 36,
   "metadata": {},
   "outputs": [
    {
     "name": "stdout",
     "output_type": "stream",
     "text": [
      "4717\n",
      "1      -1 days +23:57:20.970322\n",
      "8      -1 days +23:58:49.768211\n",
      "10     -1 days +23:57:35.599710\n",
      "45     -1 days +23:54:20.805456\n",
      "64     -1 days +23:54:18.790127\n",
      "                 ...           \n",
      "5924   -1 days +23:58:37.487807\n",
      "5925   -1 days +23:53:50.027812\n",
      "5960   -1 days +23:59:19.889030\n",
      "5961   -1 days +23:58:50.123971\n",
      "5974   -1 days +23:57:25.519233\n",
      "Length: 371, dtype: timedelta64[ns]\n"
     ]
    }
   ],
   "source": [
    "#seems odd that 370 have a negative value\n",
    "\n",
    "print(len(diff1))\n",
    "print(diff1[diff1.astype('timedelta64[m]')<0])"
   ]
  },
  {
   "cell_type": "code",
   "execution_count": 37,
   "metadata": {},
   "outputs": [
    {
     "data": {
      "text/plain": [
       "count    4717.000000\n",
       "mean       17.725885\n",
       "std        11.717126\n",
       "min         0.000000\n",
       "25%        10.000000\n",
       "50%        15.000000\n",
       "75%        22.000000\n",
       "max       267.000000\n",
       "dtype: float64"
      ]
     },
     "execution_count": 37,
     "metadata": {},
     "output_type": "execute_result"
    }
   ],
   "source": [
    "diff2.astype('timedelta64[m]').describe()"
   ]
  },
  {
   "cell_type": "code",
   "execution_count": 38,
   "metadata": {},
   "outputs": [
    {
     "data": {
      "text/plain": [
       "Text(0.5, 0, 'Minutes Spent Waiting at Restaurant')"
      ]
     },
     "execution_count": 38,
     "metadata": {},
     "output_type": "execute_result"
    },
    {
     "data": {
      "image/png": "[encoded data removed]",
      "text/plain": [
       "<Figure size 432x288 with 1 Axes>"
      ]
     },
     "metadata": {
      "needs_background": "light"
     },
     "output_type": "display_data"
    }
   ],
   "source": [
    "diff2.astype('timedelta64[m]').hist(bins=70)\n",
    "plt.xticks(np.arange(0,270, 20))\n",
    "plt.title('Pickup Place Wait Times')\n",
    "plt.xlabel('Minutes Spent Waiting at Restaurant')\n"
   ]
  },
  {
   "cell_type": "code",
   "execution_count": 39,
   "metadata": {},
   "outputs": [
    {
     "name": "stdout",
     "output_type": "stream",
     "text": [
      "minutes:  83613.0\n",
      "hours:  1393.55\n"
     ]
    }
   ],
   "source": [
    "print('minutes: ',diff2.astype('timedelta64[m]').sum())\n",
    "print('hours: ',diff2.astype('timedelta64[m]').sum()/60)"
   ]
  },
  {
   "cell_type": "markdown",
   "metadata": {},
   "source": [
    "Check the distribution for how long it took to order"
   ]
  },
  {
   "cell_type": "code",
   "execution_count": 40,
   "metadata": {},
   "outputs": [
    {
     "data": {
      "text/plain": [
       "<matplotlib.axes._subplots.AxesSubplot at 0x7f8902201710>"
      ]
     },
     "execution_count": 40,
     "metadata": {},
     "output_type": "execute_result"
    },
    {
     "data": {
      "image/png": "[encoded data removed]",
      "text/plain": [
       "<Figure size 432x288 with 1 Axes>"
      ]
     },
     "metadata": {
      "needs_background": "light"
     },
     "output_type": "display_data"
    }
   ],
   "source": [
    "df['how_long_it_took_to_order'].hist(bins=50)"
   ]
  },
  {
   "cell_type": "code",
   "execution_count": 41,
   "metadata": {},
   "outputs": [
    {
     "data": {
      "text/plain": [
       "Not Disclosed            729\n",
       "Italian                  410\n",
       "Burger                   368\n",
       "American                 335\n",
       "Japanese                 300\n",
       "Dessert                  269\n",
       "Chinese                  246\n",
       "Sushi                    182\n",
       "Salad                    176\n",
       "Mexican                  143\n",
       "Bakery                   123\n",
       "Grocery Store            112\n",
       "BBQ                      104\n",
       "Pizza                     88\n",
       "Juice Bar                 81\n",
       "Indian                    76\n",
       "Donut                     67\n",
       "Seafood                   63\n",
       "Fast Food                 58\n",
       "Mediterranean             57\n",
       "Vegetarian                55\n",
       "Middle Eastern            52\n",
       "Deli                      50\n",
       "Coffee                    49\n",
       "Gluten-Free               49\n",
       "Ice Cream                 48\n",
       "Drug Store                48\n",
       "Breakfast                 42\n",
       "Shop                      39\n",
       "South American            33\n",
       "Thai                      30\n",
       "Steak                     28\n",
       "Southern                  23\n",
       "French                    19\n",
       "Electronics Store         17\n",
       "Vegan                     17\n",
       "Food Truck                17\n",
       "Korean                    13\n",
       "Spanish                   12\n",
       "Asian                     11\n",
       "Eastern European          10\n",
       "Promo                      9\n",
       "Russian                    8\n",
       "Department Store           8\n",
       "Convenience Store          8\n",
       "Vietnamese                 6\n",
       "Caribbean                  6\n",
       "Specialty Store            5\n",
       "Office Supplies Store      4\n",
       "German                     4\n",
       "Kids & Baby                3\n",
       "Beauty Supply              2\n",
       "Book Store                 1\n",
       "Restaurant                 1\n",
       "Clothing                   1\n",
       "African                    1\n",
       "Art Store                  1\n",
       "Name: place_category, dtype: int64"
      ]
     },
     "execution_count": 41,
     "metadata": {},
     "output_type": "execute_result"
    }
   ],
   "source": [
    "df['place_category'].value_counts()"
   ]
  },
  {
   "cell_type": "code",
   "execution_count": null,
   "metadata": {},
   "outputs": [],
   "source": []
  },
  {
   "cell_type": "code",
   "execution_count": null,
   "metadata": {},
   "outputs": [],
   "source": []
  },
  {
   "cell_type": "code",
   "execution_count": null,
   "metadata": {},
   "outputs": [],
   "source": []
  },
  {
   "cell_type": "code",
   "execution_count": 42,
   "metadata": {},
   "outputs": [
    {
     "name": "stdout",
     "output_type": "stream",
     "text": [
      "2014-10-01 01:04:14.355157\n",
      "2014-10-30 23:29:44.866438\n"
     ]
    }
   ],
   "source": [
    "#what timeframe of data?\n",
    "\n",
    "print(df.when_the_Jumpman_arrived_at_dropoff.min())\n",
    "print(df.when_the_Jumpman_arrived_at_dropoff.max())"
   ]
  },
  {
   "cell_type": "code",
   "execution_count": 43,
   "metadata": {},
   "outputs": [
    {
     "data": {
      "text/plain": [
       "bicycle       3371\n",
       "car            967\n",
       "walker         209\n",
       "van             60\n",
       "scooter         58\n",
       "truck           34\n",
       "motorcycle      18\n",
       "Name: vehicle_type, dtype: int64"
      ]
     },
     "execution_count": 43,
     "metadata": {},
     "output_type": "execute_result"
    }
   ],
   "source": [
    "#what is the most popular method of delivery?\n",
    "df['vehicle_type'].value_counts()"
   ]
  },
  {
   "cell_type": "code",
   "execution_count": 44,
   "metadata": {},
   "outputs": [
    {
     "data": {
      "text/plain": [
       "Text(0, 0.5, 'Y')"
      ]
     },
     "execution_count": 44,
     "metadata": {},
     "output_type": "execute_result"
    },
    {
     "data": {
      "image/png": "[encoded data removed]",
      "text/plain": [
       "<Figure size 432x288 with 1 Axes>"
      ]
     },
     "metadata": {
      "needs_background": "light"
     },
     "output_type": "display_data"
    }
   ],
   "source": [
    "#distribution of jumpman delivery people\n",
    "df.jumpman_id.value_counts().hist(bins=100)\n",
    "plt.title('Distribution of Number of Jumpman ID Based on Records')\n",
    "plt.xlabel('Count of Records')\n",
    "plt.ylabel('Y')\n"
   ]
  },
  {
   "cell_type": "code",
   "execution_count": 45,
   "metadata": {},
   "outputs": [
    {
     "data": {
      "text/plain": [
       "99219     59\n",
       "142394    58\n",
       "104533    58\n",
       "30743     49\n",
       "3296      49\n",
       "          ..\n",
       "177125     1\n",
       "64628      1\n",
       "94614      1\n",
       "137979     1\n",
       "159647     1\n",
       "Name: jumpman_id, Length: 565, dtype: int64"
      ]
     },
     "execution_count": 45,
     "metadata": {},
     "output_type": "execute_result"
    }
   ],
   "source": [
    "df.jumpman_id.value_counts().sort_values(ascending=False)"
   ]
  },
  {
   "cell_type": "code",
   "execution_count": 46,
   "metadata": {},
   "outputs": [
    {
     "data": {
      "text/html": [
       "<div>\n",
       "<style scoped>\n",
       "    .dataframe tbody tr th:only-of-type {\n",
       "        vertical-align: middle;\n",
       "    }\n",
       "\n",
       "    .dataframe tbody tr th {\n",
       "        vertical-align: top;\n",
       "    }\n",
       "\n",
       "    .dataframe thead th {\n",
       "        text-align: right;\n",
       "    }\n",
       "</style>\n",
       "<table border=\"1\" class=\"dataframe\">\n",
       "  <thead>\n",
       "    <tr style=\"text-align: right;\">\n",
       "      <th></th>\n",
       "      <th>delivery_id</th>\n",
       "      <th>customer_id</th>\n",
       "      <th>jumpman_id</th>\n",
       "      <th>vehicle_type</th>\n",
       "      <th>pickup_place</th>\n",
       "      <th>place_category</th>\n",
       "      <th>item_name</th>\n",
       "      <th>item_quantity</th>\n",
       "      <th>item_category_name</th>\n",
       "      <th>how_long_it_took_to_order</th>\n",
       "      <th>...</th>\n",
       "      <th>when_the_delivery_started</th>\n",
       "      <th>when_the_Jumpman_arrived_at_pickup</th>\n",
       "      <th>when_the_Jumpman_left_pickup</th>\n",
       "      <th>when_the_Jumpman_arrived_at_dropoff</th>\n",
       "      <th>haversine_distance_mi</th>\n",
       "      <th>travel_time_seconds</th>\n",
       "      <th>travel_time_minutes</th>\n",
       "      <th>travel_time_hours</th>\n",
       "      <th>travel_rate_mph</th>\n",
       "      <th>Jumpmen_wait_time</th>\n",
       "    </tr>\n",
       "  </thead>\n",
       "  <tbody>\n",
       "    <tr>\n",
       "      <th>1</th>\n",
       "      <td>1377056</td>\n",
       "      <td>64452</td>\n",
       "      <td>104533</td>\n",
       "      <td>bicycle</td>\n",
       "      <td>Prince Street Pizza</td>\n",
       "      <td>Pizza</td>\n",
       "      <td>Neapolitan Rice Balls</td>\n",
       "      <td>3</td>\n",
       "      <td>Munchables</td>\n",
       "      <td>25.000000</td>\n",
       "      <td>...</td>\n",
       "      <td>2014-10-16 21:58:58.654910</td>\n",
       "      <td>2014-10-16 22:26:02.120931</td>\n",
       "      <td>2014-10-16 22:48:23.091253</td>\n",
       "      <td>2014-10-16 22:59:22.948873</td>\n",
       "      <td>0.27</td>\n",
       "      <td>659.0</td>\n",
       "      <td>10.983333</td>\n",
       "      <td>0.183056</td>\n",
       "      <td>1.474962</td>\n",
       "      <td>22.0</td>\n",
       "    </tr>\n",
       "    <tr>\n",
       "      <th>21</th>\n",
       "      <td>1356218</td>\n",
       "      <td>128224</td>\n",
       "      <td>99219</td>\n",
       "      <td>bicycle</td>\n",
       "      <td>Osteria Morini</td>\n",
       "      <td>Italian</td>\n",
       "      <td>Garganelli</td>\n",
       "      <td>1</td>\n",
       "      <td>Pasta</td>\n",
       "      <td>7.202404</td>\n",
       "      <td>...</td>\n",
       "      <td>2014-10-13 18:00:38.265026</td>\n",
       "      <td>2014-10-13 18:01:53.350477</td>\n",
       "      <td>2014-10-13 18:30:02.582698</td>\n",
       "      <td>2014-10-13 18:40:48.499622</td>\n",
       "      <td>0.84</td>\n",
       "      <td>645.0</td>\n",
       "      <td>10.750000</td>\n",
       "      <td>0.179167</td>\n",
       "      <td>4.688372</td>\n",
       "      <td>28.0</td>\n",
       "    </tr>\n",
       "    <tr>\n",
       "      <th>24</th>\n",
       "      <td>1488027</td>\n",
       "      <td>396432</td>\n",
       "      <td>99219</td>\n",
       "      <td>bicycle</td>\n",
       "      <td>Juice Press</td>\n",
       "      <td>Juice Bar</td>\n",
       "      <td>Rehab Shot</td>\n",
       "      <td>2</td>\n",
       "      <td>Other Beverages</td>\n",
       "      <td>7.202404</td>\n",
       "      <td>...</td>\n",
       "      <td>2014-10-30 17:36:13.679620</td>\n",
       "      <td>2014-10-30 17:36:59.326686</td>\n",
       "      <td>2014-10-30 17:55:48.869001</td>\n",
       "      <td>2014-10-30 18:05:27.272486</td>\n",
       "      <td>0.51</td>\n",
       "      <td>578.0</td>\n",
       "      <td>9.633333</td>\n",
       "      <td>0.160556</td>\n",
       "      <td>3.176471</td>\n",
       "      <td>18.0</td>\n",
       "    </tr>\n",
       "    <tr>\n",
       "      <th>32</th>\n",
       "      <td>1467996</td>\n",
       "      <td>301380</td>\n",
       "      <td>142394</td>\n",
       "      <td>bicycle</td>\n",
       "      <td>ilili Restaurant</td>\n",
       "      <td>Middle Eastern</td>\n",
       "      <td>Hommus</td>\n",
       "      <td>1</td>\n",
       "      <td>Dips</td>\n",
       "      <td>5.000000</td>\n",
       "      <td>...</td>\n",
       "      <td>2014-10-27 13:18:37.395003</td>\n",
       "      <td>2014-10-27 13:30:46.385334</td>\n",
       "      <td>2014-10-27 13:46:07.104381</td>\n",
       "      <td>2014-10-27 13:57:18.114768</td>\n",
       "      <td>0.64</td>\n",
       "      <td>671.0</td>\n",
       "      <td>11.183333</td>\n",
       "      <td>0.186389</td>\n",
       "      <td>3.433681</td>\n",
       "      <td>15.0</td>\n",
       "    </tr>\n",
       "    <tr>\n",
       "      <th>53</th>\n",
       "      <td>1407558</td>\n",
       "      <td>41130</td>\n",
       "      <td>99219</td>\n",
       "      <td>bicycle</td>\n",
       "      <td>Village Yogurt</td>\n",
       "      <td>Not Disclosed</td>\n",
       "      <td>Not Disclosed</td>\n",
       "      <td>Not Disclosed</td>\n",
       "      <td>Not Disclosed</td>\n",
       "      <td>7.202404</td>\n",
       "      <td>...</td>\n",
       "      <td>2014-10-20 11:34:27.673232</td>\n",
       "      <td>2014-10-20 11:35:39.406833</td>\n",
       "      <td>2014-10-20 11:45:29.157896</td>\n",
       "      <td>2014-10-20 11:55:03.887998</td>\n",
       "      <td>1.05</td>\n",
       "      <td>574.0</td>\n",
       "      <td>9.566667</td>\n",
       "      <td>0.159444</td>\n",
       "      <td>6.585366</td>\n",
       "      <td>9.0</td>\n",
       "    </tr>\n",
       "    <tr>\n",
       "      <th>...</th>\n",
       "      <td>...</td>\n",
       "      <td>...</td>\n",
       "      <td>...</td>\n",
       "      <td>...</td>\n",
       "      <td>...</td>\n",
       "      <td>...</td>\n",
       "      <td>...</td>\n",
       "      <td>...</td>\n",
       "      <td>...</td>\n",
       "      <td>...</td>\n",
       "      <td>...</td>\n",
       "      <td>...</td>\n",
       "      <td>...</td>\n",
       "      <td>...</td>\n",
       "      <td>...</td>\n",
       "      <td>...</td>\n",
       "      <td>...</td>\n",
       "      <td>...</td>\n",
       "      <td>...</td>\n",
       "      <td>...</td>\n",
       "      <td>...</td>\n",
       "    </tr>\n",
       "    <tr>\n",
       "      <th>5453</th>\n",
       "      <td>1412950</td>\n",
       "      <td>374826</td>\n",
       "      <td>104533</td>\n",
       "      <td>bicycle</td>\n",
       "      <td>Waverly Diner</td>\n",
       "      <td>American</td>\n",
       "      <td>Linzer Tart</td>\n",
       "      <td>1</td>\n",
       "      <td>Desserts</td>\n",
       "      <td>7.202404</td>\n",
       "      <td>...</td>\n",
       "      <td>2014-10-21 01:32:28.490579</td>\n",
       "      <td>2014-10-21 01:35:43.948815</td>\n",
       "      <td>2014-10-21 01:47:18.834652</td>\n",
       "      <td>2014-10-21 02:17:23.383088</td>\n",
       "      <td>0.81</td>\n",
       "      <td>1804.0</td>\n",
       "      <td>30.066667</td>\n",
       "      <td>0.501111</td>\n",
       "      <td>1.616408</td>\n",
       "      <td>11.0</td>\n",
       "    </tr>\n",
       "    <tr>\n",
       "      <th>5473</th>\n",
       "      <td>1272439</td>\n",
       "      <td>354016</td>\n",
       "      <td>99219</td>\n",
       "      <td>bicycle</td>\n",
       "      <td>Waverly Diner</td>\n",
       "      <td>American</td>\n",
       "      <td>Cappuccino</td>\n",
       "      <td>1</td>\n",
       "      <td>Gourmet Coffee</td>\n",
       "      <td>4.000000</td>\n",
       "      <td>...</td>\n",
       "      <td>2014-10-01 10:54:28.015258</td>\n",
       "      <td>2014-10-01 11:08:57.885556</td>\n",
       "      <td>2014-10-01 11:15:17.553251</td>\n",
       "      <td>2014-10-01 11:24:58.870870</td>\n",
       "      <td>0.81</td>\n",
       "      <td>581.0</td>\n",
       "      <td>9.683333</td>\n",
       "      <td>0.161389</td>\n",
       "      <td>5.018933</td>\n",
       "      <td>6.0</td>\n",
       "    </tr>\n",
       "    <tr>\n",
       "      <th>5544</th>\n",
       "      <td>1489657</td>\n",
       "      <td>390459</td>\n",
       "      <td>104533</td>\n",
       "      <td>bicycle</td>\n",
       "      <td>Shake Shack</td>\n",
       "      <td>Burger</td>\n",
       "      <td>Bottled Water</td>\n",
       "      <td>1</td>\n",
       "      <td>Drinks</td>\n",
       "      <td>7.202404</td>\n",
       "      <td>...</td>\n",
       "      <td>2014-10-30 20:21:01.542454</td>\n",
       "      <td>2014-10-30 20:29:06.666940</td>\n",
       "      <td>2014-10-30 21:05:59.314556</td>\n",
       "      <td>2014-10-30 21:18:13.905804</td>\n",
       "      <td>0.88</td>\n",
       "      <td>734.0</td>\n",
       "      <td>12.233333</td>\n",
       "      <td>0.203889</td>\n",
       "      <td>4.316076</td>\n",
       "      <td>36.0</td>\n",
       "    </tr>\n",
       "    <tr>\n",
       "      <th>5548</th>\n",
       "      <td>1341499</td>\n",
       "      <td>67370</td>\n",
       "      <td>104533</td>\n",
       "      <td>bicycle</td>\n",
       "      <td>Duane Reade</td>\n",
       "      <td>Drug Store</td>\n",
       "      <td>Not Disclosed</td>\n",
       "      <td>Not Disclosed</td>\n",
       "      <td>Not Disclosed</td>\n",
       "      <td>7.202404</td>\n",
       "      <td>...</td>\n",
       "      <td>2014-10-11 20:28:59.236913</td>\n",
       "      <td>2014-10-11 20:43:07.273090</td>\n",
       "      <td>2014-10-11 20:51:59.962551</td>\n",
       "      <td>2014-10-11 20:58:41.812364</td>\n",
       "      <td>0.42</td>\n",
       "      <td>401.0</td>\n",
       "      <td>6.683333</td>\n",
       "      <td>0.111389</td>\n",
       "      <td>3.770574</td>\n",
       "      <td>8.0</td>\n",
       "    </tr>\n",
       "    <tr>\n",
       "      <th>5802</th>\n",
       "      <td>1399659</td>\n",
       "      <td>373485</td>\n",
       "      <td>99219</td>\n",
       "      <td>bicycle</td>\n",
       "      <td>sweetgreen</td>\n",
       "      <td>Salad</td>\n",
       "      <td>Guacamole Greens</td>\n",
       "      <td>1</td>\n",
       "      <td>Signatures</td>\n",
       "      <td>9.000000</td>\n",
       "      <td>...</td>\n",
       "      <td>2014-10-19 16:20:53.468818</td>\n",
       "      <td>2014-10-19 16:25:32.377069</td>\n",
       "      <td>2014-10-19 16:57:22.303257</td>\n",
       "      <td>2014-10-19 17:06:06.192092</td>\n",
       "      <td>0.64</td>\n",
       "      <td>523.0</td>\n",
       "      <td>8.716667</td>\n",
       "      <td>0.145278</td>\n",
       "      <td>4.405354</td>\n",
       "      <td>31.0</td>\n",
       "    </tr>\n",
       "  </tbody>\n",
       "</table>\n",
       "<p>175 rows × 24 columns</p>\n",
       "</div>"
      ],
      "text/plain": [
       "      delivery_id  customer_id  jumpman_id vehicle_type         pickup_place  \\\n",
       "1         1377056        64452      104533      bicycle  Prince Street Pizza   \n",
       "21        1356218       128224       99219      bicycle       Osteria Morini   \n",
       "24        1488027       396432       99219      bicycle          Juice Press   \n",
       "32        1467996       301380      142394      bicycle     ilili Restaurant   \n",
       "53        1407558        41130       99219      bicycle       Village Yogurt   \n",
       "...           ...          ...         ...          ...                  ...   \n",
       "5453      1412950       374826      104533      bicycle        Waverly Diner   \n",
       "5473      1272439       354016       99219      bicycle        Waverly Diner   \n",
       "5544      1489657       390459      104533      bicycle          Shake Shack   \n",
       "5548      1341499        67370      104533      bicycle          Duane Reade   \n",
       "5802      1399659       373485       99219      bicycle           sweetgreen   \n",
       "\n",
       "      place_category              item_name  item_quantity item_category_name  \\\n",
       "1              Pizza  Neapolitan Rice Balls              3         Munchables   \n",
       "21           Italian             Garganelli              1              Pasta   \n",
       "24         Juice Bar             Rehab Shot              2    Other Beverages   \n",
       "32    Middle Eastern                 Hommus              1               Dips   \n",
       "53     Not Disclosed          Not Disclosed  Not Disclosed      Not Disclosed   \n",
       "...              ...                    ...            ...                ...   \n",
       "5453        American            Linzer Tart              1           Desserts   \n",
       "5473        American             Cappuccino              1     Gourmet Coffee   \n",
       "5544          Burger          Bottled Water              1             Drinks   \n",
       "5548      Drug Store          Not Disclosed  Not Disclosed      Not Disclosed   \n",
       "5802           Salad       Guacamole Greens              1         Signatures   \n",
       "\n",
       "      how_long_it_took_to_order  ...  when_the_delivery_started  \\\n",
       "1                     25.000000  ... 2014-10-16 21:58:58.654910   \n",
       "21                     7.202404  ... 2014-10-13 18:00:38.265026   \n",
       "24                     7.202404  ... 2014-10-30 17:36:13.679620   \n",
       "32                     5.000000  ... 2014-10-27 13:18:37.395003   \n",
       "53                     7.202404  ... 2014-10-20 11:34:27.673232   \n",
       "...                         ...  ...                        ...   \n",
       "5453                   7.202404  ... 2014-10-21 01:32:28.490579   \n",
       "5473                   4.000000  ... 2014-10-01 10:54:28.015258   \n",
       "5544                   7.202404  ... 2014-10-30 20:21:01.542454   \n",
       "5548                   7.202404  ... 2014-10-11 20:28:59.236913   \n",
       "5802                   9.000000  ... 2014-10-19 16:20:53.468818   \n",
       "\n",
       "      when_the_Jumpman_arrived_at_pickup  when_the_Jumpman_left_pickup  \\\n",
       "1             2014-10-16 22:26:02.120931    2014-10-16 22:48:23.091253   \n",
       "21            2014-10-13 18:01:53.350477    2014-10-13 18:30:02.582698   \n",
       "24            2014-10-30 17:36:59.326686    2014-10-30 17:55:48.869001   \n",
       "32            2014-10-27 13:30:46.385334    2014-10-27 13:46:07.104381   \n",
       "53            2014-10-20 11:35:39.406833    2014-10-20 11:45:29.157896   \n",
       "...                                  ...                           ...   \n",
       "5453          2014-10-21 01:35:43.948815    2014-10-21 01:47:18.834652   \n",
       "5473          2014-10-01 11:08:57.885556    2014-10-01 11:15:17.553251   \n",
       "5544          2014-10-30 20:29:06.666940    2014-10-30 21:05:59.314556   \n",
       "5548          2014-10-11 20:43:07.273090    2014-10-11 20:51:59.962551   \n",
       "5802          2014-10-19 16:25:32.377069    2014-10-19 16:57:22.303257   \n",
       "\n",
       "      when_the_Jumpman_arrived_at_dropoff haversine_distance_mi  \\\n",
       "1              2014-10-16 22:59:22.948873                  0.27   \n",
       "21             2014-10-13 18:40:48.499622                  0.84   \n",
       "24             2014-10-30 18:05:27.272486                  0.51   \n",
       "32             2014-10-27 13:57:18.114768                  0.64   \n",
       "53             2014-10-20 11:55:03.887998                  1.05   \n",
       "...                                   ...                   ...   \n",
       "5453           2014-10-21 02:17:23.383088                  0.81   \n",
       "5473           2014-10-01 11:24:58.870870                  0.81   \n",
       "5544           2014-10-30 21:18:13.905804                  0.88   \n",
       "5548           2014-10-11 20:58:41.812364                  0.42   \n",
       "5802           2014-10-19 17:06:06.192092                  0.64   \n",
       "\n",
       "     travel_time_seconds travel_time_minutes travel_time_hours  \\\n",
       "1                  659.0           10.983333          0.183056   \n",
       "21                 645.0           10.750000          0.179167   \n",
       "24                 578.0            9.633333          0.160556   \n",
       "32                 671.0           11.183333          0.186389   \n",
       "53                 574.0            9.566667          0.159444   \n",
       "...                  ...                 ...               ...   \n",
       "5453              1804.0           30.066667          0.501111   \n",
       "5473               581.0            9.683333          0.161389   \n",
       "5544               734.0           12.233333          0.203889   \n",
       "5548               401.0            6.683333          0.111389   \n",
       "5802               523.0            8.716667          0.145278   \n",
       "\n",
       "      travel_rate_mph  Jumpmen_wait_time  \n",
       "1            1.474962               22.0  \n",
       "21           4.688372               28.0  \n",
       "24           3.176471               18.0  \n",
       "32           3.433681               15.0  \n",
       "53           6.585366                9.0  \n",
       "...               ...                ...  \n",
       "5453         1.616408               11.0  \n",
       "5473         5.018933                6.0  \n",
       "5544         4.316076               36.0  \n",
       "5548         3.770574                8.0  \n",
       "5802         4.405354               31.0  \n",
       "\n",
       "[175 rows x 24 columns]"
      ]
     },
     "execution_count": 46,
     "metadata": {},
     "output_type": "execute_result"
    }
   ],
   "source": [
    "top_3 = ['99219','104533','142394']\n",
    "df[df.jumpman_id.isin(top_3)]"
   ]
  },
  {
   "cell_type": "code",
   "execution_count": null,
   "metadata": {},
   "outputs": [],
   "source": []
  },
  {
   "cell_type": "markdown",
   "metadata": {},
   "source": [
    "<a id='customerloyalty'></a>\n",
    "### Customer Loyalty"
   ]
  },
  {
   "cell_type": "code",
   "execution_count": 47,
   "metadata": {},
   "outputs": [
    {
     "name": "stdout",
     "output_type": "stream",
     "text": [
      "2104\n",
      "880\n",
      "1.5807640750670242\n"
     ]
    }
   ],
   "source": [
    "customer_vc = df['customer_id'].value_counts()\n",
    "\n",
    "print(len(customer_vc[customer_vc==1]))\n",
    "print(len(customer_vc[customer_vc>1]))\n",
    "print(customer_vc.mean())"
   ]
  },
  {
   "cell_type": "code",
   "execution_count": 48,
   "metadata": {},
   "outputs": [
    {
     "data": {
      "text/plain": [
       "<matplotlib.axes._subplots.AxesSubplot at 0x7f8901e6a6d0>"
      ]
     },
     "execution_count": 48,
     "metadata": {},
     "output_type": "execute_result"
    },
    {
     "data": {
      "image/png": "[encoded data removed]",
      "text/plain": [
       "<Figure size 432x288 with 1 Axes>"
      ]
     },
     "metadata": {
      "needs_background": "light"
     },
     "output_type": "display_data"
    }
   ],
   "source": [
    "customer_vc.hist(bins=25)"
   ]
  },
  {
   "cell_type": "code",
   "execution_count": 49,
   "metadata": {},
   "outputs": [
    {
     "data": {
      "text/plain": [
       "23"
      ]
     },
     "execution_count": 49,
     "metadata": {},
     "output_type": "execute_result"
    }
   ],
   "source": [
    "customer_vc.max()"
   ]
  },
  {
   "cell_type": "code",
   "execution_count": 50,
   "metadata": {},
   "outputs": [
    {
     "data": {
      "text/plain": [
       "369272    23\n",
       "52832     17\n",
       "47440     12\n",
       "125123    12\n",
       "91817     11\n",
       "          ..\n",
       "35631      1\n",
       "119596     1\n",
       "58142      1\n",
       "181018     1\n",
       "376836     1\n",
       "Name: customer_id, Length: 2984, dtype: int64"
      ]
     },
     "execution_count": 50,
     "metadata": {},
     "output_type": "execute_result"
    }
   ],
   "source": [
    "customer_vc"
   ]
  },
  {
   "cell_type": "code",
   "execution_count": 51,
   "metadata": {},
   "outputs": [],
   "source": [
    "customer_vc.to_csv('../Additional_Datasets/customer_loyalty.csv')"
   ]
  },
  {
   "cell_type": "code",
   "execution_count": 52,
   "metadata": {},
   "outputs": [
    {
     "name": "stdout",
     "output_type": "stream",
     "text": [
      "order once: 2104\n",
      "order twice: 482\n",
      "order three times: 190\n"
     ]
    }
   ],
   "source": [
    "df_vc = df['customer_id'].value_counts()\n",
    "\n",
    "print('order once:', len(df_vc[df_vc==1]))\n",
    "print('order twice:', len(df_vc[df_vc==2]))\n",
    "print('order three times:', len(df_vc[df_vc>3]))"
   ]
  },
  {
   "cell_type": "code",
   "execution_count": 53,
   "metadata": {},
   "outputs": [
    {
     "data": {
      "text/plain": [
       "1       10/16/2014\n",
       "2       10/28/2014\n",
       "3       10/30/2014\n",
       "4       10/10/2014\n",
       "5       10/22/2014\n",
       "           ...    \n",
       "5976    10/05/2014\n",
       "5977    10/05/2014\n",
       "5979    10/12/2014\n",
       "5980    10/01/2014\n",
       "5981    10/27/2014\n",
       "Name: when_the_delivery_started, Length: 4717, dtype: object"
      ]
     },
     "execution_count": 53,
     "metadata": {},
     "output_type": "execute_result"
    }
   ],
   "source": [
    "df['when_the_delivery_started'].dt.strftime('%m/%d/%Y')\n"
   ]
  },
  {
   "cell_type": "markdown",
   "metadata": {},
   "source": [
    "What is the most popular hour for a delivery to start?"
   ]
  },
  {
   "cell_type": "code",
   "execution_count": 54,
   "metadata": {},
   "outputs": [],
   "source": [
    "delivery_start_hour = []\n",
    "my_lst = df.index.to_list()\n",
    "\n",
    "for i in my_lst:\n",
    "    delivery_start_hour.append(df['when_the_delivery_started'].loc[i].hour)\n",
    "\n",
    "df['delivery_start_hour'] = delivery_start_hour"
   ]
  },
  {
   "cell_type": "code",
   "execution_count": 55,
   "metadata": {},
   "outputs": [
    {
     "data": {
      "text/plain": [
       "Text(0, 0.5, 'Count')"
      ]
     },
     "execution_count": 55,
     "metadata": {},
     "output_type": "execute_result"
    },
    {
     "data": {
      "image/png": "[encoded data removed]",
      "text/plain": [
       "<Figure size 432x288 with 1 Axes>"
      ]
     },
     "metadata": {
      "needs_background": "light"
     },
     "output_type": "display_data"
    }
   ],
   "source": [
    "df['delivery_start_hour'].hist(bins = 24, align='mid')\n",
    "plt.title('Distribution of Delivery Start Hour')\n",
    "plt.xlabel('Delivery Start Hour')\n",
    "plt.xticks(np.arange(0, 24, 1))\n",
    "plt.ylabel('Count')"
   ]
  },
  {
   "cell_type": "code",
   "execution_count": 56,
   "metadata": {},
   "outputs": [
    {
     "data": {
      "text/plain": [
       "19    714\n",
       "18    583\n",
       "20    568\n",
       "21    363\n",
       "17    340\n",
       "12    335\n",
       "11    259\n",
       "13    250\n",
       "16    229\n",
       "14    216\n",
       "15    215\n",
       "22    175\n",
       "10    136\n",
       "23    107\n",
       "9      75\n",
       "0      60\n",
       "1      28\n",
       "8      21\n",
       "7      15\n",
       "2      15\n",
       "3       7\n",
       "4       5\n",
       "6       1\n",
       "Name: delivery_start_hour, dtype: int64"
      ]
     },
     "execution_count": 56,
     "metadata": {},
     "output_type": "execute_result"
    }
   ],
   "source": [
    "df['delivery_start_hour'].value_counts()"
   ]
  },
  {
   "cell_type": "code",
   "execution_count": 57,
   "metadata": {},
   "outputs": [
    {
     "data": {
      "text/plain": [
       "1865"
      ]
     },
     "execution_count": 57,
     "metadata": {},
     "output_type": "execute_result"
    }
   ],
   "source": [
    "df['delivery_start_hour'].value_counts()[:3].sum()"
   ]
  },
  {
   "cell_type": "code",
   "execution_count": 58,
   "metadata": {},
   "outputs": [
    {
     "data": {
      "text/plain": [
       "4717"
      ]
     },
     "execution_count": 58,
     "metadata": {},
     "output_type": "execute_result"
    }
   ],
   "source": [
    "df['delivery_start_hour'].value_counts().sum()"
   ]
  },
  {
   "cell_type": "code",
   "execution_count": 59,
   "metadata": {},
   "outputs": [
    {
     "data": {
      "text/plain": [
       "0.39537841848632604"
      ]
     },
     "execution_count": 59,
     "metadata": {},
     "output_type": "execute_result"
    }
   ],
   "source": [
    "1865/4717"
   ]
  },
  {
   "cell_type": "code",
   "execution_count": null,
   "metadata": {},
   "outputs": [],
   "source": []
  },
  {
   "cell_type": "code",
   "execution_count": null,
   "metadata": {},
   "outputs": [],
   "source": []
  },
  {
   "cell_type": "code",
   "execution_count": 60,
   "metadata": {},
   "outputs": [],
   "source": [
    "delivery_start_day = []\n",
    "my_lst = df.index.to_list()\n",
    "\n",
    "for i in my_lst:\n",
    "    delivery_start_day.append(df['when_the_delivery_started'].loc[i].day)\n",
    "\n",
    "df['delivery_start_day'] = delivery_start_day"
   ]
  },
  {
   "cell_type": "code",
   "execution_count": 61,
   "metadata": {},
   "outputs": [
    {
     "data": {
      "text/plain": [
       "Text(0, 0.5, 'Count')"
      ]
     },
     "execution_count": 61,
     "metadata": {},
     "output_type": "execute_result"
    },
    {
     "data": {
      "image/png": "[encoded data removed]",
      "text/plain": [
       "<Figure size 432x288 with 1 Axes>"
      ]
     },
     "metadata": {
      "needs_background": "light"
     },
     "output_type": "display_data"
    }
   ],
   "source": [
    "df['delivery_start_day'].hist(bins = 31)\n",
    "plt.title('Most Popular Day of October 2014')\n",
    "plt.xlabel('Delivery Start Day')\n",
    "plt.xticks(np.arange(0, 31, 2))\n",
    "plt.ylabel('Count')"
   ]
  },
  {
   "cell_type": "code",
   "execution_count": 62,
   "metadata": {},
   "outputs": [],
   "source": [
    "delivery_start_weekday = []\n",
    "my_lst = df.index.to_list()\n",
    "\n",
    "for i in my_lst:\n",
    "    delivery_start_weekday.append(df['when_the_delivery_started'].loc[i].weekday())\n",
    "\n",
    "df['delivery_start_weekday'] = delivery_start_weekday"
   ]
  },
  {
   "cell_type": "code",
   "execution_count": 63,
   "metadata": {},
   "outputs": [
    {
     "data": {
      "text/plain": [
       "Text(0, 0.5, 'Count')"
      ]
     },
     "execution_count": 63,
     "metadata": {},
     "output_type": "execute_result"
    },
    {
     "data": {
      "image/png": "[encoded data removed]",
      "text/plain": [
       "<Figure size 432x288 with 1 Axes>"
      ]
     },
     "metadata": {
      "needs_background": "light"
     },
     "output_type": "display_data"
    }
   ],
   "source": [
    "df['delivery_start_weekday'].hist(bins = 7, align='mid')\n",
    "plt.title('Most Popular Day of the Week')\n",
    "plt.xlabel('Delivery Start Weekday')\n",
    "plt.xticks(np.arange(0, 7, 1))\n",
    "plt.ylabel('Count')"
   ]
  },
  {
   "cell_type": "code",
   "execution_count": 64,
   "metadata": {},
   "outputs": [
    {
     "data": {
      "text/plain": [
       "Text(0, 0.5, 'Count')"
      ]
     },
     "execution_count": 64,
     "metadata": {},
     "output_type": "execute_result"
    },
    {
     "data": {
      "image/png": "[encoded data removed]",
      "text/plain": [
       "<Figure size 432x288 with 1 Axes>"
      ]
     },
     "metadata": {
      "needs_background": "light"
     },
     "output_type": "display_data"
    }
   ],
   "source": [
    "df['delivery_start_day'].value_counts().sort_index().plot()\n",
    "plt.title('Count of Order Per Day October. 2014')\n",
    "plt.xlabel('Day')\n",
    "plt.xticks(np.arange(0, 31, 1))\n",
    "plt.ylabel('Count')"
   ]
  },
  {
   "cell_type": "code",
   "execution_count": 65,
   "metadata": {},
   "outputs": [
    {
     "name": "stdout",
     "output_type": "stream",
     "text": [
      "1048\n",
      "893\n",
      "960\n",
      "851\n"
     ]
    }
   ],
   "source": [
    "print(df['delivery_start_day'].value_counts().sort_index()[3:10].sum())\n",
    "print(df['delivery_start_day'].value_counts().sort_index()[11:17].sum())\n",
    "print(df['delivery_start_day'].value_counts().sort_index()[18:24].sum())\n",
    "print(df['delivery_start_day'].value_counts().sort_index()[25:31].sum())"
   ]
  },
  {
   "cell_type": "code",
   "execution_count": 66,
   "metadata": {},
   "outputs": [
    {
     "data": {
      "text/plain": [
       "1     146\n",
       "2     142\n",
       "3     152\n",
       "4     152\n",
       "5     199\n",
       "6     125\n",
       "7     129\n",
       "8     132\n",
       "9     148\n",
       "10    163\n",
       "11    163\n",
       "12    194\n",
       "13    135\n",
       "14    139\n",
       "15    149\n",
       "16    128\n",
       "17    148\n",
       "18    201\n",
       "19    228\n",
       "20    152\n",
       "21    141\n",
       "22    129\n",
       "23    136\n",
       "24    174\n",
       "25    161\n",
       "26    234\n",
       "27    137\n",
       "28    168\n",
       "29    145\n",
       "30    167\n",
       "Name: delivery_start_day, dtype: int64"
      ]
     },
     "execution_count": 66,
     "metadata": {},
     "output_type": "execute_result"
    }
   ],
   "source": [
    "df['delivery_start_day'].value_counts().sort_index()"
   ]
  },
  {
   "cell_type": "code",
   "execution_count": null,
   "metadata": {},
   "outputs": [],
   "source": []
  },
  {
   "cell_type": "code",
   "execution_count": 67,
   "metadata": {},
   "outputs": [
    {
     "data": {
      "text/plain": [
       "4717"
      ]
     },
     "execution_count": 67,
     "metadata": {},
     "output_type": "execute_result"
    }
   ],
   "source": [
    "df['delivery_id'].count()"
   ]
  },
  {
   "cell_type": "code",
   "execution_count": 68,
   "metadata": {},
   "outputs": [
    {
     "data": {
      "text/plain": [
       "<matplotlib.axes._subplots.AxesSubplot at 0x7f8902a511d0>"
      ]
     },
     "execution_count": 68,
     "metadata": {},
     "output_type": "execute_result"
    },
    {
     "data": {
      "image/png": "[encoded data removed]",
      "text/plain": [
       "<Figure size 432x288 with 1 Axes>"
      ]
     },
     "metadata": {
      "needs_background": "light"
     },
     "output_type": "display_data"
    }
   ],
   "source": [
    "delivery_time = df['when_the_Jumpman_arrived_at_dropoff'] - df['when_the_delivery_started']\n",
    "delivery_time.astype('timedelta64[m]').hist(bins=100)"
   ]
  },
  {
   "cell_type": "code",
   "execution_count": 69,
   "metadata": {},
   "outputs": [
    {
     "data": {
      "text/plain": [
       "count    4717.000000\n",
       "mean       44.432054\n",
       "std        18.919316\n",
       "min         3.000000\n",
       "25%        32.000000\n",
       "50%        41.000000\n",
       "75%        53.000000\n",
       "max       340.000000\n",
       "dtype: float64"
      ]
     },
     "execution_count": 69,
     "metadata": {},
     "output_type": "execute_result"
    }
   ],
   "source": [
    "delivery_time.astype('timedelta64[m]').describe()"
   ]
  },
  {
   "cell_type": "code",
   "execution_count": 70,
   "metadata": {},
   "outputs": [
    {
     "data": {
      "text/plain": [
       "count    2984.000000\n",
       "mean        1.580764\n",
       "std         1.294219\n",
       "min         1.000000\n",
       "25%         1.000000\n",
       "50%         1.000000\n",
       "75%         2.000000\n",
       "max        23.000000\n",
       "Name: customer_id, dtype: float64"
      ]
     },
     "execution_count": 70,
     "metadata": {},
     "output_type": "execute_result"
    }
   ],
   "source": [
    "df['customer_id'].value_counts().describe()"
   ]
  },
  {
   "cell_type": "code",
   "execution_count": null,
   "metadata": {},
   "outputs": [],
   "source": []
  },
  {
   "cell_type": "code",
   "execution_count": null,
   "metadata": {},
   "outputs": [],
   "source": []
  },
  {
   "cell_type": "code",
   "execution_count": null,
   "metadata": {},
   "outputs": [],
   "source": []
  },
  {
   "cell_type": "code",
   "execution_count": null,
   "metadata": {},
   "outputs": [],
   "source": []
  },
  {
   "cell_type": "code",
   "execution_count": null,
   "metadata": {},
   "outputs": [],
   "source": []
  },
  {
   "cell_type": "code",
   "execution_count": 71,
   "metadata": {},
   "outputs": [
    {
     "name": "stdout",
     "output_type": "stream",
     "text": [
      "1045\n",
      "1074\n",
      "1147\n",
      "1139\n",
      "312\n"
     ]
    }
   ],
   "source": [
    "#Count of order per week\n",
    "week_1_count = df['delivery_start_day'].value_counts().sort_index()[:7].sum()\n",
    "week_2_count = df['delivery_start_day'].value_counts().sort_index()[7:14].sum()\n",
    "week_3_count = df['delivery_start_day'].value_counts().sort_index()[14:21].sum()\n",
    "week_4_count = df['delivery_start_day'].value_counts().sort_index()[21:28].sum()\n",
    "week_5_count = df['delivery_start_day'].value_counts().sort_index()[28:31].sum()\n",
    "\n",
    "print(week_1_count)\n",
    "print(week_2_count)\n",
    "print(week_3_count)\n",
    "print(week_4_count)\n",
    "print(week_5_count)"
   ]
  },
  {
   "cell_type": "markdown",
   "metadata": {},
   "source": [
    "Most popular dropoff zip codes"
   ]
  },
  {
   "cell_type": "code",
   "execution_count": 72,
   "metadata": {},
   "outputs": [
    {
     "data": {
      "text/plain": [
       "delivery_id                                               1377056\n",
       "customer_id                                                 64452\n",
       "jumpman_id                                                 104533\n",
       "vehicle_type                                              bicycle\n",
       "pickup_place                                  Prince Street Pizza\n",
       "place_category                                              Pizza\n",
       "item_name                                   Neapolitan Rice Balls\n",
       "item_quantity                                                   3\n",
       "item_category_name                                     Munchables\n",
       "how_long_it_took_to_order                                      25\n",
       "pickup_lat                                                40.7231\n",
       "pickup_lon                                               -73.9946\n",
       "dropoff_lat                                               40.7197\n",
       "dropoff_lon                                              -73.9919\n",
       "when_the_delivery_started              2014-10-16 21:58:58.654910\n",
       "when_the_Jumpman_arrived_at_pickup     2014-10-16 22:26:02.120931\n",
       "when_the_Jumpman_left_pickup           2014-10-16 22:48:23.091253\n",
       "when_the_Jumpman_arrived_at_dropoff    2014-10-16 22:59:22.948873\n",
       "haversine_distance_mi                                        0.27\n",
       "travel_time_seconds                                           659\n",
       "travel_time_minutes                                       10.9833\n",
       "travel_time_hours                                        0.183056\n",
       "travel_rate_mph                                           1.47496\n",
       "Jumpmen_wait_time                                              22\n",
       "delivery_start_hour                                            21\n",
       "delivery_start_day                                             16\n",
       "delivery_start_weekday                                          3\n",
       "Name: 1, dtype: object"
      ]
     },
     "execution_count": 72,
     "metadata": {},
     "output_type": "execute_result"
    }
   ],
   "source": [
    "df.iloc[0]"
   ]
  },
  {
   "cell_type": "markdown",
   "metadata": {},
   "source": [
    "Who are the jumpmen?"
   ]
  },
  {
   "cell_type": "code",
   "execution_count": 73,
   "metadata": {},
   "outputs": [
    {
     "data": {
      "text/plain": [
       "99219     59\n",
       "142394    58\n",
       "104533    58\n",
       "30743     49\n",
       "3296      49\n",
       "          ..\n",
       "122573     1\n",
       "155385     1\n",
       "14610      1\n",
       "125160     1\n",
       "159647     1\n",
       "Name: jumpman_id, Length: 565, dtype: int64"
      ]
     },
     "execution_count": 73,
     "metadata": {},
     "output_type": "execute_result"
    }
   ],
   "source": [
    "df['jumpman_id'].value_counts()"
   ]
  },
  {
   "cell_type": "code",
   "execution_count": 74,
   "metadata": {},
   "outputs": [
    {
     "data": {
      "text/plain": [
       "179183    1\n",
       "170959    1\n",
       "153533    1\n",
       "167758    1\n",
       "161713    1\n",
       "         ..\n",
       "122573    1\n",
       "155385    1\n",
       "14610     1\n",
       "125160    1\n",
       "159647    1\n",
       "Name: jumpman_id, Length: 108, dtype: int64"
      ]
     },
     "execution_count": 74,
     "metadata": {},
     "output_type": "execute_result"
    }
   ],
   "source": [
    "value_counts = df['jumpman_id'].value_counts()\n",
    "value_counts[value_counts==1]"
   ]
  },
  {
   "cell_type": "code",
   "execution_count": 75,
   "metadata": {},
   "outputs": [
    {
     "data": {
      "text/plain": [
       "99219     59\n",
       "142394    58\n",
       "104533    58\n",
       "30743     49\n",
       "3296      49\n",
       "          ..\n",
       "143807     6\n",
       "110192     6\n",
       "20124      6\n",
       "156008     6\n",
       "175555     6\n",
       "Name: jumpman_id, Length: 274, dtype: int64"
      ]
     },
     "execution_count": 75,
     "metadata": {},
     "output_type": "execute_result"
    }
   ],
   "source": [
    "value_counts[value_counts>5]"
   ]
  },
  {
   "cell_type": "code",
   "execution_count": 76,
   "metadata": {},
   "outputs": [
    {
     "data": {
      "text/plain": [
       "4717"
      ]
     },
     "execution_count": 76,
     "metadata": {},
     "output_type": "execute_result"
    }
   ],
   "source": [
    "df['jumpman_id'].value_counts().sum()"
   ]
  },
  {
   "cell_type": "code",
   "execution_count": 77,
   "metadata": {},
   "outputs": [
    {
     "data": {
      "text/plain": [
       "Text(0, 0.5, 'Count')"
      ]
     },
     "execution_count": 77,
     "metadata": {},
     "output_type": "execute_result"
    },
    {
     "data": {
      "image/png": "[encoded data removed]",
      "text/plain": [
       "<Figure size 432x288 with 1 Axes>"
      ]
     },
     "metadata": {
      "needs_background": "light"
     },
     "output_type": "display_data"
    }
   ],
   "source": [
    "df['jumpman_id'].value_counts().hist(bins=75)\n",
    "plt.title('Jumpmen Delivery Count Distribution')\n",
    "plt.xlabel('Number of Deliveries')\n",
    "plt.ylabel('Count')"
   ]
  },
  {
   "cell_type": "code",
   "execution_count": 78,
   "metadata": {},
   "outputs": [
    {
     "data": {
      "text/plain": [
       "8.34867256637168"
      ]
     },
     "execution_count": 78,
     "metadata": {},
     "output_type": "execute_result"
    }
   ],
   "source": [
    "df['jumpman_id'].value_counts().mean()"
   ]
  },
  {
   "cell_type": "code",
   "execution_count": 79,
   "metadata": {},
   "outputs": [
    {
     "data": {
      "text/plain": [
       "59"
      ]
     },
     "execution_count": 79,
     "metadata": {},
     "output_type": "execute_result"
    }
   ],
   "source": [
    "df['jumpman_id'].value_counts().max()"
   ]
  },
  {
   "cell_type": "code",
   "execution_count": 80,
   "metadata": {},
   "outputs": [
    {
     "data": {
      "text/plain": [
       "565"
      ]
     },
     "execution_count": 80,
     "metadata": {},
     "output_type": "execute_result"
    }
   ],
   "source": [
    "df['jumpman_id'].nunique()"
   ]
  },
  {
   "cell_type": "code",
   "execution_count": 81,
   "metadata": {},
   "outputs": [
    {
     "data": {
      "text/plain": [
       "bicycle       3371\n",
       "car            967\n",
       "walker         209\n",
       "van             60\n",
       "scooter         58\n",
       "truck           34\n",
       "motorcycle      18\n",
       "Name: vehicle_type, dtype: int64"
      ]
     },
     "execution_count": 81,
     "metadata": {},
     "output_type": "execute_result"
    }
   ],
   "source": [
    "unique_jumpmen = df['jumpman_id'].unique()\n",
    "\n",
    "df[df.jumpman_id.isin(unique_jumpmen)]['vehicle_type'].value_counts()"
   ]
  },
  {
   "cell_type": "markdown",
   "metadata": {},
   "source": [
    "<a id ='zipcode'></a>\n",
    "## Zip Code"
   ]
  },
  {
   "cell_type": "markdown",
   "metadata": {},
   "source": [
    "I want to add several demographic statistics to the dataset. To do this, I will need to use the uszipcode package. I can find the correct zipcode using latitude and longitude coordinates. I will then be able to add estimated population and median household income population."
   ]
  },
  {
   "cell_type": "code",
   "execution_count": 82,
   "metadata": {},
   "outputs": [],
   "source": [
    "from uszipcode import SearchEngine"
   ]
  },
  {
   "cell_type": "code",
   "execution_count": 83,
   "metadata": {},
   "outputs": [],
   "source": [
    "search = SearchEngine(simple_zipcode=True) # set simple_zipcode=False to use rich info database"
   ]
  },
  {
   "cell_type": "markdown",
   "metadata": {},
   "source": [
    "I want to add the pickup and dropoff location zipcodes to the dataset. "
   ]
  },
  {
   "cell_type": "code",
   "execution_count": 84,
   "metadata": {},
   "outputs": [],
   "source": [
    "f = lambda x, y : search.by_coordinates(lat=x, lng=y, returns=1)[0].to_dict()['zipcode']\n",
    "df['pickup_zipcode'] = df[['pickup_lat','pickup_lon']].apply(lambda x : f(*x), axis=1)\n",
    "df['dropoff_zipcode'] = df[['dropoff_lat','dropoff_lon']].apply(lambda x : f(*x), axis=1)"
   ]
  },
  {
   "cell_type": "code",
   "execution_count": 85,
   "metadata": {},
   "outputs": [],
   "source": [
    "f = lambda x, y : search.by_coordinates(lat=x, lng=y, returns=1)[0].to_dict()['population']\n",
    "df['pickup_population'] = df[['pickup_lat','pickup_lon']].apply(lambda x : f(*x), axis=1)\n",
    "df['dropoff_population'] = df[['dropoff_lat','dropoff_lon']].apply(lambda x : f(*x), axis=1)"
   ]
  },
  {
   "cell_type": "code",
   "execution_count": null,
   "metadata": {},
   "outputs": [],
   "source": [
    "f = lambda x, y : search.by_coordinates(lat=x, lng=y, returns=1)[0].to_dict()['median_household_income']\n",
    "df['pickup_med_hh_income'] = df[['pickup_lat','pickup_lon']].apply(lambda x : f(*x), axis=1)\n",
    "df['dropoff_med_hh_income'] = df[['dropoff_lat','dropoff_lon']].apply(lambda x : f(*x), axis=1)\n"
   ]
  },
  {
   "cell_type": "code",
   "execution_count": null,
   "metadata": {},
   "outputs": [],
   "source": [
    "df.sort_values(by='dropoff_med_hh_income', ascending =False)"
   ]
  },
  {
   "cell_type": "markdown",
   "metadata": {},
   "source": [
    "I want to determine what percent of each zipcode we have captured. This market penetration level, along with median household income, will give us some ideas for places to target. I'll start by collecting the 10 largest zipcodes by population. I will then collect the 10 zipcodes with teh greatest median household income."
   ]
  },
  {
   "cell_type": "code",
   "execution_count": null,
   "metadata": {},
   "outputs": [],
   "source": [
    "df[['dropoff_zipcode','dropoff_population','dropoff_med_hh_income']].groupby('dropoff_zipcode').mean().sort_values(by='dropoff_population', ascending=False)[:10]"
   ]
  },
  {
   "cell_type": "code",
   "execution_count": null,
   "metadata": {},
   "outputs": [],
   "source": []
  },
  {
   "cell_type": "code",
   "execution_count": null,
   "metadata": {},
   "outputs": [],
   "source": [
    "#manually cycle through the list of zips\n",
    "lst_a = df[['dropoff_zipcode','dropoff_population','dropoff_med_hh_income']].groupby('dropoff_zipcode').mean().sort_values(by='dropoff_population', ascending=False)[:10].index\n",
    "\n",
    "for i in range(10):\n",
    "    print(i, \n",
    "          lst_a[i],\n",
    "          df[df['dropoff_zipcode']==lst_a[i]]['dropoff_population'].unique(),\n",
    "          len(df[df['dropoff_zipcode']==lst_a[i]]['customer_id'].unique()))\n"
   ]
  },
  {
   "cell_type": "markdown",
   "metadata": {},
   "source": [
    "Now do the same process for the 10 zipcodes with the greatest median household income"
   ]
  },
  {
   "cell_type": "code",
   "execution_count": null,
   "metadata": {},
   "outputs": [],
   "source": [
    "df[['dropoff_zipcode','dropoff_population','dropoff_med_hh_income']].groupby('dropoff_zipcode').mean().sort_values(by='dropoff_med_hh_income', ascending=False)[:10]"
   ]
  },
  {
   "cell_type": "code",
   "execution_count": null,
   "metadata": {},
   "outputs": [],
   "source": [
    "lst_b = df[['dropoff_zipcode','dropoff_population','dropoff_med_hh_income']].groupby('dropoff_zipcode').mean().sort_values(by='dropoff_med_hh_income', ascending=False)[:10].index\n",
    "\n",
    "for i in range(10):\n",
    "    print(i, \n",
    "          lst_b[i],\n",
    "          df[df['dropoff_zipcode']==lst_b[i]]['dropoff_med_hh_income'].unique(),\n",
    "          df[df['dropoff_zipcode']==lst_b[i]]['dropoff_population'].unique(),\n",
    "          len(df[df['dropoff_zipcode']==lst_b[i]]['customer_id'].unique()))\n"
   ]
  },
  {
   "cell_type": "code",
   "execution_count": null,
   "metadata": {},
   "outputs": [],
   "source": [
    "lst_b"
   ]
  },
  {
   "cell_type": "code",
   "execution_count": null,
   "metadata": {},
   "outputs": [],
   "source": [
    "#only tells us how many orders went to each zip, does not reflect uniqueness in the customer id column\n",
    "df.groupby('dropoff_zipcode').agg(['count'])['delivery_id'].sort_values(by='count', ascending=False)"
   ]
  },
  {
   "cell_type": "markdown",
   "metadata": {},
   "source": [
    "How many total miles traveled by Jumpmen"
   ]
  },
  {
   "cell_type": "code",
   "execution_count": null,
   "metadata": {},
   "outputs": [],
   "source": [
    "df['haversine_distance_mi'].sum()"
   ]
  },
  {
   "cell_type": "code",
   "execution_count": null,
   "metadata": {},
   "outputs": [],
   "source": [
    "df['jumpman_id'].value_counts().describe()"
   ]
  },
  {
   "cell_type": "code",
   "execution_count": null,
   "metadata": {},
   "outputs": [],
   "source": []
  },
  {
   "cell_type": "code",
   "execution_count": null,
   "metadata": {},
   "outputs": [],
   "source": [
    "# lst_c = df['dropoff_zipcode'].value_counts()[:5].index\n",
    "\n",
    "df[df['dropoff_zipcode'].isin(lst_c)].groupby(by='dropoff_zipcode').agg(['mean'])"
   ]
  },
  {
   "cell_type": "code",
   "execution_count": null,
   "metadata": {},
   "outputs": [],
   "source": [
    "#average median household income \n",
    "(81671 + 33218 + 92540 + 104238 + 86594)/5"
   ]
  },
  {
   "cell_type": "code",
   "execution_count": null,
   "metadata": {},
   "outputs": [],
   "source": [
    "#average population\n",
    "(21102 + 81410 + 56024 + 50984 + 24090)/5"
   ]
  },
  {
   "cell_type": "code",
   "execution_count": null,
   "metadata": {},
   "outputs": [],
   "source": []
  },
  {
   "cell_type": "code",
   "execution_count": null,
   "metadata": {},
   "outputs": [],
   "source": [
    "df.to_csv('../Additional_Datasets/analyze_me_updated.csv')"
   ]
  },
  {
   "cell_type": "code",
   "execution_count": null,
   "metadata": {},
   "outputs": [],
   "source": []
  },
  {
   "cell_type": "code",
   "execution_count": null,
   "metadata": {},
   "outputs": [],
   "source": [
    "df['Jumpmen_wait_time'].hist(bins=100)"
   ]
  },
  {
   "cell_type": "code",
   "execution_count": null,
   "metadata": {},
   "outputs": [],
   "source": [
    "df['Jumpmen_wait_time'].mean()"
   ]
  },
  {
   "cell_type": "code",
   "execution_count": null,
   "metadata": {},
   "outputs": [],
   "source": [
    "round(df['Jumpmen_wait_time'].describe(),1)"
   ]
  },
  {
   "cell_type": "code",
   "execution_count": null,
   "metadata": {},
   "outputs": [],
   "source": [
    "df.dtypes"
   ]
  },
  {
   "cell_type": "code",
   "execution_count": null,
   "metadata": {},
   "outputs": [],
   "source": []
  },
  {
   "cell_type": "code",
   "execution_count": null,
   "metadata": {},
   "outputs": [],
   "source": []
  },
  {
   "cell_type": "code",
   "execution_count": null,
   "metadata": {},
   "outputs": [],
   "source": []
  },
  {
   "cell_type": "code",
   "execution_count": null,
   "metadata": {},
   "outputs": [],
   "source": []
  },
  {
   "cell_type": "code",
   "execution_count": null,
   "metadata": {},
   "outputs": [],
   "source": []
  },
  {
   "cell_type": "code",
   "execution_count": null,
   "metadata": {},
   "outputs": [],
   "source": []
  },
  {
   "cell_type": "markdown",
   "metadata": {},
   "source": [
    "<a id='scratch'></a>\n",
    "## Scratch"
   ]
  },
  {
   "cell_type": "markdown",
   "metadata": {},
   "source": [
    "rate = df.iloc[0]['avg_vehicle_rate_kms']\n",
    "distance = df.iloc[0]['haversine_distance_km']\n",
    "time = distance/rate\n",
    "time = time.astype('timedelta64[s]')\n",
    "time\n",
    "\n",
    "print(df.iloc[0]['when_the_Jumpman_arrived_at_dropoff'])\n",
    "print(df.iloc[0]['when_the_Jumpman_arrived_at_dropoff'] - time)\n",
    "\n",
    "df['time_pickup_to_dropoff'] = df['haversine_distance_km']/df['avg_vehicle_rate_kms']\n",
    "df['time_pickup_to_dropoff'] = df['time_pickup_to_dropoff'].astype('timedelta64[s]')\n",
    "\n",
    "for i in df[df['when_the_Jumpman_left_pickup'].isna()].index:\n",
    "    #rate = df.iloc[i]['avg_vehicle_rate_kms']\n",
    "    #distance = df.iloc[i]['haversine_distance_km']\n",
    "    #time = (distance/rate).astype('timedelta64[s]')\n",
    "    #df.iloc[i]['when_the_Jumpman_left_pickup'] = (df.iloc[i]['when_the_Jumpman_arrived_at_dropoff'] - (df.iloc[0]['haversine_distance_km']/df.iloc[i]['avg_vehicle_rate_kms']).astype('timedelta64[s]'))\n",
    "    print(df.iloc[i]['when_the_Jumpman_arrived_at_dropoff'] - df.iloc[i])\n",
    "    \n",
    "    \n",
    "    \n",
    "    \n",
    "null_pickup = df[df['when_the_Jumpman_left_pickup'].isnull()].index.to_list()\n",
    "\n",
    "for i in null_pickup:\n",
    "    df.loc[i]['when_the_Jumpman_left_pickup'] = df.loc[i]['when_the_Jumpman_arrived_at_dropoff'] - df.loc[i]['time_pickup_to_dropoff']"
   ]
  },
  {
   "cell_type": "markdown",
   "metadata": {},
   "source": [
    "#df.iloc[0]['how_long_it_took_to_order'].minutes\n",
    "\n",
    "time_cols = ['how_long_it_took_to_order']\n",
    "for i in time_cols:\n",
    "    df[i] = pd.to_datetime(df[i])\n",
    "    \n",
    "    \n",
    "def minutes(data_input):\n",
    "    return data_input.minute*60.0 + data_input.second\n",
    "\n",
    "minute = df.how_long_it_took_to_order.apply(minutes)\n",
    "df['min_to_order'] = round(minute/60,2)\n",
    "\n",
    "df['how_long_it_took_to_order'] = pd.to_datetime(df.how_long_it_took_to_order, format = '%H:%M:%S.%f')"
   ]
  },
  {
   "cell_type": "markdown",
   "metadata": {},
   "source": [
    "df['min_to_order'].hist(bins=50)\n",
    "df['min_to_order'].describe()\n",
    "sns.boxplot(y=\"min_to_order\", data=df, orient='h')\n",
    "sns.violinplot(x=\"vehicle_type\", y=\"min_to_order\", data=df, split=False, inner=\"quart\", linewidth=1.3)"
   ]
  },
  {
   "cell_type": "markdown",
   "metadata": {},
   "source": [
    "def get_population (zip_code):\n",
    "    '''Get demographic information by zipcode'''\n",
    "    zipcode = search.by_zipcode(zip_code)\n",
    "    some_zip = zipcode.to_dict()\n",
    "    population = some_zip['population']\n",
    "    return population\n",
    "\n",
    "def get_med_income (zip_code):\n",
    "    '''Get demographic information by zipcode'''\n",
    "    income = search.by_zipcode(zip_code)\n",
    "    some_zip = zipcode.to_dict()\n",
    "    income = some_zip['median_household_income']\n",
    "    return income\n",
    "    \n",
    "get_population(10022)"
   ]
  },
  {
   "cell_type": "markdown",
   "metadata": {},
   "source": [
    "#sample zipcode\n",
    "\n",
    "search = SearchEngine(simple_zipcode=True) # set simple_zipcode=False to use rich info database\n",
    "zipcode = search.by_zipcode(\"10022\")\n",
    "zip_10022 = zipcode.to_dict()\n",
    "zip_10022\n",
    "zip_10022['median_household_income']"
   ]
  },
  {
   "cell_type": "markdown",
   "metadata": {},
   "source": [
    "#Define a funciton to calculate Haversine distance in km. 'r', or radius, corresponds to the spherical radius of the earth. Change this value depending on what units you are looking for.\n",
    "\n",
    "def haversine_distance(lat1, lon1, lat2, lon2):\n",
    "   r = 6371\n",
    "   phi1 = np.radians(lat1)\n",
    "   phi2 = np.radians(lat2)\n",
    "   delta_phi = np.radians(lat2 - lat1)\n",
    "   delta_lambda = np.radians(lon2 - lon1)\n",
    "   a = np.sin(delta_phi / 2)**2 + np.cos(phi1) * np.cos(phi2) *   np.sin(delta_lambda / 2)**2\n",
    "   res = r * (2 * np.arctan2(np.sqrt(a), np.sqrt(1 - a)))\n",
    "   return np.round(res, 2)\n",
    "\n",
    "df['haversine_distance_km'] = haversine_distance(df['pickup_lat'],\n",
    "                                              df['pickup_lon'],\n",
    "                                              df['dropoff_lat'],\n",
    "                                              df['dropoff_lon'])"
   ]
  },
  {
   "cell_type": "markdown",
   "metadata": {},
   "source": [
    "#separate dataframe\n",
    "df_sub = df.copy()\n",
    "df_sub = df_sub.dropna(subset=['when_the_Jumpman_arrived_at_dropoff','when_the_Jumpman_left_pickup'])\n",
    "\n",
    "select_cols = ['delivery_id','vehicle_type','when_the_Jumpman_left_pickup',\n",
    "               'when_the_Jumpman_arrived_at_dropoff','haversine_distance_mi']\n",
    "df_sub = df_sub[select_cols]\n",
    "\n",
    "\n",
    "#calculate travel time in seconds, minutes, and hours\n",
    "travel_time_seconds = (df_sub['when_the_Jumpman_arrived_at_dropoff'] - df_sub['when_the_Jumpman_left_pickup']).astype('timedelta64[s]')\n",
    "df_sub['travel_time_seconds'] = travel_time_seconds\n",
    "df_sub['travel_time_minutes'] = travel_time_seconds / 60\n",
    "df_sub['travel_time_hour'] = travel_time_seconds / 60 / 60\n",
    "\n",
    "#calculate travel rate in mph\n",
    "travel_rate_mph = df_sub['haversine_distance_mi'] / df_sub['travel_time_hour']\n",
    "df_sub['travel_rate_mph'] = travel_rate_mph\n",
    "\n",
    "#create avg rate dictionary that I can call later on\n",
    "avg_rate_dic = {}\n",
    "unique_vehicles = df_sub['vehicle_type'].unique()\n",
    "\n",
    "for i in unique_vehicles:\n",
    "    avg_rate_dic[i] = df_sub[df_sub.vehicle_type==i]['travel_rate_mph'].mean()"
   ]
  },
  {
   "cell_type": "markdown",
   "metadata": {},
   "source": [
    "#add average vehicle rate to the dataframe\n",
    "avg_vehicle_rate = []\n",
    "for value in df['vehicle_type']:\n",
    "    if value == 'van':\n",
    "        avg_vehicle_rate.append(avg_rate_dic['van'])\n",
    "    elif value == 'bicycle':\n",
    "        avg_vehicle_rate.append(avg_rate_dic['bicycle'])\n",
    "    elif value == 'car':\n",
    "        avg_vehicle_rate.append(avg_rate_dic['car'])\n",
    "    elif value == 'walker':\n",
    "        avg_vehicle_rate.append(avg_rate_dic['walker'])\n",
    "    elif value == 'truck':\n",
    "        avg_vehicle_rate.append(avg_rate_dic['truck'])\n",
    "    elif value == 'scooter':\n",
    "        avg_vehicle_rate.append(avg_rate_dic['scooter'])\n",
    "    elif value == 'motorcycle':\n",
    "        avg_vehicle_rate.append(avg_rate_dic['motorcycle'])\n",
    "    else:\n",
    "        avg_vehicle_rate.append('N/A')\n",
    "df['avg_vehicle_rate_mph'] = avg_vehicle_rate"
   ]
  },
  {
   "cell_type": "code",
   "execution_count": null,
   "metadata": {},
   "outputs": [],
   "source": []
  },
  {
   "cell_type": "code",
   "execution_count": null,
   "metadata": {},
   "outputs": [],
   "source": []
  },
  {
   "cell_type": "code",
   "execution_count": null,
   "metadata": {},
   "outputs": [],
   "source": []
  }
 ],
 "metadata": {
  "kernelspec": {
   "display_name": "Python 3",
   "language": "python",
   "name": "python3"
  },
  "language_info": {
   "codemirror_mode": {
    "name": "ipython",
    "version": 3
   },
   "file_extension": ".py",
   "mimetype": "text/x-python",
   "name": "python",
   "nbconvert_exporter": "python",
   "pygments_lexer": "ipython3",
   "version": "3.7.4"
  }
 },
 "nbformat": 4,
 "nbformat_minor": 4
}
