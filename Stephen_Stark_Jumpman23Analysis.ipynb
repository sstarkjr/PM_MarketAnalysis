{
 "cells": [
  {
   "cell_type": "markdown",
   "metadata": {},
   "source": [
    "# Analysis completed by Stephen Stark\n",
    "# Jumpman23 - Exploratory Data Analysis\n",
    "\n",
    "Jumpman23 is an on-demand delivery platform connecting “Jumpmen” and customers  purchasing a variety of goods. Jumpman23 will send Jumpmen to merchants to purchase and  pickup any items requested by the customer. Whenever possible, Jumpman23 will order the  requested items ahead to save the Jumpmen time. Each time a Jumpman23 delivery is  completed, a record is saved to the Jumpman23 database that contains information about that  delivery. Jumpman23 is growing fast and has just launched in its newest market -- New York City.\n",
    "\n",
    "# Objective\n",
    "The objective of this notebook is to answer the questions:\n",
    "- How are things going in New York?\n",
    "- Are there data integrity issues? \n",
    "    - If so, where are they and how do they impact the analysis?\n",
    "\n",
    "\n",
    "I will use the dataset provided by Postmates."
   ]
  },
  {
   "cell_type": "markdown",
   "metadata": {},
   "source": [
    "# Summary\n",
    "1. [Understand the data](#understand)\\\n",
    "    1.1 [N/A's?](#na)\\\n",
    "2. \n",
    "3.\n",
    "4. \n",
    "5.\n",
    "6. [Scratch](#scratch)"
   ]
  },
  {
   "cell_type": "markdown",
   "metadata": {},
   "source": [
    "### Understanding the Delivery Process\n",
    "\n",
    "A customer orders something from a business such as a restaurant or grocery store. Jumpman23 connects that customer with a Jumpman who will then travel to go pickup the item. The Jumpman picks up the item to bring back to the customer. The Jumpman travels by foot, bike, car, scooter, or other method to deliver the item to the customer. Once the item is delivered, a record is created with the following journey attribute information. \n",
    "\n",
    "### Understanding Delivery Attributes\n",
    "\n",
    "- **Job_ID:**  a unique identifier of a delivery\n",
    "- **Customer_id:** a unique identifier for the Jumpman23 customer\n",
    "- **Jumpman_id:**  a unique identifier for the Jumpman who completed the delivery\n",
    "- **vehicle_type:** The method of transport the Jumpman used to complete the delivery\n",
    "- **pickup_place:** The name of the Pickup location\n",
    "- **place_category:** A categorization of the Pickup location\n",
    "- **Item_name:** the name of the item requested\n",
    "- **Item_quantity:** how many of that item was requested\n",
    "- **Item_category_name:** categorization provided by the merchant, think “appetizers”, “soups” etc\n",
    "- **How_long_it_took_to_order:** how long it took to place the order [interval]\n",
    "- **pickup_lat:** the coordinates of the pickup location\n",
    "- **pickup_lon:** the coordinates of the pickup location\n",
    "- **dropoff_lat:** the coordinations of the dropoff location\n",
    "- **dropoff_lon:** the coordinations of the dropoff location\n",
    "- **when_the_delivery_started:** localized timestamp representing when the delivery began\n",
    "- **when_the_Jumpman_arrived_at_pickup:** localized timestamp representing when the Jumpman arrived at the pickup location\n",
    "- **when_the_Jumpman_left_pickup:** localized timestamp representing when the Jumpman left the pickup location\n",
    "- **when_the_Jumpman_arrived_at_dropoff :** localized timestamp representing when the Jumpman reached the customer"
   ]
  },
  {
   "cell_type": "markdown",
   "metadata": {},
   "source": [
    "## Import Neccesary Dependencies"
   ]
  },
  {
   "cell_type": "code",
   "execution_count": 1,
   "metadata": {},
   "outputs": [],
   "source": [
    "import pandas as pd\n",
    "import matplotlib.pyplot as plt\n",
    "import matplotlib as mpl\n",
    "import numpy as np\n",
    "import seaborn as sns\n",
    "from collections import Counter\n",
    "import haversine as hs\n",
    "import os as os\n",
    "from datetime import datetime, timedelta\n",
    "%matplotlib inline"
   ]
  },
  {
   "cell_type": "code",
   "execution_count": 2,
   "metadata": {},
   "outputs": [],
   "source": [
    "#ignore warnings\n",
    "import warnings\n",
    "warnings.filterwarnings('ignore')"
   ]
  },
  {
   "cell_type": "code",
   "execution_count": 3,
   "metadata": {},
   "outputs": [
    {
     "data": {
      "text/plain": [
       "['Pickup_zoom.png',\n",
       " 'Pickup.png',\n",
       " 'README.md',\n",
       " 'Dropoff.png',\n",
       " '.ipynb_checkpoints',\n",
       " 'Stephen_Stark_Jumpman23Analysis.ipynb',\n",
       " '.git',\n",
       " 'Dropoff_zoom.png']"
      ]
     },
     "execution_count": 3,
     "metadata": {},
     "output_type": "execute_result"
    }
   ],
   "source": [
    "os.listdir()"
   ]
  },
  {
   "cell_type": "code",
   "execution_count": 4,
   "metadata": {},
   "outputs": [],
   "source": [
    "df = pd.read_csv('../Jumpman23/analyze_me.csv')"
   ]
  },
  {
   "cell_type": "markdown",
   "metadata": {},
   "source": [
    "<a id='understand'></a>\n",
    "## Understand the data"
   ]
  },
  {
   "cell_type": "markdown",
   "metadata": {},
   "source": [
    "In order to answer the question of 'how are things going in NYC', we need to first spot check the data. We know there are potential data integrity issues. Lets look column by column to determine what sort of analysis we can do."
   ]
  },
  {
   "cell_type": "code",
   "execution_count": 5,
   "metadata": {},
   "outputs": [
    {
     "name": "stdout",
     "output_type": "stream",
     "text": [
      "(5983, 18)\n",
      "<class 'pandas.core.frame.DataFrame'>\n",
      "RangeIndex: 5983 entries, 0 to 5982\n",
      "Data columns (total 18 columns):\n",
      "delivery_id                            5983 non-null int64\n",
      "customer_id                            5983 non-null int64\n",
      "jumpman_id                             5983 non-null int64\n",
      "vehicle_type                           5983 non-null object\n",
      "pickup_place                           5983 non-null object\n",
      "place_category                         5100 non-null object\n",
      "item_name                              4753 non-null object\n",
      "item_quantity                          4753 non-null float64\n",
      "item_category_name                     4753 non-null object\n",
      "how_long_it_took_to_order              3038 non-null object\n",
      "pickup_lat                             5983 non-null float64\n",
      "pickup_lon                             5983 non-null float64\n",
      "dropoff_lat                            5983 non-null float64\n",
      "dropoff_lon                            5983 non-null float64\n",
      "when_the_delivery_started              5983 non-null object\n",
      "when_the_Jumpman_arrived_at_pickup     5433 non-null object\n",
      "when_the_Jumpman_left_pickup           5433 non-null object\n",
      "when_the_Jumpman_arrived_at_dropoff    5983 non-null object\n",
      "dtypes: float64(5), int64(3), object(10)\n",
      "memory usage: 841.5+ KB\n",
      "None\n"
     ]
    }
   ],
   "source": [
    "print(df.shape)\n",
    "print(df.info())"
   ]
  },
  {
   "cell_type": "code",
   "execution_count": 7,
   "metadata": {},
   "outputs": [
    {
     "data": {
      "text/plain": [
       "delivery_id                               0\n",
       "customer_id                               0\n",
       "jumpman_id                                0\n",
       "vehicle_type                              0\n",
       "pickup_place                              0\n",
       "place_category                          883\n",
       "item_name                              1230\n",
       "item_quantity                          1230\n",
       "item_category_name                     1230\n",
       "how_long_it_took_to_order              2945\n",
       "pickup_lat                                0\n",
       "pickup_lon                                0\n",
       "dropoff_lat                               0\n",
       "dropoff_lon                               0\n",
       "when_the_delivery_started                 0\n",
       "when_the_Jumpman_arrived_at_pickup      550\n",
       "when_the_Jumpman_left_pickup            550\n",
       "when_the_Jumpman_arrived_at_dropoff       0\n",
       "dtype: int64"
      ]
     },
     "execution_count": 7,
     "metadata": {},
     "output_type": "execute_result"
    }
   ],
   "source": [
    "#Count of N/A or Null values in each column\n",
    "df.isna().sum()"
   ]
  },
  {
   "cell_type": "markdown",
   "metadata": {},
   "source": [
    "### 'delivery_id','customer_id','jumpman_id'"
   ]
  },
  {
   "cell_type": "code",
   "execution_count": 9,
   "metadata": {},
   "outputs": [
    {
     "name": "stdout",
     "output_type": "stream",
     "text": [
      "Count of records: 5983\n",
      "---\n",
      "Count of unique elements in each id column:\n",
      "delivery_id : 5214\n",
      "customer_id : 3192\n",
      "jumpman_id : 578\n"
     ]
    }
   ],
   "source": [
    "print('Count of records:', len(df))\n",
    "print('---')\n",
    "print('Count of unique elements in each id column:')\n",
    "\n",
    "id_cols = ['delivery_id','customer_id','jumpman_id']\n",
    "for i in id_cols:\n",
    "    print(i,':', df[i].nunique())"
   ]
  },
  {
   "cell_type": "markdown",
   "metadata": {},
   "source": [
    "It is important to note the total number of records 5983 is greater than the unique elements for each id. I would expect customer_id and jumpman_id to be used mutliple times. However, I want to look into why the same delivery_id has been used multiple times."
   ]
  },
  {
   "cell_type": "code",
   "execution_count": 10,
   "metadata": {},
   "outputs": [
    {
     "data": {
      "text/html": [
       "<div>\n",
       "<style scoped>\n",
       "    .dataframe tbody tr th:only-of-type {\n",
       "        vertical-align: middle;\n",
       "    }\n",
       "\n",
       "    .dataframe tbody tr th {\n",
       "        vertical-align: top;\n",
       "    }\n",
       "\n",
       "    .dataframe thead th {\n",
       "        text-align: right;\n",
       "    }\n",
       "</style>\n",
       "<table border=\"1\" class=\"dataframe\">\n",
       "  <thead>\n",
       "    <tr style=\"text-align: right;\">\n",
       "      <th></th>\n",
       "      <th>delivery_id</th>\n",
       "      <th>customer_id</th>\n",
       "      <th>jumpman_id</th>\n",
       "      <th>vehicle_type</th>\n",
       "      <th>pickup_place</th>\n",
       "      <th>place_category</th>\n",
       "      <th>item_name</th>\n",
       "      <th>item_quantity</th>\n",
       "      <th>item_category_name</th>\n",
       "      <th>how_long_it_took_to_order</th>\n",
       "      <th>pickup_lat</th>\n",
       "      <th>pickup_lon</th>\n",
       "      <th>dropoff_lat</th>\n",
       "      <th>dropoff_lon</th>\n",
       "      <th>when_the_delivery_started</th>\n",
       "      <th>when_the_Jumpman_arrived_at_pickup</th>\n",
       "      <th>when_the_Jumpman_left_pickup</th>\n",
       "      <th>when_the_Jumpman_arrived_at_dropoff</th>\n",
       "    </tr>\n",
       "  </thead>\n",
       "  <tbody>\n",
       "    <tr>\n",
       "      <th>82</th>\n",
       "      <td>1314550</td>\n",
       "      <td>348787</td>\n",
       "      <td>119813</td>\n",
       "      <td>bicycle</td>\n",
       "      <td>Otto Enoteca Pizzeria</td>\n",
       "      <td>Italian</td>\n",
       "      <td>Prosciutto Arugula</td>\n",
       "      <td>1.0</td>\n",
       "      <td>Pizzas</td>\n",
       "      <td>00:22:42.942105</td>\n",
       "      <td>40.732064</td>\n",
       "      <td>-73.996155</td>\n",
       "      <td>40.767582</td>\n",
       "      <td>-73.983704</td>\n",
       "      <td>2014-10-07 18:40:38.769589</td>\n",
       "      <td>2014-10-07 18:49:49.978276</td>\n",
       "      <td>2014-10-07 19:27:58.470009</td>\n",
       "      <td>2014-10-07 19:55:56.804909</td>\n",
       "    </tr>\n",
       "    <tr>\n",
       "      <th>207</th>\n",
       "      <td>1332526</td>\n",
       "      <td>48677</td>\n",
       "      <td>152676</td>\n",
       "      <td>bicycle</td>\n",
       "      <td>Shake Shack</td>\n",
       "      <td>Burger</td>\n",
       "      <td>Smoke Shack</td>\n",
       "      <td>1.0</td>\n",
       "      <td>Burgers</td>\n",
       "      <td>NaN</td>\n",
       "      <td>40.715279</td>\n",
       "      <td>-74.014860</td>\n",
       "      <td>40.724520</td>\n",
       "      <td>-73.993420</td>\n",
       "      <td>2014-10-10 18:41:05.90546</td>\n",
       "      <td>2014-10-10 19:04:31.649579</td>\n",
       "      <td>2014-10-10 19:46:22.211936</td>\n",
       "      <td>2014-10-10 20:15:31.476676</td>\n",
       "    </tr>\n",
       "    <tr>\n",
       "      <th>244</th>\n",
       "      <td>1319971</td>\n",
       "      <td>94027</td>\n",
       "      <td>119255</td>\n",
       "      <td>walker</td>\n",
       "      <td>Trader Joe's</td>\n",
       "      <td>Grocery Store</td>\n",
       "      <td>Organic Autumn Wheat</td>\n",
       "      <td>1.0</td>\n",
       "      <td>Breakfast &amp; Cereal</td>\n",
       "      <td>NaN</td>\n",
       "      <td>40.741740</td>\n",
       "      <td>-73.993650</td>\n",
       "      <td>40.736971</td>\n",
       "      <td>-73.985844</td>\n",
       "      <td>2014-10-08 19:33:52.549234</td>\n",
       "      <td>2014-10-08 19:45:18.293971</td>\n",
       "      <td>2014-10-08 20:38:07.37508</td>\n",
       "      <td>2014-10-08 20:49:29.420191</td>\n",
       "    </tr>\n",
       "  </tbody>\n",
       "</table>\n",
       "</div>"
      ],
      "text/plain": [
       "     delivery_id  customer_id  jumpman_id vehicle_type           pickup_place  \\\n",
       "82       1314550       348787      119813      bicycle  Otto Enoteca Pizzeria   \n",
       "207      1332526        48677      152676      bicycle            Shake Shack   \n",
       "244      1319971        94027      119255       walker           Trader Joe's   \n",
       "\n",
       "    place_category             item_name  item_quantity  item_category_name  \\\n",
       "82         Italian    Prosciutto Arugula            1.0              Pizzas   \n",
       "207         Burger           Smoke Shack            1.0             Burgers   \n",
       "244  Grocery Store  Organic Autumn Wheat            1.0  Breakfast & Cereal   \n",
       "\n",
       "    how_long_it_took_to_order  pickup_lat  pickup_lon  dropoff_lat  \\\n",
       "82            00:22:42.942105   40.732064  -73.996155    40.767582   \n",
       "207                       NaN   40.715279  -74.014860    40.724520   \n",
       "244                       NaN   40.741740  -73.993650    40.736971   \n",
       "\n",
       "     dropoff_lon   when_the_delivery_started  \\\n",
       "82    -73.983704  2014-10-07 18:40:38.769589   \n",
       "207   -73.993420   2014-10-10 18:41:05.90546   \n",
       "244   -73.985844  2014-10-08 19:33:52.549234   \n",
       "\n",
       "    when_the_Jumpman_arrived_at_pickup when_the_Jumpman_left_pickup  \\\n",
       "82          2014-10-07 18:49:49.978276   2014-10-07 19:27:58.470009   \n",
       "207         2014-10-10 19:04:31.649579   2014-10-10 19:46:22.211936   \n",
       "244         2014-10-08 19:45:18.293971    2014-10-08 20:38:07.37508   \n",
       "\n",
       "    when_the_Jumpman_arrived_at_dropoff  \n",
       "82           2014-10-07 19:55:56.804909  \n",
       "207          2014-10-10 20:15:31.476676  \n",
       "244          2014-10-08 20:49:29.420191  "
      ]
     },
     "execution_count": 10,
     "metadata": {},
     "output_type": "execute_result"
    }
   ],
   "source": [
    "df[df['delivery_id'].duplicated()].head(3)"
   ]
  },
  {
   "cell_type": "markdown",
   "metadata": {},
   "source": [
    "Based on the query below, it looks like multiple items from the same order are broken out on different records. I would expect all the other attributes to be the same for all cases. One way I could handle this is to merge the items into a list for each record. For the purposes of this analysis, I'll drop the duplicate records as I don't see a meaningful reason for including them in the analysis."
   ]
  },
  {
   "cell_type": "code",
   "execution_count": 11,
   "metadata": {},
   "outputs": [
    {
     "data": {
      "text/html": [
       "<div>\n",
       "<style scoped>\n",
       "    .dataframe tbody tr th:only-of-type {\n",
       "        vertical-align: middle;\n",
       "    }\n",
       "\n",
       "    .dataframe tbody tr th {\n",
       "        vertical-align: top;\n",
       "    }\n",
       "\n",
       "    .dataframe thead th {\n",
       "        text-align: right;\n",
       "    }\n",
       "</style>\n",
       "<table border=\"1\" class=\"dataframe\">\n",
       "  <thead>\n",
       "    <tr style=\"text-align: right;\">\n",
       "      <th></th>\n",
       "      <th>delivery_id</th>\n",
       "      <th>customer_id</th>\n",
       "      <th>jumpman_id</th>\n",
       "      <th>vehicle_type</th>\n",
       "      <th>pickup_place</th>\n",
       "      <th>place_category</th>\n",
       "      <th>item_name</th>\n",
       "      <th>item_quantity</th>\n",
       "      <th>item_category_name</th>\n",
       "      <th>how_long_it_took_to_order</th>\n",
       "      <th>pickup_lat</th>\n",
       "      <th>pickup_lon</th>\n",
       "      <th>dropoff_lat</th>\n",
       "      <th>dropoff_lon</th>\n",
       "      <th>when_the_delivery_started</th>\n",
       "      <th>when_the_Jumpman_arrived_at_pickup</th>\n",
       "      <th>when_the_Jumpman_left_pickup</th>\n",
       "      <th>when_the_Jumpman_arrived_at_dropoff</th>\n",
       "    </tr>\n",
       "  </thead>\n",
       "  <tbody>\n",
       "    <tr>\n",
       "      <th>1008</th>\n",
       "      <td>1272701</td>\n",
       "      <td>81085</td>\n",
       "      <td>112646</td>\n",
       "      <td>bicycle</td>\n",
       "      <td>Mighty Quinn's BBQ</td>\n",
       "      <td>BBQ</td>\n",
       "      <td>Brisket</td>\n",
       "      <td>1.0</td>\n",
       "      <td>Meats</td>\n",
       "      <td>NaN</td>\n",
       "      <td>40.727519</td>\n",
       "      <td>-73.988671</td>\n",
       "      <td>40.723962</td>\n",
       "      <td>-73.993393</td>\n",
       "      <td>2014-10-01 12:12:24.393054</td>\n",
       "      <td>2014-10-01 12:17:22.929789</td>\n",
       "      <td>2014-10-01 12:27:42.369732</td>\n",
       "      <td>2014-10-01 12:34:27.142996</td>\n",
       "    </tr>\n",
       "    <tr>\n",
       "      <th>5080</th>\n",
       "      <td>1272701</td>\n",
       "      <td>81085</td>\n",
       "      <td>112646</td>\n",
       "      <td>bicycle</td>\n",
       "      <td>Mighty Quinn's BBQ</td>\n",
       "      <td>BBQ</td>\n",
       "      <td>Housemade Iced Tea</td>\n",
       "      <td>1.0</td>\n",
       "      <td>Beverages</td>\n",
       "      <td>NaN</td>\n",
       "      <td>40.727519</td>\n",
       "      <td>-73.988671</td>\n",
       "      <td>40.723962</td>\n",
       "      <td>-73.993393</td>\n",
       "      <td>2014-10-01 12:12:24.393054</td>\n",
       "      <td>2014-10-01 12:17:22.929789</td>\n",
       "      <td>2014-10-01 12:27:42.369732</td>\n",
       "      <td>2014-10-01 12:34:27.142996</td>\n",
       "    </tr>\n",
       "  </tbody>\n",
       "</table>\n",
       "</div>"
      ],
      "text/plain": [
       "      delivery_id  customer_id  jumpman_id vehicle_type        pickup_place  \\\n",
       "1008      1272701        81085      112646      bicycle  Mighty Quinn's BBQ   \n",
       "5080      1272701        81085      112646      bicycle  Mighty Quinn's BBQ   \n",
       "\n",
       "     place_category           item_name  item_quantity item_category_name  \\\n",
       "1008            BBQ             Brisket            1.0              Meats   \n",
       "5080            BBQ  Housemade Iced Tea            1.0          Beverages   \n",
       "\n",
       "     how_long_it_took_to_order  pickup_lat  pickup_lon  dropoff_lat  \\\n",
       "1008                       NaN   40.727519  -73.988671    40.723962   \n",
       "5080                       NaN   40.727519  -73.988671    40.723962   \n",
       "\n",
       "      dropoff_lon   when_the_delivery_started  \\\n",
       "1008   -73.993393  2014-10-01 12:12:24.393054   \n",
       "5080   -73.993393  2014-10-01 12:12:24.393054   \n",
       "\n",
       "     when_the_Jumpman_arrived_at_pickup when_the_Jumpman_left_pickup  \\\n",
       "1008         2014-10-01 12:17:22.929789   2014-10-01 12:27:42.369732   \n",
       "5080         2014-10-01 12:17:22.929789   2014-10-01 12:27:42.369732   \n",
       "\n",
       "     when_the_Jumpman_arrived_at_dropoff  \n",
       "1008          2014-10-01 12:34:27.142996  \n",
       "5080          2014-10-01 12:34:27.142996  "
      ]
     },
     "execution_count": 11,
     "metadata": {},
     "output_type": "execute_result"
    }
   ],
   "source": [
    "#sample duplicate row\n",
    "df[df['delivery_id']==1272701]"
   ]
  },
  {
   "cell_type": "code",
   "execution_count": 13,
   "metadata": {},
   "outputs": [
    {
     "data": {
      "text/html": [
       "<div>\n",
       "<style scoped>\n",
       "    .dataframe tbody tr th:only-of-type {\n",
       "        vertical-align: middle;\n",
       "    }\n",
       "\n",
       "    .dataframe tbody tr th {\n",
       "        vertical-align: top;\n",
       "    }\n",
       "\n",
       "    .dataframe thead th {\n",
       "        text-align: right;\n",
       "    }\n",
       "</style>\n",
       "<table border=\"1\" class=\"dataframe\">\n",
       "  <thead>\n",
       "    <tr style=\"text-align: right;\">\n",
       "      <th></th>\n",
       "      <th>delivery_id</th>\n",
       "      <th>customer_id</th>\n",
       "      <th>jumpman_id</th>\n",
       "      <th>vehicle_type</th>\n",
       "      <th>pickup_place</th>\n",
       "      <th>place_category</th>\n",
       "      <th>item_name</th>\n",
       "      <th>item_quantity</th>\n",
       "      <th>item_category_name</th>\n",
       "      <th>how_long_it_took_to_order</th>\n",
       "      <th>pickup_lat</th>\n",
       "      <th>pickup_lon</th>\n",
       "      <th>dropoff_lat</th>\n",
       "      <th>dropoff_lon</th>\n",
       "      <th>when_the_delivery_started</th>\n",
       "      <th>when_the_Jumpman_arrived_at_pickup</th>\n",
       "      <th>when_the_Jumpman_left_pickup</th>\n",
       "      <th>when_the_Jumpman_arrived_at_dropoff</th>\n",
       "    </tr>\n",
       "  </thead>\n",
       "  <tbody>\n",
       "    <tr>\n",
       "      <th>5080</th>\n",
       "      <td>1272701</td>\n",
       "      <td>81085</td>\n",
       "      <td>112646</td>\n",
       "      <td>bicycle</td>\n",
       "      <td>Mighty Quinn's BBQ</td>\n",
       "      <td>BBQ</td>\n",
       "      <td>Housemade Iced Tea</td>\n",
       "      <td>1.0</td>\n",
       "      <td>Beverages</td>\n",
       "      <td>NaN</td>\n",
       "      <td>40.727519</td>\n",
       "      <td>-73.988671</td>\n",
       "      <td>40.723962</td>\n",
       "      <td>-73.993393</td>\n",
       "      <td>2014-10-01 12:12:24.393054</td>\n",
       "      <td>2014-10-01 12:17:22.929789</td>\n",
       "      <td>2014-10-01 12:27:42.369732</td>\n",
       "      <td>2014-10-01 12:34:27.142996</td>\n",
       "    </tr>\n",
       "    <tr>\n",
       "      <th>2299</th>\n",
       "      <td>1274248</td>\n",
       "      <td>208020</td>\n",
       "      <td>60149</td>\n",
       "      <td>car</td>\n",
       "      <td>Murray's Falafel</td>\n",
       "      <td>Middle Eastern</td>\n",
       "      <td>Moroccan Cigars (5 pc)</td>\n",
       "      <td>1.0</td>\n",
       "      <td>Appetizers</td>\n",
       "      <td>00:07:08.767432</td>\n",
       "      <td>40.732166</td>\n",
       "      <td>-73.981904</td>\n",
       "      <td>40.747019</td>\n",
       "      <td>-73.990922</td>\n",
       "      <td>2014-10-01 17:25:48.54633</td>\n",
       "      <td>2014-10-01 17:40:32.886964</td>\n",
       "      <td>2014-10-01 17:53:54.166799</td>\n",
       "      <td>2014-10-01 18:09:37.353403</td>\n",
       "    </tr>\n",
       "    <tr>\n",
       "      <th>2986</th>\n",
       "      <td>1274248</td>\n",
       "      <td>208020</td>\n",
       "      <td>60149</td>\n",
       "      <td>car</td>\n",
       "      <td>Murray's Falafel</td>\n",
       "      <td>Middle Eastern</td>\n",
       "      <td>Watermelon</td>\n",
       "      <td>1.0</td>\n",
       "      <td>Desserts</td>\n",
       "      <td>00:07:08.767432</td>\n",
       "      <td>40.732166</td>\n",
       "      <td>-73.981904</td>\n",
       "      <td>40.747019</td>\n",
       "      <td>-73.990922</td>\n",
       "      <td>2014-10-01 17:25:48.54633</td>\n",
       "      <td>2014-10-01 17:40:32.886964</td>\n",
       "      <td>2014-10-01 17:53:54.166799</td>\n",
       "      <td>2014-10-01 18:09:37.353403</td>\n",
       "    </tr>\n",
       "    <tr>\n",
       "      <th>5386</th>\n",
       "      <td>1274328</td>\n",
       "      <td>255435</td>\n",
       "      <td>23359</td>\n",
       "      <td>bicycle</td>\n",
       "      <td>Lure Fishbar</td>\n",
       "      <td>Seafood</td>\n",
       "      <td>King Salmon</td>\n",
       "      <td>3.0</td>\n",
       "      <td>Sushi &amp; Sashimi</td>\n",
       "      <td>00:11:23.081868</td>\n",
       "      <td>40.724635</td>\n",
       "      <td>-73.998402</td>\n",
       "      <td>40.743568</td>\n",
       "      <td>-73.972405</td>\n",
       "      <td>2014-10-01 17:47:16.707187</td>\n",
       "      <td>2014-10-01 17:44:49.255589</td>\n",
       "      <td>2014-10-01 18:21:08.892224</td>\n",
       "      <td>2014-10-01 18:41:16.203243</td>\n",
       "    </tr>\n",
       "    <tr>\n",
       "      <th>4578</th>\n",
       "      <td>1274372</td>\n",
       "      <td>82041</td>\n",
       "      <td>133293</td>\n",
       "      <td>bicycle</td>\n",
       "      <td>Parm</td>\n",
       "      <td>Italian</td>\n",
       "      <td>Chicken Parm</td>\n",
       "      <td>1.0</td>\n",
       "      <td>Sandwiches</td>\n",
       "      <td>00:02:31.470754</td>\n",
       "      <td>40.723020</td>\n",
       "      <td>-73.995854</td>\n",
       "      <td>40.720479</td>\n",
       "      <td>-74.001549</td>\n",
       "      <td>2014-10-01 17:57:34.871703</td>\n",
       "      <td>2014-10-01 17:57:34.041223</td>\n",
       "      <td>2014-10-01 18:09:53.957556</td>\n",
       "      <td>2014-10-01 18:20:05.578047</td>\n",
       "    </tr>\n",
       "    <tr>\n",
       "      <th>...</th>\n",
       "      <td>...</td>\n",
       "      <td>...</td>\n",
       "      <td>...</td>\n",
       "      <td>...</td>\n",
       "      <td>...</td>\n",
       "      <td>...</td>\n",
       "      <td>...</td>\n",
       "      <td>...</td>\n",
       "      <td>...</td>\n",
       "      <td>...</td>\n",
       "      <td>...</td>\n",
       "      <td>...</td>\n",
       "      <td>...</td>\n",
       "      <td>...</td>\n",
       "      <td>...</td>\n",
       "      <td>...</td>\n",
       "      <td>...</td>\n",
       "      <td>...</td>\n",
       "    </tr>\n",
       "    <tr>\n",
       "      <th>3614</th>\n",
       "      <td>1490188</td>\n",
       "      <td>166368</td>\n",
       "      <td>174143</td>\n",
       "      <td>motorcycle</td>\n",
       "      <td>Prosperity Dumpling</td>\n",
       "      <td>Chinese</td>\n",
       "      <td>Chives and Pork Dumplings in Soup</td>\n",
       "      <td>1.0</td>\n",
       "      <td>Dumplings</td>\n",
       "      <td>NaN</td>\n",
       "      <td>40.716001</td>\n",
       "      <td>-73.993210</td>\n",
       "      <td>40.775973</td>\n",
       "      <td>-73.947845</td>\n",
       "      <td>2014-10-30 21:00:30.703848</td>\n",
       "      <td>2014-10-30 21:08:00.931773</td>\n",
       "      <td>2014-10-30 21:44:21.145721</td>\n",
       "      <td>2014-10-30 22:07:09.83358</td>\n",
       "    </tr>\n",
       "    <tr>\n",
       "      <th>4119</th>\n",
       "      <td>1490188</td>\n",
       "      <td>166368</td>\n",
       "      <td>174143</td>\n",
       "      <td>motorcycle</td>\n",
       "      <td>Prosperity Dumpling</td>\n",
       "      <td>Chinese</td>\n",
       "      <td>Vegetable and Pork Dumplings in Soup</td>\n",
       "      <td>1.0</td>\n",
       "      <td>Dumplings</td>\n",
       "      <td>NaN</td>\n",
       "      <td>40.716001</td>\n",
       "      <td>-73.993210</td>\n",
       "      <td>40.775973</td>\n",
       "      <td>-73.947845</td>\n",
       "      <td>2014-10-30 21:00:30.703848</td>\n",
       "      <td>2014-10-30 21:08:00.931773</td>\n",
       "      <td>2014-10-30 21:44:21.145721</td>\n",
       "      <td>2014-10-30 22:07:09.83358</td>\n",
       "    </tr>\n",
       "    <tr>\n",
       "      <th>4983</th>\n",
       "      <td>1490744</td>\n",
       "      <td>52256</td>\n",
       "      <td>38597</td>\n",
       "      <td>bicycle</td>\n",
       "      <td>Han Dynasty</td>\n",
       "      <td>Chinese</td>\n",
       "      <td>Dan Dan Noodle</td>\n",
       "      <td>1.0</td>\n",
       "      <td>Noodles</td>\n",
       "      <td>00:09:51.159698</td>\n",
       "      <td>40.732213</td>\n",
       "      <td>-73.988072</td>\n",
       "      <td>40.732288</td>\n",
       "      <td>-73.987752</td>\n",
       "      <td>2014-10-30 21:44:05.205404</td>\n",
       "      <td>2014-10-30 21:51:58.394867</td>\n",
       "      <td>2014-10-30 22:06:52.148926</td>\n",
       "      <td>2014-10-30 22:08:06.563304</td>\n",
       "    </tr>\n",
       "    <tr>\n",
       "      <th>4074</th>\n",
       "      <td>1490744</td>\n",
       "      <td>52256</td>\n",
       "      <td>38597</td>\n",
       "      <td>bicycle</td>\n",
       "      <td>Han Dynasty</td>\n",
       "      <td>Chinese</td>\n",
       "      <td>Bok Choy with Black Mushrooms</td>\n",
       "      <td>1.0</td>\n",
       "      <td>Vegetables</td>\n",
       "      <td>00:09:51.159698</td>\n",
       "      <td>40.732213</td>\n",
       "      <td>-73.988072</td>\n",
       "      <td>40.732288</td>\n",
       "      <td>-73.987752</td>\n",
       "      <td>2014-10-30 21:44:05.205404</td>\n",
       "      <td>2014-10-30 21:51:58.394867</td>\n",
       "      <td>2014-10-30 22:06:52.148926</td>\n",
       "      <td>2014-10-30 22:08:06.563304</td>\n",
       "    </tr>\n",
       "    <tr>\n",
       "      <th>1988</th>\n",
       "      <td>1491424</td>\n",
       "      <td>391367</td>\n",
       "      <td>172130</td>\n",
       "      <td>walker</td>\n",
       "      <td>Veselka</td>\n",
       "      <td>Russian</td>\n",
       "      <td>Small Plate of Pierogis</td>\n",
       "      <td>1.0</td>\n",
       "      <td>Handmade Varenyky (Pierogi)</td>\n",
       "      <td>00:07:29.766955</td>\n",
       "      <td>40.729136</td>\n",
       "      <td>-73.986972</td>\n",
       "      <td>40.723531</td>\n",
       "      <td>-73.982324</td>\n",
       "      <td>2014-10-30 23:08:43.4819</td>\n",
       "      <td>2014-10-30 23:10:31.062088</td>\n",
       "      <td>2014-10-30 23:23:51.143279</td>\n",
       "      <td>2014-10-30 23:29:44.866438</td>\n",
       "    </tr>\n",
       "  </tbody>\n",
       "</table>\n",
       "<p>769 rows × 18 columns</p>\n",
       "</div>"
      ],
      "text/plain": [
       "      delivery_id  customer_id  jumpman_id vehicle_type         pickup_place  \\\n",
       "5080      1272701        81085      112646      bicycle   Mighty Quinn's BBQ   \n",
       "2299      1274248       208020       60149          car     Murray's Falafel   \n",
       "2986      1274248       208020       60149          car     Murray's Falafel   \n",
       "5386      1274328       255435       23359      bicycle         Lure Fishbar   \n",
       "4578      1274372        82041      133293      bicycle                 Parm   \n",
       "...           ...          ...         ...          ...                  ...   \n",
       "3614      1490188       166368      174143   motorcycle  Prosperity Dumpling   \n",
       "4119      1490188       166368      174143   motorcycle  Prosperity Dumpling   \n",
       "4983      1490744        52256       38597      bicycle          Han Dynasty   \n",
       "4074      1490744        52256       38597      bicycle          Han Dynasty   \n",
       "1988      1491424       391367      172130       walker              Veselka   \n",
       "\n",
       "      place_category                             item_name  item_quantity  \\\n",
       "5080             BBQ                    Housemade Iced Tea            1.0   \n",
       "2299  Middle Eastern                Moroccan Cigars (5 pc)            1.0   \n",
       "2986  Middle Eastern                            Watermelon            1.0   \n",
       "5386         Seafood                           King Salmon            3.0   \n",
       "4578         Italian                          Chicken Parm            1.0   \n",
       "...              ...                                   ...            ...   \n",
       "3614         Chinese     Chives and Pork Dumplings in Soup            1.0   \n",
       "4119         Chinese  Vegetable and Pork Dumplings in Soup            1.0   \n",
       "4983         Chinese                        Dan Dan Noodle            1.0   \n",
       "4074         Chinese         Bok Choy with Black Mushrooms            1.0   \n",
       "1988         Russian               Small Plate of Pierogis            1.0   \n",
       "\n",
       "               item_category_name how_long_it_took_to_order  pickup_lat  \\\n",
       "5080                    Beverages                       NaN   40.727519   \n",
       "2299                   Appetizers           00:07:08.767432   40.732166   \n",
       "2986                     Desserts           00:07:08.767432   40.732166   \n",
       "5386              Sushi & Sashimi           00:11:23.081868   40.724635   \n",
       "4578                   Sandwiches           00:02:31.470754   40.723020   \n",
       "...                           ...                       ...         ...   \n",
       "3614                    Dumplings                       NaN   40.716001   \n",
       "4119                    Dumplings                       NaN   40.716001   \n",
       "4983                      Noodles           00:09:51.159698   40.732213   \n",
       "4074                   Vegetables           00:09:51.159698   40.732213   \n",
       "1988  Handmade Varenyky (Pierogi)           00:07:29.766955   40.729136   \n",
       "\n",
       "      pickup_lon  dropoff_lat  dropoff_lon   when_the_delivery_started  \\\n",
       "5080  -73.988671    40.723962   -73.993393  2014-10-01 12:12:24.393054   \n",
       "2299  -73.981904    40.747019   -73.990922   2014-10-01 17:25:48.54633   \n",
       "2986  -73.981904    40.747019   -73.990922   2014-10-01 17:25:48.54633   \n",
       "5386  -73.998402    40.743568   -73.972405  2014-10-01 17:47:16.707187   \n",
       "4578  -73.995854    40.720479   -74.001549  2014-10-01 17:57:34.871703   \n",
       "...          ...          ...          ...                         ...   \n",
       "3614  -73.993210    40.775973   -73.947845  2014-10-30 21:00:30.703848   \n",
       "4119  -73.993210    40.775973   -73.947845  2014-10-30 21:00:30.703848   \n",
       "4983  -73.988072    40.732288   -73.987752  2014-10-30 21:44:05.205404   \n",
       "4074  -73.988072    40.732288   -73.987752  2014-10-30 21:44:05.205404   \n",
       "1988  -73.986972    40.723531   -73.982324    2014-10-30 23:08:43.4819   \n",
       "\n",
       "     when_the_Jumpman_arrived_at_pickup when_the_Jumpman_left_pickup  \\\n",
       "5080         2014-10-01 12:17:22.929789   2014-10-01 12:27:42.369732   \n",
       "2299         2014-10-01 17:40:32.886964   2014-10-01 17:53:54.166799   \n",
       "2986         2014-10-01 17:40:32.886964   2014-10-01 17:53:54.166799   \n",
       "5386         2014-10-01 17:44:49.255589   2014-10-01 18:21:08.892224   \n",
       "4578         2014-10-01 17:57:34.041223   2014-10-01 18:09:53.957556   \n",
       "...                                 ...                          ...   \n",
       "3614         2014-10-30 21:08:00.931773   2014-10-30 21:44:21.145721   \n",
       "4119         2014-10-30 21:08:00.931773   2014-10-30 21:44:21.145721   \n",
       "4983         2014-10-30 21:51:58.394867   2014-10-30 22:06:52.148926   \n",
       "4074         2014-10-30 21:51:58.394867   2014-10-30 22:06:52.148926   \n",
       "1988         2014-10-30 23:10:31.062088   2014-10-30 23:23:51.143279   \n",
       "\n",
       "     when_the_Jumpman_arrived_at_dropoff  \n",
       "5080          2014-10-01 12:34:27.142996  \n",
       "2299          2014-10-01 18:09:37.353403  \n",
       "2986          2014-10-01 18:09:37.353403  \n",
       "5386          2014-10-01 18:41:16.203243  \n",
       "4578          2014-10-01 18:20:05.578047  \n",
       "...                                  ...  \n",
       "3614           2014-10-30 22:07:09.83358  \n",
       "4119           2014-10-30 22:07:09.83358  \n",
       "4983          2014-10-30 22:08:06.563304  \n",
       "4074          2014-10-30 22:08:06.563304  \n",
       "1988          2014-10-30 23:29:44.866438  \n",
       "\n",
       "[769 rows x 18 columns]"
      ]
     },
     "execution_count": 13,
     "metadata": {},
     "output_type": "execute_result"
    }
   ],
   "source": [
    "#duplicate row dataset\n",
    "df[df['delivery_id'].duplicated()].sort_values(by='delivery_id')"
   ]
  },
  {
   "cell_type": "code",
   "execution_count": 14,
   "metadata": {},
   "outputs": [],
   "source": [
    "#drop duplicate rows based on delivery_id column\n",
    "df = df.drop_duplicates(subset=['delivery_id'])"
   ]
  },
  {
   "cell_type": "markdown",
   "metadata": {},
   "source": [
    "### 'vehicle_type','pickup_place','place_category','item_name','item_category_name'\n",
    "\n",
    "The integrity of the following columns can be assessed by simply looking at the counts of the unique values in each set, as well as the size of the set itself."
   ]
  },
  {
   "cell_type": "code",
   "execution_count": 16,
   "metadata": {},
   "outputs": [
    {
     "name": "stdout",
     "output_type": "stream",
     "text": [
      "            vehicle_type\n",
      "bicycle             3740\n",
      "car                 1050\n",
      "walker               234\n",
      "van                   69\n",
      "scooter               64\n",
      "truck                 38\n",
      "motorcycle            19\n",
      "                           pickup_place\n",
      "Shake Shack                         266\n",
      "Momofuku Milk Bar                   162\n",
      "The Meatball Shop                   153\n",
      "sweetgreen                          138\n",
      "Blue Ribbon Fried Chicken           115\n",
      "...                                 ...\n",
      "Island Burgers & Shakes               1\n",
      "Pure Food                             1\n",
      "New London Pharmacy                   1\n",
      "Beard Papa's                          1\n",
      "SIXTY Soho                            1\n",
      "\n",
      "[898 rows x 1 columns]\n",
      "                       place_category\n",
      "Italian                           437\n",
      "Burger                            395\n",
      "American                          357\n",
      "Japanese                          335\n",
      "Dessert                           277\n",
      "Chinese                           265\n",
      "Sushi                             203\n",
      "Salad                             192\n",
      "Mexican                           165\n",
      "Grocery Store                     130\n",
      "Bakery                            126\n",
      "BBQ                               114\n",
      "Pizza                              94\n",
      "Juice Bar                          91\n",
      "Indian                             80\n",
      "Fast Food                          80\n",
      "Donut                              71\n",
      "Seafood                            69\n",
      "Drug Store                         68\n",
      "Mediterranean                      61\n",
      "Coffee                             60\n",
      "Vegetarian                         60\n",
      "Deli                               56\n",
      "Middle Eastern                     56\n",
      "Ice Cream                          54\n",
      "Gluten-Free                        53\n",
      "Breakfast                          45\n",
      "Shop                               41\n",
      "South American                     33\n",
      "Thai                               31\n",
      "Steak                              31\n",
      "French                             24\n",
      "Southern                           23\n",
      "Promo                              19\n",
      "Vegan                              19\n",
      "Electronics Store                  19\n",
      "Korean                             18\n",
      "Food Truck                         17\n",
      "Convenience Store                  17\n",
      "Spanish                            12\n",
      "Asian                              11\n",
      "Eastern European                   10\n",
      "Department Store                    9\n",
      "Russian                             8\n",
      "Vietnamese                          6\n",
      "Caribbean                           6\n",
      "Office Supplies Store               5\n",
      "Specialty Store                     5\n",
      "German                              4\n",
      "Kids & Baby                         3\n",
      "Beauty Supply                       2\n",
      "Pet Supplies Store                  1\n",
      "African                             1\n",
      "Book Store                          1\n",
      "Art Store                           1\n",
      "Clothing                            1\n",
      "Restaurant                          1\n",
      "                                                    item_name\n",
      "Fries                                                      68\n",
      "Cheese Fries                                               29\n",
      "Chicken                                                    28\n",
      "Shackburger                                                27\n",
      "Shack Burger                                               26\n",
      "...                                                       ...\n",
      "Pirozhok                                                    1\n",
      "Grilled Bacon                                               1\n",
      "Salmon Miso Sashimi                                         1\n",
      "Kid's Pizza                                                 1\n",
      "Blanton's The Original Single Barrel Bourbon (7...          1\n",
      "\n",
      "[2013 rows x 1 columns]\n",
      "                                  item_category_name\n",
      "Sides                                            158\n",
      "Burgers                                          133\n",
      "Appetizers                                       122\n",
      "Sandwiches                                       104\n",
      "Fries                                             94\n",
      "...                                              ...\n",
      "Iced Coffee Bar                                    1\n",
      "Classic Italian                                    1\n",
      "Salads and Platters                                1\n",
      "Empanadas / White Corn Turnovers                   1\n",
      "Organic Smoothies                                  1\n",
      "\n",
      "[719 rows x 1 columns]\n"
     ]
    }
   ],
   "source": [
    "select_cols = ['vehicle_type',\n",
    "               'pickup_place',\n",
    "               'place_category',\n",
    "               'item_name',\n",
    "               'item_category_name']\n",
    "\n",
    "for col in select_cols:\n",
    "    print(pd.DataFrame(df[col].value_counts()))"
   ]
  },
  {
   "cell_type": "markdown",
   "metadata": {},
   "source": [
    "### 'item_quantity', 'how_long_it_took_to_order'\n",
    "The integrity of the following columns can be assessed by looking at several measures of the statistical distribution of each set."
   ]
  },
  {
   "cell_type": "code",
   "execution_count": 17,
   "metadata": {},
   "outputs": [
    {
     "data": {
      "text/plain": [
       "count    3984.000000\n",
       "mean        1.245231\n",
       "std         0.781632\n",
       "min         1.000000\n",
       "25%         1.000000\n",
       "50%         1.000000\n",
       "75%         1.000000\n",
       "max        16.000000\n",
       "Name: item_quantity, dtype: float64"
      ]
     },
     "execution_count": 17,
     "metadata": {},
     "output_type": "execute_result"
    }
   ],
   "source": [
    "df['item_quantity'].describe()"
   ]
  },
  {
   "cell_type": "code",
   "execution_count": 18,
   "metadata": {},
   "outputs": [
    {
     "data": {
      "text/plain": [
       "count                2579\n",
       "unique               2579\n",
       "top       00:04:14.481957\n",
       "freq                    1\n",
       "Name: how_long_it_took_to_order, dtype: object"
      ]
     },
     "execution_count": 18,
     "metadata": {},
     "output_type": "execute_result"
    }
   ],
   "source": [
    "df['how_long_it_took_to_order'].describe()"
   ]
  },
  {
   "cell_type": "markdown",
   "metadata": {},
   "source": [
    "### Pickup & Dropoff Locations\n",
    "Assessment of pickup and dropoff locations"
   ]
  },
  {
   "cell_type": "code",
   "execution_count": 19,
   "metadata": {},
   "outputs": [
    {
     "data": {
      "text/html": [
       "<div style=\"display: inline-block; width: 520px; vertical-align: top; text-align: center;\"><h4 style=\"font-size: 12px\">0</h4><h4 style=\"font-size: 9px; padding-left: 10px; padding-right: 10px; width: 90%; word-wrap: break-word; white-space: normal;\">Pickup.png</h4><img src=\"Pickup.png\" style=\"margin: 1px; width: 500px; border: 2px solid #ddd;\"/></div><div style=\"display: inline-block; width: 520px; vertical-align: top; text-align: center;\"><h4 style=\"font-size: 12px\">1</h4><h4 style=\"font-size: 9px; padding-left: 10px; padding-right: 10px; width: 90%; word-wrap: break-word; white-space: normal;\">Dropoff.png</h4><img src=\"Dropoff.png\" style=\"margin: 1px; width: 500px; border: 2px solid #ddd;\"/></div><div style=\"display: inline-block; width: 520px; vertical-align: top; text-align: center;\"><h4 style=\"font-size: 12px\">2</h4><h4 style=\"font-size: 9px; padding-left: 10px; padding-right: 10px; width: 90%; word-wrap: break-word; white-space: normal;\">Pickup_zoom.png</h4><img src=\"Pickup_zoom.png\" style=\"margin: 1px; width: 500px; border: 2px solid #ddd;\"/></div><div style=\"display: inline-block; width: 520px; vertical-align: top; text-align: center;\"><h4 style=\"font-size: 12px\">3</h4><h4 style=\"font-size: 9px; padding-left: 10px; padding-right: 10px; width: 90%; word-wrap: break-word; white-space: normal;\">Dropoff_zoom.png</h4><img src=\"Dropoff_zoom.png\" style=\"margin: 1px; width: 500px; border: 2px solid #ddd;\"/></div>"
      ],
      "text/plain": [
       "<IPython.core.display.HTML object>"
      ]
     },
     "metadata": {},
     "output_type": "display_data"
    }
   ],
   "source": [
    "import ipyplot\n",
    "\n",
    "images_list = ['Pickup.png','Dropoff.png',\n",
    "               'Pickup_zoom.png','Dropoff_zoom.png']\n",
    "\n",
    "ipyplot.plot_images(images_list, img_width=500)"
   ]
  },
  {
   "cell_type": "markdown",
   "metadata": {},
   "source": [
    "The pickup and dropoff locations all appear to be valid."
   ]
  },
  {
   "cell_type": "markdown",
   "metadata": {},
   "source": [
    "### 'when_the_delivery_started','when_the_Jumpman_arrived_at_pickup','when_the_Jumpman_left_pickup','when_the_Jumpman_arrived_at_dropoff'\n",
    "Check the min and max values for the relevant timestamp columns. It the data is for the month of October."
   ]
  },
  {
   "cell_type": "code",
   "execution_count": 20,
   "metadata": {},
   "outputs": [
    {
     "name": "stdout",
     "output_type": "stream",
     "text": [
      "when_the_delivery_started: 2014-10-01 00:07:58.632482 , 2014-10-30 23:08:43.481900\n",
      "when_the_Jumpman_arrived_at_pickup: 2014-10-01 00:39:31.086322 , 2014-10-30 23:10:31.062088\n",
      "when_the_Jumpman_left_pickup: 2014-10-01 00:59:57.522402 , 2014-10-30 23:23:51.143279\n",
      "when_the_Jumpman_arrived_at_dropoff: 2014-10-01 00:30:21.109149 , 2014-10-30 23:29:44.866438\n",
      "how_long_it_took_to_order: 0 days 00:01:22.997519 , 0 days 01:13:13.266118\n"
     ]
    }
   ],
   "source": [
    "date_cols = ['when_the_delivery_started',\n",
    "             'when_the_Jumpman_arrived_at_pickup',\n",
    "             'when_the_Jumpman_left_pickup',\n",
    "             'when_the_Jumpman_arrived_at_dropoff']\n",
    "\n",
    "time_cols = ['how_long_it_took_to_order']\n",
    "for i in date_cols:\n",
    "    df[i] = pd.to_datetime(df[i])\n",
    "    \n",
    "for i in time_cols:\n",
    "    df[i] = pd.to_timedelta(df[i])\n",
    "\n",
    "for col in date_cols:\n",
    "    print(col+\":\",\n",
    "          df[col].min(),\n",
    "          \",\",\n",
    "          df[col].max())\n",
    "    \n",
    "for col in time_cols:\n",
    "    print(col+\":\",\n",
    "          df[col].min(),\n",
    "          \",\",\n",
    "          df[col].max())\n",
    "\n"
   ]
  },
  {
   "cell_type": "markdown",
   "metadata": {},
   "source": [
    "## Missing Data\n",
    "\n",
    "Now that we've gone through all of the columns, we'll need to come up with a strategy for how to handle the remaining missing information."
   ]
  },
  {
   "cell_type": "code",
   "execution_count": 26,
   "metadata": {},
   "outputs": [
    {
     "data": {
      "text/plain": [
       "delivery_id                               0\n",
       "customer_id                               0\n",
       "jumpman_id                                0\n",
       "vehicle_type                              0\n",
       "pickup_place                              0\n",
       "place_category                          841\n",
       "item_name                              1230\n",
       "item_quantity                          1230\n",
       "item_category_name                     1230\n",
       "how_long_it_took_to_order              2635\n",
       "pickup_lat                                0\n",
       "pickup_lon                                0\n",
       "dropoff_lat                               0\n",
       "dropoff_lon                               0\n",
       "when_the_delivery_started                 0\n",
       "when_the_Jumpman_arrived_at_pickup      495\n",
       "when_the_Jumpman_left_pickup            495\n",
       "when_the_Jumpman_arrived_at_dropoff       0\n",
       "haversine_distance_km                     0\n",
       "avg_vehicle_rate_kms                      0\n",
       "dtype: int64"
      ]
     },
     "execution_count": 26,
     "metadata": {},
     "output_type": "execute_result"
    }
   ],
   "source": [
    "df.isnull().sum()"
   ]
  },
  {
   "cell_type": "code",
   "execution_count": 27,
   "metadata": {},
   "outputs": [],
   "source": [
    "df['place_category'].fillna('Not Disclosed', inplace=True)\n",
    "df['item_name'].fillna('Not Disclosed', inplace=True)\n",
    "df['item_quantity'].fillna('Not Disclosed', inplace=True)\n",
    "df['item_category_name'].fillna('Not Disclosed', inplace=True)\n",
    "df['how_long_it_took_to_order'].fillna('Not Disclosed', inplace=True)\n"
   ]
  },
  {
   "cell_type": "code",
   "execution_count": 36,
   "metadata": {},
   "outputs": [
    {
     "data": {
      "text/plain": [
       "delivery_id                            0.000000\n",
       "customer_id                            0.000000\n",
       "jumpman_id                             0.000000\n",
       "vehicle_type                           0.000000\n",
       "pickup_place                           0.000000\n",
       "place_category                         0.000000\n",
       "item_name                              0.000000\n",
       "item_quantity                          0.000000\n",
       "item_category_name                     0.000000\n",
       "how_long_it_took_to_order              0.000000\n",
       "pickup_lat                             0.000000\n",
       "pickup_lon                             0.000000\n",
       "dropoff_lat                            0.000000\n",
       "dropoff_lon                            0.000000\n",
       "when_the_delivery_started              0.000000\n",
       "when_the_Jumpman_arrived_at_pickup     0.094937\n",
       "when_the_Jumpman_left_pickup           0.094937\n",
       "when_the_Jumpman_arrived_at_dropoff    0.000000\n",
       "haversine_distance_km                  0.000000\n",
       "avg_vehicle_rate_kms                   0.000000\n",
       "dtype: float64"
      ]
     },
     "execution_count": 36,
     "metadata": {},
     "output_type": "execute_result"
    }
   ],
   "source": [
    "df.isnull().sum()/len(df)\n"
   ]
  },
  {
   "cell_type": "code",
   "execution_count": 37,
   "metadata": {},
   "outputs": [],
   "source": [
    "#Less than 10% of the Jumpman Arrived at Pickup & left Pickup are empty, therefore, I'm comfortable dropping the entries with missing data\n",
    "df = df.dropna(subset=['when_the_Jumpman_arrived_at_pickup','when_the_Jumpman_left_pickup'])"
   ]
  },
  {
   "cell_type": "code",
   "execution_count": 38,
   "metadata": {},
   "outputs": [
    {
     "data": {
      "text/plain": [
       "delivery_id                            0\n",
       "customer_id                            0\n",
       "jumpman_id                             0\n",
       "vehicle_type                           0\n",
       "pickup_place                           0\n",
       "place_category                         0\n",
       "item_name                              0\n",
       "item_quantity                          0\n",
       "item_category_name                     0\n",
       "how_long_it_took_to_order              0\n",
       "pickup_lat                             0\n",
       "pickup_lon                             0\n",
       "dropoff_lat                            0\n",
       "dropoff_lon                            0\n",
       "when_the_delivery_started              0\n",
       "when_the_Jumpman_arrived_at_pickup     0\n",
       "when_the_Jumpman_left_pickup           0\n",
       "when_the_Jumpman_arrived_at_dropoff    0\n",
       "haversine_distance_km                  0\n",
       "avg_vehicle_rate_kms                   0\n",
       "dtype: int64"
      ]
     },
     "execution_count": 38,
     "metadata": {},
     "output_type": "execute_result"
    }
   ],
   "source": [
    "df.isnull().sum()"
   ]
  },
  {
   "cell_type": "code",
   "execution_count": null,
   "metadata": {},
   "outputs": [],
   "source": []
  },
  {
   "cell_type": "code",
   "execution_count": null,
   "metadata": {},
   "outputs": [],
   "source": []
  },
  {
   "cell_type": "markdown",
   "metadata": {},
   "source": [
    "# Feature Engineering"
   ]
  },
  {
   "cell_type": "markdown",
   "metadata": {},
   "source": [
    "Calculate the distance between the pickup and dropoff locations using Haversine distance. The Haversine distance is the angular distance between two points on the surface of a sphere. It is important to note this is distance is \"as the crow flies\", not distances on a map. "
   ]
  },
  {
   "cell_type": "code",
   "execution_count": 21,
   "metadata": {},
   "outputs": [],
   "source": [
    "def haversine_distance(lat1, lon1, lat2, lon2):\n",
    "   r = 6371\n",
    "   phi1 = np.radians(lat1)\n",
    "   phi2 = np.radians(lat2)\n",
    "   delta_phi = np.radians(lat2 - lat1)\n",
    "   delta_lambda = np.radians(lon2 - lon1)\n",
    "   a = np.sin(delta_phi / 2)**2 + np.cos(phi1) * np.cos(phi2) *   np.sin(delta_lambda / 2)**2\n",
    "   res = r * (2 * np.arctan2(np.sqrt(a), np.sqrt(1 - a)))\n",
    "   return np.round(res, 2)\n",
    "\n",
    "df['haversine_distance_km'] = haversine_distance(df['pickup_lat'],\n",
    "                                              df['pickup_lon'],\n",
    "                                              df['dropoff_lat'],\n",
    "                                              df['dropoff_lon'])"
   ]
  },
  {
   "cell_type": "markdown",
   "metadata": {},
   "source": [
    "I'm interested in comparing the delivery rates by vehicle."
   ]
  },
  {
   "cell_type": "code",
   "execution_count": 23,
   "metadata": {},
   "outputs": [],
   "source": [
    "#separate dataframe\n",
    "df_sub = df.copy()\n",
    "df_sub = df_sub.dropna(subset=['when_the_Jumpman_arrived_at_dropoff','when_the_Jumpman_left_pickup'])\n",
    "\n",
    "select_cols = ['delivery_id','vehicle_type','when_the_Jumpman_left_pickup',\n",
    "               'when_the_Jumpman_arrived_at_dropoff','haversine_distance_km']\n",
    "df_sub = df_sub[select_cols]\n",
    "\n",
    "\n",
    "#calculate travel time in seconds\n",
    "travel_time_seconds = (df_sub['when_the_Jumpman_arrived_at_dropoff'] - df_sub['when_the_Jumpman_left_pickup']).astype('timedelta64[s]')\n",
    "df_sub['travel_time_seconds'] = travel_time_seconds\n",
    "\n",
    "#calculate travel rate in km/s\n",
    "travel_rate_kms = df_sub['haversine_distance_km'] / df_sub['travel_time_seconds']\n",
    "df_sub['travel_rate_kms'] = travel_rate_kms\n",
    "\n",
    "#create avg rate dictionary that I can call later on\n",
    "avg_rate_dic = {}\n",
    "unique_vehicles = df_sub['vehicle_type'].unique()\n",
    "\n",
    "for i in unique_vehicles:\n",
    "    avg_rate_dic[i] = df_sub[df_sub.vehicle_type==i]['travel_rate_kms'].mean()"
   ]
  },
  {
   "cell_type": "code",
   "execution_count": 24,
   "metadata": {},
   "outputs": [],
   "source": [
    "#add average vehicle rate to the dataframe\n",
    "avg_vehicle_rate = []\n",
    "for value in df['vehicle_type']:\n",
    "    if value == 'van':\n",
    "        avg_vehicle_rate.append(avg_rate_dic['van'])\n",
    "    elif value == 'bicycle':\n",
    "        avg_vehicle_rate.append(avg_rate_dic['bicycle'])\n",
    "    elif value == 'car':\n",
    "        avg_vehicle_rate.append(avg_rate_dic['car'])\n",
    "    elif value == 'walker':\n",
    "        avg_vehicle_rate.append(avg_rate_dic['walker'])\n",
    "    elif value == 'truck':\n",
    "        avg_vehicle_rate.append(avg_rate_dic['truck'])\n",
    "    elif value == 'scooter':\n",
    "        avg_vehicle_rate.append(avg_rate_dic['scooter'])\n",
    "    elif value == 'motorcycle':\n",
    "        avg_vehicle_rate.append(avg_rate_dic['motorcycle'])\n",
    "    else:\n",
    "        avg_vehicle_rate.append('N/A')\n",
    "df['avg_vehicle_rate_kms'] = avg_vehicle_rate"
   ]
  },
  {
   "cell_type": "code",
   "execution_count": null,
   "metadata": {},
   "outputs": [],
   "source": [
    "df['how_long_it_took_to_order'] = pd.to_datetime(df.how_long_it_took_to_order, format = '%H:%M:%S.%f')\n",
    "\n",
    "def minutes(data_input):\n",
    "    return data_input.minute*60.0 + data_input.second\n",
    "\n",
    "minute = df.how_long_it_took_to_order.apply(minutes)\n",
    "df['min_to_order'] = round(minute/60,2)"
   ]
  },
  {
   "cell_type": "code",
   "execution_count": null,
   "metadata": {},
   "outputs": [],
   "source": []
  },
  {
   "cell_type": "code",
   "execution_count": null,
   "metadata": {},
   "outputs": [],
   "source": []
  },
  {
   "cell_type": "markdown",
   "metadata": {},
   "source": [
    "# Exploratory Data Analysis (EDA)"
   ]
  },
  {
   "cell_type": "markdown",
   "metadata": {},
   "source": [
    "## Descriptive Statistics"
   ]
  },
  {
   "cell_type": "code",
   "execution_count": null,
   "metadata": {},
   "outputs": [],
   "source": [
    "subset_attributes = ['item_quantity','how_long_it_took_to_order']\n",
    "#rs = round(red_wine[subset_attributes].describe(),2)\n",
    "#ws = round(white_wine[subset_attributes].describe(),2)\n",
    "#pd.concat([rs, ws], axis=1, keys=['Red Wine Statistics', 'White Wine Statistics'])\n",
    "data1 = round(df[subset_attributes].describe(),2)\n",
    "\n",
    "pd.DataFrame(data1)"
   ]
  },
  {
   "cell_type": "code",
   "execution_count": null,
   "metadata": {},
   "outputs": [],
   "source": [
    "df['how_long_it_took_to_order'].describe()"
   ]
  },
  {
   "cell_type": "code",
   "execution_count": null,
   "metadata": {},
   "outputs": [],
   "source": [
    "df['item_quantity'].describe()"
   ]
  },
  {
   "cell_type": "code",
   "execution_count": null,
   "metadata": {},
   "outputs": [],
   "source": [
    "df['min_to_order'].hist(bins=50)\n",
    "df['min_to_order'].describe()\n",
    "sns.boxplot(y=\"min_to_order\", data=df, orient='h')\n",
    "sns.violinplot(x=\"vehicle_type\", y=\"min_to_order\", data=df, split=False, inner=\"quart\", linewidth=1.3)"
   ]
  },
  {
   "cell_type": "code",
   "execution_count": null,
   "metadata": {},
   "outputs": [],
   "source": []
  },
  {
   "cell_type": "code",
   "execution_count": null,
   "metadata": {},
   "outputs": [],
   "source": []
  },
  {
   "cell_type": "code",
   "execution_count": null,
   "metadata": {},
   "outputs": [],
   "source": []
  },
  {
   "cell_type": "code",
   "execution_count": null,
   "metadata": {},
   "outputs": [],
   "source": []
  },
  {
   "cell_type": "code",
   "execution_count": null,
   "metadata": {},
   "outputs": [],
   "source": [
    "pd.DataFrame({'count':df.isnull().sum(), \n",
    "              'percent':(df.isnull().sum())/df.shape[0]}).sort_values(by='count', ascending=False)"
   ]
  },
  {
   "cell_type": "code",
   "execution_count": null,
   "metadata": {},
   "outputs": [],
   "source": [
    "#what timeframe of data?\n",
    "\n",
    "print(df.when_the_Jumpman_arrived_at_dropoff.min())\n",
    "print(df.when_the_Jumpman_arrived_at_dropoff.max())"
   ]
  },
  {
   "cell_type": "code",
   "execution_count": null,
   "metadata": {},
   "outputs": [],
   "source": [
    "#what is the most popular method of delivery?\n",
    "df['vehicle_type'].value_counts()"
   ]
  },
  {
   "cell_type": "code",
   "execution_count": null,
   "metadata": {},
   "outputs": [],
   "source": []
  },
  {
   "cell_type": "code",
   "execution_count": null,
   "metadata": {},
   "outputs": [],
   "source": [
    "#distribution of jumpman delivery people\n",
    "df.jumpman_id.value_counts().hist(bins=100)"
   ]
  },
  {
   "cell_type": "code",
   "execution_count": null,
   "metadata": {},
   "outputs": [],
   "source": [
    "df.jumpman_id.value_counts().sort_values(ascending=False)"
   ]
  },
  {
   "cell_type": "code",
   "execution_count": null,
   "metadata": {},
   "outputs": [],
   "source": [
    "top_3 = ['99219','104533','142394']\n",
    "df[df.jumpman_id.isin(top_3)]"
   ]
  },
  {
   "cell_type": "code",
   "execution_count": null,
   "metadata": {},
   "outputs": [],
   "source": [
    "df[df.how_long_it_took_to_order.isna()]"
   ]
  },
  {
   "cell_type": "code",
   "execution_count": null,
   "metadata": {},
   "outputs": [],
   "source": []
  },
  {
   "cell_type": "code",
   "execution_count": null,
   "metadata": {},
   "outputs": [],
   "source": [
    "df.groupby(by='pickup_place').count().sort_values(by='delivery_id', ascending=False)"
   ]
  },
  {
   "cell_type": "code",
   "execution_count": null,
   "metadata": {},
   "outputs": [],
   "source": [
    "len(df['pickup_place'].unique())"
   ]
  },
  {
   "cell_type": "code",
   "execution_count": null,
   "metadata": {},
   "outputs": [],
   "source": [
    "df[df['pickup_place']=='Shake Shack']"
   ]
  },
  {
   "cell_type": "code",
   "execution_count": null,
   "metadata": {},
   "outputs": [],
   "source": []
  },
  {
   "cell_type": "code",
   "execution_count": null,
   "metadata": {},
   "outputs": [],
   "source": []
  },
  {
   "cell_type": "code",
   "execution_count": null,
   "metadata": {},
   "outputs": [],
   "source": []
  },
  {
   "cell_type": "code",
   "execution_count": null,
   "metadata": {},
   "outputs": [],
   "source": []
  },
  {
   "cell_type": "markdown",
   "metadata": {},
   "source": [
    "<a id='scratch'></a>\n",
    "## Scratch"
   ]
  },
  {
   "cell_type": "markdown",
   "metadata": {},
   "source": [
    "rate = df.iloc[0]['avg_vehicle_rate_kms']\n",
    "distance = df.iloc[0]['haversine_distance_km']\n",
    "time = distance/rate\n",
    "time = time.astype('timedelta64[s]')\n",
    "time\n",
    "\n",
    "print(df.iloc[0]['when_the_Jumpman_arrived_at_dropoff'])\n",
    "print(df.iloc[0]['when_the_Jumpman_arrived_at_dropoff'] - time)\n",
    "\n",
    "df['time_pickup_to_dropoff'] = df['haversine_distance_km']/df['avg_vehicle_rate_kms']\n",
    "df['time_pickup_to_dropoff'] = df['time_pickup_to_dropoff'].astype('timedelta64[s]')\n",
    "\n",
    "for i in df[df['when_the_Jumpman_left_pickup'].isna()].index:\n",
    "    #rate = df.iloc[i]['avg_vehicle_rate_kms']\n",
    "    #distance = df.iloc[i]['haversine_distance_km']\n",
    "    #time = (distance/rate).astype('timedelta64[s]')\n",
    "    #df.iloc[i]['when_the_Jumpman_left_pickup'] = (df.iloc[i]['when_the_Jumpman_arrived_at_dropoff'] - (df.iloc[0]['haversine_distance_km']/df.iloc[i]['avg_vehicle_rate_kms']).astype('timedelta64[s]'))\n",
    "    print(df.iloc[i]['when_the_Jumpman_arrived_at_dropoff'] - df.iloc[i])\n",
    "    \n",
    "    \n",
    "    \n",
    "    \n",
    "null_pickup = df[df['when_the_Jumpman_left_pickup'].isnull()].index.to_list()\n",
    "\n",
    "for i in null_pickup:\n",
    "    df.loc[i]['when_the_Jumpman_left_pickup'] = df.loc[i]['when_the_Jumpman_arrived_at_dropoff'] - df.loc[i]['time_pickup_to_dropoff']"
   ]
  },
  {
   "cell_type": "code",
   "execution_count": null,
   "metadata": {},
   "outputs": [],
   "source": []
  },
  {
   "cell_type": "code",
   "execution_count": null,
   "metadata": {},
   "outputs": [],
   "source": []
  },
  {
   "cell_type": "code",
   "execution_count": null,
   "metadata": {},
   "outputs": [],
   "source": []
  }
 ],
 "metadata": {
  "kernelspec": {
   "display_name": "Python 3",
   "language": "python",
   "name": "python3"
  },
  "language_info": {
   "codemirror_mode": {
    "name": "ipython",
    "version": 3
   },
   "file_extension": ".py",
   "mimetype": "text/x-python",
   "name": "python",
   "nbconvert_exporter": "python",
   "pygments_lexer": "ipython3",
   "version": "3.7.4"
  }
 },
 "nbformat": 4,
 "nbformat_minor": 4
}
